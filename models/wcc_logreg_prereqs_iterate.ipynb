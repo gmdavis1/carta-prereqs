{
 "cells": [
  {
   "cell_type": "markdown",
   "metadata": {
    "colab_type": "text",
    "id": "0tJvLhn_UJPs"
   },
   "source": [
    "# Libraries"
   ]
  },
  {
   "cell_type": "code",
   "execution_count": 1,
   "metadata": {
    "colab": {},
    "colab_type": "code",
    "id": "vIFgvkvmZtrG"
   },
   "outputs": [],
   "source": [
    "import numpy as np\n",
    "import pandas as pd\n",
    "import pickle\n",
    "import tqdm.auto as tqdm\n",
    "from pprint import pprint\n",
    "import collections\n",
    "import random\n",
    "import feather\n",
    "from sklearn import metrics"
   ]
  },
  {
   "cell_type": "markdown",
   "metadata": {
    "colab_type": "text",
    "id": "8arNKjjOT6v7"
   },
   "source": [
    "# Use restricted_wcc dataset (only courses from WCC, no summer, keep only row from last five years or from a student with a course in the last five years) from wrangling_restricted_wcc_dataset.ipynb"
   ]
  },
  {
   "cell_type": "code",
   "execution_count": 2,
   "metadata": {
    "scrolled": true
   },
   "outputs": [
    {
     "data": {
      "text/html": [
       "<div>\n",
       "<style scoped>\n",
       "    .dataframe tbody tr th:only-of-type {\n",
       "        vertical-align: middle;\n",
       "    }\n",
       "\n",
       "    .dataframe tbody tr th {\n",
       "        vertical-align: top;\n",
       "    }\n",
       "\n",
       "    .dataframe thead th {\n",
       "        text-align: right;\n",
       "    }\n",
       "</style>\n",
       "<table border=\"1\" class=\"dataframe\">\n",
       "  <thead>\n",
       "    <tr style=\"text-align: right;\">\n",
       "      <th></th>\n",
       "      <th>acad_career</th>\n",
       "      <th>strm</th>\n",
       "      <th>stdnt_enrl_status</th>\n",
       "      <th>unt_taken</th>\n",
       "      <th>unt_billing</th>\n",
       "      <th>crse_grade_input</th>\n",
       "      <th>earn_credit</th>\n",
       "      <th>emplid</th>\n",
       "      <th>subject</th>\n",
       "      <th>catalog_nbr</th>\n",
       "      <th>crse_acad_org</th>\n",
       "      <th>sex</th>\n",
       "      <th>gpa</th>\n",
       "      <th>grade_points</th>\n",
       "      <th>total_units</th>\n",
       "      <th>cum_grade_points</th>\n",
       "      <th>cum_units</th>\n",
       "      <th>overall_gpa</th>\n",
       "      <th>prior_term_gpa</th>\n",
       "      <th>course_name</th>\n",
       "    </tr>\n",
       "  </thead>\n",
       "  <tbody>\n",
       "    <tr>\n",
       "      <th>0</th>\n",
       "      <td>UG</td>\n",
       "      <td>1182.0</td>\n",
       "      <td>E</td>\n",
       "      <td>5.0</td>\n",
       "      <td>5.0</td>\n",
       "      <td>A</td>\n",
       "      <td>Y</td>\n",
       "      <td>$2a$15$.iQPCHeeuyLD3TIqJRk4j.LU0IjGYumSdFkAEUf...</td>\n",
       "      <td>MATH</td>\n",
       "      <td>51</td>\n",
       "      <td>MATH</td>\n",
       "      <td>M</td>\n",
       "      <td>4.0</td>\n",
       "      <td>72.0</td>\n",
       "      <td>18.0</td>\n",
       "      <td>72.0</td>\n",
       "      <td>18.0</td>\n",
       "      <td>4.000000</td>\n",
       "      <td>NaN</td>\n",
       "      <td>MATH51</td>\n",
       "    </tr>\n",
       "    <tr>\n",
       "      <th>1</th>\n",
       "      <td>UG</td>\n",
       "      <td>1182.0</td>\n",
       "      <td>E</td>\n",
       "      <td>0.0</td>\n",
       "      <td>0.0</td>\n",
       "      <td>None</td>\n",
       "      <td>N</td>\n",
       "      <td>$2a$15$.iQPCHeeuyLD3TIqJRk4j.LU0IjGYumSdFkAEUf...</td>\n",
       "      <td>CHEM</td>\n",
       "      <td>31X</td>\n",
       "      <td>CHEMISTRY</td>\n",
       "      <td>M</td>\n",
       "      <td>NaN</td>\n",
       "      <td>72.0</td>\n",
       "      <td>18.0</td>\n",
       "      <td>72.0</td>\n",
       "      <td>18.0</td>\n",
       "      <td>4.000000</td>\n",
       "      <td>NaN</td>\n",
       "      <td>CHEM31X</td>\n",
       "    </tr>\n",
       "    <tr>\n",
       "      <th>2</th>\n",
       "      <td>UG</td>\n",
       "      <td>1182.0</td>\n",
       "      <td>E</td>\n",
       "      <td>5.0</td>\n",
       "      <td>5.0</td>\n",
       "      <td>A</td>\n",
       "      <td>Y</td>\n",
       "      <td>$2a$15$.iQPCHeeuyLD3TIqJRk4j.LU0IjGYumSdFkAEUf...</td>\n",
       "      <td>CHEM</td>\n",
       "      <td>31X</td>\n",
       "      <td>CHEMISTRY</td>\n",
       "      <td>M</td>\n",
       "      <td>4.0</td>\n",
       "      <td>72.0</td>\n",
       "      <td>18.0</td>\n",
       "      <td>72.0</td>\n",
       "      <td>18.0</td>\n",
       "      <td>4.000000</td>\n",
       "      <td>NaN</td>\n",
       "      <td>CHEM31X</td>\n",
       "    </tr>\n",
       "    <tr>\n",
       "      <th>3</th>\n",
       "      <td>UG</td>\n",
       "      <td>1182.0</td>\n",
       "      <td>E</td>\n",
       "      <td>0.0</td>\n",
       "      <td>0.0</td>\n",
       "      <td>None</td>\n",
       "      <td>N</td>\n",
       "      <td>$2a$15$.iQPCHeeuyLD3TIqJRk4j.LU0IjGYumSdFkAEUf...</td>\n",
       "      <td>MATH</td>\n",
       "      <td>51</td>\n",
       "      <td>MATH</td>\n",
       "      <td>M</td>\n",
       "      <td>NaN</td>\n",
       "      <td>72.0</td>\n",
       "      <td>18.0</td>\n",
       "      <td>72.0</td>\n",
       "      <td>18.0</td>\n",
       "      <td>4.000000</td>\n",
       "      <td>NaN</td>\n",
       "      <td>MATH51</td>\n",
       "    </tr>\n",
       "    <tr>\n",
       "      <th>4</th>\n",
       "      <td>UG</td>\n",
       "      <td>1184.0</td>\n",
       "      <td>E</td>\n",
       "      <td>5.0</td>\n",
       "      <td>5.0</td>\n",
       "      <td>A</td>\n",
       "      <td>Y</td>\n",
       "      <td>$2a$15$.iQPCHeeuyLD3TIqJRk4j.LU0IjGYumSdFkAEUf...</td>\n",
       "      <td>CS</td>\n",
       "      <td>106X</td>\n",
       "      <td>COMPUTSCI</td>\n",
       "      <td>M</td>\n",
       "      <td>4.0</td>\n",
       "      <td>65.1</td>\n",
       "      <td>17.0</td>\n",
       "      <td>137.1</td>\n",
       "      <td>35.0</td>\n",
       "      <td>3.917143</td>\n",
       "      <td>4.0</td>\n",
       "      <td>CS106X</td>\n",
       "    </tr>\n",
       "    <tr>\n",
       "      <th>...</th>\n",
       "      <td>...</td>\n",
       "      <td>...</td>\n",
       "      <td>...</td>\n",
       "      <td>...</td>\n",
       "      <td>...</td>\n",
       "      <td>...</td>\n",
       "      <td>...</td>\n",
       "      <td>...</td>\n",
       "      <td>...</td>\n",
       "      <td>...</td>\n",
       "      <td>...</td>\n",
       "      <td>...</td>\n",
       "      <td>...</td>\n",
       "      <td>...</td>\n",
       "      <td>...</td>\n",
       "      <td>...</td>\n",
       "      <td>...</td>\n",
       "      <td>...</td>\n",
       "      <td>...</td>\n",
       "      <td>...</td>\n",
       "    </tr>\n",
       "    <tr>\n",
       "      <th>784350</th>\n",
       "      <td>UG</td>\n",
       "      <td>1202.0</td>\n",
       "      <td>E</td>\n",
       "      <td>5.0</td>\n",
       "      <td>5.0</td>\n",
       "      <td>B</td>\n",
       "      <td>Y</td>\n",
       "      <td>ZZCaHx+CP6JrUW8AJ/N+m9uPlGbsOEaeCC8uU50l/iVr9d...</td>\n",
       "      <td>CHEM</td>\n",
       "      <td>31A</td>\n",
       "      <td>CHEMISTRY</td>\n",
       "      <td>F</td>\n",
       "      <td>3.0</td>\n",
       "      <td>39.0</td>\n",
       "      <td>11.0</td>\n",
       "      <td>39.0</td>\n",
       "      <td>11.0</td>\n",
       "      <td>3.545455</td>\n",
       "      <td>NaN</td>\n",
       "      <td>CHEM31A</td>\n",
       "    </tr>\n",
       "    <tr>\n",
       "      <th>784351</th>\n",
       "      <td>UG</td>\n",
       "      <td>1202.0</td>\n",
       "      <td>E</td>\n",
       "      <td>0.0</td>\n",
       "      <td>0.0</td>\n",
       "      <td>None</td>\n",
       "      <td>N</td>\n",
       "      <td>ZZCaHx+CP6JrUW8AJ/N+m9uPlGbsOEaeCC8uU50l/iVr9d...</td>\n",
       "      <td>CHEM</td>\n",
       "      <td>31A</td>\n",
       "      <td>CHEMISTRY</td>\n",
       "      <td>F</td>\n",
       "      <td>NaN</td>\n",
       "      <td>39.0</td>\n",
       "      <td>11.0</td>\n",
       "      <td>39.0</td>\n",
       "      <td>11.0</td>\n",
       "      <td>3.545455</td>\n",
       "      <td>NaN</td>\n",
       "      <td>CHEM31A</td>\n",
       "    </tr>\n",
       "    <tr>\n",
       "      <th>784352</th>\n",
       "      <td>UG</td>\n",
       "      <td>1204.0</td>\n",
       "      <td>E</td>\n",
       "      <td>5.0</td>\n",
       "      <td>5.0</td>\n",
       "      <td>None</td>\n",
       "      <td>Y</td>\n",
       "      <td>ZZCaHx+CP6JrUW8AJ/N+m9uPlGbsOEaeCC8uU50l/iVr9d...</td>\n",
       "      <td>PSYCH</td>\n",
       "      <td>1</td>\n",
       "      <td>PSYCHOLOGY</td>\n",
       "      <td>F</td>\n",
       "      <td>NaN</td>\n",
       "      <td>NaN</td>\n",
       "      <td>NaN</td>\n",
       "      <td>NaN</td>\n",
       "      <td>NaN</td>\n",
       "      <td>NaN</td>\n",
       "      <td>NaN</td>\n",
       "      <td>PSYCH1</td>\n",
       "    </tr>\n",
       "    <tr>\n",
       "      <th>784353</th>\n",
       "      <td>UG</td>\n",
       "      <td>1204.0</td>\n",
       "      <td>E</td>\n",
       "      <td>5.0</td>\n",
       "      <td>5.0</td>\n",
       "      <td>None</td>\n",
       "      <td>Y</td>\n",
       "      <td>ZZCaHx+CP6JrUW8AJ/N+m9uPlGbsOEaeCC8uU50l/iVr9d...</td>\n",
       "      <td>CHEM</td>\n",
       "      <td>31B</td>\n",
       "      <td>CHEMISTRY</td>\n",
       "      <td>F</td>\n",
       "      <td>NaN</td>\n",
       "      <td>NaN</td>\n",
       "      <td>NaN</td>\n",
       "      <td>NaN</td>\n",
       "      <td>NaN</td>\n",
       "      <td>NaN</td>\n",
       "      <td>NaN</td>\n",
       "      <td>CHEM31B</td>\n",
       "    </tr>\n",
       "    <tr>\n",
       "      <th>784354</th>\n",
       "      <td>UG</td>\n",
       "      <td>1204.0</td>\n",
       "      <td>E</td>\n",
       "      <td>0.0</td>\n",
       "      <td>0.0</td>\n",
       "      <td>None</td>\n",
       "      <td>N</td>\n",
       "      <td>ZZCaHx+CP6JrUW8AJ/N+m9uPlGbsOEaeCC8uU50l/iVr9d...</td>\n",
       "      <td>CHEM</td>\n",
       "      <td>31B</td>\n",
       "      <td>CHEMISTRY</td>\n",
       "      <td>F</td>\n",
       "      <td>NaN</td>\n",
       "      <td>NaN</td>\n",
       "      <td>NaN</td>\n",
       "      <td>NaN</td>\n",
       "      <td>NaN</td>\n",
       "      <td>NaN</td>\n",
       "      <td>NaN</td>\n",
       "      <td>CHEM31B</td>\n",
       "    </tr>\n",
       "  </tbody>\n",
       "</table>\n",
       "<p>317636 rows × 20 columns</p>\n",
       "</div>"
      ],
      "text/plain": [
       "       acad_career    strm stdnt_enrl_status  unt_taken  unt_billing  \\\n",
       "0               UG  1182.0                 E        5.0          5.0   \n",
       "1               UG  1182.0                 E        0.0          0.0   \n",
       "2               UG  1182.0                 E        5.0          5.0   \n",
       "3               UG  1182.0                 E        0.0          0.0   \n",
       "4               UG  1184.0                 E        5.0          5.0   \n",
       "...            ...     ...               ...        ...          ...   \n",
       "784350          UG  1202.0                 E        5.0          5.0   \n",
       "784351          UG  1202.0                 E        0.0          0.0   \n",
       "784352          UG  1204.0                 E        5.0          5.0   \n",
       "784353          UG  1204.0                 E        5.0          5.0   \n",
       "784354          UG  1204.0                 E        0.0          0.0   \n",
       "\n",
       "       crse_grade_input earn_credit  \\\n",
       "0                     A           Y   \n",
       "1                  None           N   \n",
       "2                     A           Y   \n",
       "3                  None           N   \n",
       "4                     A           Y   \n",
       "...                 ...         ...   \n",
       "784350                B           Y   \n",
       "784351             None           N   \n",
       "784352             None           Y   \n",
       "784353             None           Y   \n",
       "784354             None           N   \n",
       "\n",
       "                                                   emplid subject catalog_nbr  \\\n",
       "0       $2a$15$.iQPCHeeuyLD3TIqJRk4j.LU0IjGYumSdFkAEUf...    MATH          51   \n",
       "1       $2a$15$.iQPCHeeuyLD3TIqJRk4j.LU0IjGYumSdFkAEUf...    CHEM         31X   \n",
       "2       $2a$15$.iQPCHeeuyLD3TIqJRk4j.LU0IjGYumSdFkAEUf...    CHEM         31X   \n",
       "3       $2a$15$.iQPCHeeuyLD3TIqJRk4j.LU0IjGYumSdFkAEUf...    MATH          51   \n",
       "4       $2a$15$.iQPCHeeuyLD3TIqJRk4j.LU0IjGYumSdFkAEUf...      CS        106X   \n",
       "...                                                   ...     ...         ...   \n",
       "784350  ZZCaHx+CP6JrUW8AJ/N+m9uPlGbsOEaeCC8uU50l/iVr9d...    CHEM         31A   \n",
       "784351  ZZCaHx+CP6JrUW8AJ/N+m9uPlGbsOEaeCC8uU50l/iVr9d...    CHEM         31A   \n",
       "784352  ZZCaHx+CP6JrUW8AJ/N+m9uPlGbsOEaeCC8uU50l/iVr9d...   PSYCH           1   \n",
       "784353  ZZCaHx+CP6JrUW8AJ/N+m9uPlGbsOEaeCC8uU50l/iVr9d...    CHEM         31B   \n",
       "784354  ZZCaHx+CP6JrUW8AJ/N+m9uPlGbsOEaeCC8uU50l/iVr9d...    CHEM         31B   \n",
       "\n",
       "       crse_acad_org sex  gpa  grade_points  total_units  cum_grade_points  \\\n",
       "0               MATH   M  4.0          72.0         18.0              72.0   \n",
       "1          CHEMISTRY   M  NaN          72.0         18.0              72.0   \n",
       "2          CHEMISTRY   M  4.0          72.0         18.0              72.0   \n",
       "3               MATH   M  NaN          72.0         18.0              72.0   \n",
       "4          COMPUTSCI   M  4.0          65.1         17.0             137.1   \n",
       "...              ...  ..  ...           ...          ...               ...   \n",
       "784350     CHEMISTRY   F  3.0          39.0         11.0              39.0   \n",
       "784351     CHEMISTRY   F  NaN          39.0         11.0              39.0   \n",
       "784352    PSYCHOLOGY   F  NaN           NaN          NaN               NaN   \n",
       "784353     CHEMISTRY   F  NaN           NaN          NaN               NaN   \n",
       "784354     CHEMISTRY   F  NaN           NaN          NaN               NaN   \n",
       "\n",
       "        cum_units  overall_gpa  prior_term_gpa course_name  \n",
       "0            18.0     4.000000             NaN      MATH51  \n",
       "1            18.0     4.000000             NaN     CHEM31X  \n",
       "2            18.0     4.000000             NaN     CHEM31X  \n",
       "3            18.0     4.000000             NaN      MATH51  \n",
       "4            35.0     3.917143             4.0      CS106X  \n",
       "...           ...          ...             ...         ...  \n",
       "784350       11.0     3.545455             NaN     CHEM31A  \n",
       "784351       11.0     3.545455             NaN     CHEM31A  \n",
       "784352        NaN          NaN             NaN      PSYCH1  \n",
       "784353        NaN          NaN             NaN     CHEM31B  \n",
       "784354        NaN          NaN             NaN     CHEM31B  \n",
       "\n",
       "[317636 rows x 20 columns]"
      ]
     },
     "execution_count": 2,
     "metadata": {},
     "output_type": "execute_result"
    }
   ],
   "source": [
    "WCC_PD_PATH = \"../data/wcc_pd.pkl\"\n",
    "\n",
    "with open(WCC_PD_PATH, \"rb\") as file:\n",
    "    raw_data = pickle.load(file)\n",
    "    \n",
    "raw_data"
   ]
  },
  {
   "cell_type": "code",
   "execution_count": 3,
   "metadata": {},
   "outputs": [
    {
     "name": "stdout",
     "output_type": "stream",
     "text": [
      "{'AA100',\n",
      " 'AA200',\n",
      " 'AA210A',\n",
      " 'AA212',\n",
      " 'AA214A',\n",
      " 'AA214B',\n",
      " 'AA228',\n",
      " 'AA229',\n",
      " 'AA240A',\n",
      " 'AA240B',\n",
      " 'AA241A',\n",
      " 'AA241B',\n",
      " 'AA241X',\n",
      " 'AA242A',\n",
      " 'AA256',\n",
      " 'AA270',\n",
      " 'AA271A',\n",
      " 'AA272C',\n",
      " 'AA279A',\n",
      " 'AA279B',\n",
      " 'AA280',\n",
      " 'APPPHYS220',\n",
      " 'APPPHYS272',\n",
      " 'APPPHYS273',\n",
      " 'BIO101',\n",
      " 'BIO104',\n",
      " 'BIO107',\n",
      " 'BIO115',\n",
      " 'BIO144',\n",
      " 'BIO153',\n",
      " 'BIO156',\n",
      " 'BIO158',\n",
      " 'BIO163',\n",
      " 'BIO173',\n",
      " 'BIO188',\n",
      " 'BIO189',\n",
      " 'BIO234',\n",
      " 'BIO239',\n",
      " 'BIO256',\n",
      " 'BIO258',\n",
      " 'BIO41',\n",
      " 'BIO42',\n",
      " 'BIO43',\n",
      " 'BIO44X',\n",
      " 'BIO44Y',\n",
      " 'BIOE101',\n",
      " 'BIOE103',\n",
      " 'BIOE103B',\n",
      " 'BIOE123',\n",
      " 'BIOE141A',\n",
      " 'BIOE141B',\n",
      " 'BIOE201C',\n",
      " 'BIOE210',\n",
      " 'BIOE211',\n",
      " 'BIOE212',\n",
      " 'BIOE244',\n",
      " 'BIOE280',\n",
      " 'BIOE300A',\n",
      " 'BIOE301C',\n",
      " 'BIOE311',\n",
      " 'BIOE313',\n",
      " 'BIOE355',\n",
      " 'BIOE41',\n",
      " 'BIOE42',\n",
      " 'BIOE44',\n",
      " 'BIOE454',\n",
      " 'BIOHOPK163H',\n",
      " 'BIOHOPK167H',\n",
      " 'BIOHOPK263H',\n",
      " 'BIOMEDIN156',\n",
      " 'BIOMEDIN210',\n",
      " 'BIOMEDIN212',\n",
      " 'BIOMEDIN214',\n",
      " 'BIOMEDIN215',\n",
      " 'BIOMEDIN217',\n",
      " 'BIOMEDIN218',\n",
      " 'BIOMEDIN224',\n",
      " 'BIOMEDIN225',\n",
      " 'BIOMEDIN256',\n",
      " 'BIOMEDIN260',\n",
      " 'BIOMEDIN371',\n",
      " 'BIOPHYS311',\n",
      " 'BIOPHYS371',\n",
      " 'CEE101A',\n",
      " 'CEE101B',\n",
      " 'CEE101C',\n",
      " 'CEE160',\n",
      " 'CEE161A',\n",
      " 'CEE164',\n",
      " 'CEE166A',\n",
      " 'CEE166B',\n",
      " 'CEE169',\n",
      " 'CEE171',\n",
      " 'CEE172',\n",
      " 'CEE172A',\n",
      " 'CEE176B',\n",
      " 'CEE177',\n",
      " 'CEE178',\n",
      " 'CEE180',\n",
      " 'CEE181',\n",
      " 'CEE182',\n",
      " 'CEE183',\n",
      " 'CEE195',\n",
      " 'CEE200C',\n",
      " 'CEE203',\n",
      " 'CEE205B',\n",
      " 'CEE209',\n",
      " 'CEE260A',\n",
      " 'CEE262A',\n",
      " 'CEE262C',\n",
      " 'CEE262D',\n",
      " 'CEE262E',\n",
      " 'CEE262F',\n",
      " 'CEE263A',\n",
      " 'CEE263B',\n",
      " 'CEE265D',\n",
      " 'CEE266A',\n",
      " 'CEE270',\n",
      " 'CEE270B',\n",
      " 'CEE271A',\n",
      " 'CEE271B',\n",
      " 'CEE273',\n",
      " 'CEE274A',\n",
      " 'CEE274B',\n",
      " 'CEE274D',\n",
      " 'CEE276',\n",
      " 'CEE278A',\n",
      " 'CEE278C',\n",
      " 'CEE280',\n",
      " 'CEE283',\n",
      " 'CEE285A',\n",
      " 'CEE285B',\n",
      " 'CEE288',\n",
      " 'CEE289',\n",
      " 'CEE293',\n",
      " 'CEE297M',\n",
      " 'CEE363B',\n",
      " 'CEE70',\n",
      " 'CHEM110',\n",
      " 'CHEM130',\n",
      " 'CHEM131',\n",
      " 'CHEM132',\n",
      " 'CHEM134',\n",
      " 'CHEM135',\n",
      " 'CHEM137',\n",
      " 'CHEM151',\n",
      " 'CHEM153',\n",
      " 'CHEM171',\n",
      " 'CHEM173',\n",
      " 'CHEM174',\n",
      " 'CHEM175',\n",
      " 'CHEM176',\n",
      " 'CHEM181',\n",
      " 'CHEM183',\n",
      " 'CHEM184',\n",
      " 'CHEM185',\n",
      " 'CHEM187',\n",
      " 'CHEM187A',\n",
      " 'CHEM190',\n",
      " 'CHEM221',\n",
      " 'CHEM223',\n",
      " 'CHEM225',\n",
      " 'CHEM253',\n",
      " 'CHEM271',\n",
      " 'CHEM275',\n",
      " 'CHEM287A',\n",
      " 'CHEM297',\n",
      " 'CHEM31A',\n",
      " 'CHEM31AC',\n",
      " 'CHEM31B',\n",
      " 'CHEM31X',\n",
      " 'CHEM33',\n",
      " 'CHEM33C',\n",
      " 'CHEM35',\n",
      " 'CHEMENG100',\n",
      " 'CHEMENG110',\n",
      " 'CHEMENG120A',\n",
      " 'CHEMENG120B',\n",
      " 'CHEMENG140',\n",
      " 'CHEMENG142',\n",
      " 'CHEMENG150',\n",
      " 'CHEMENG160',\n",
      " 'CHEMENG162',\n",
      " 'CHEMENG170',\n",
      " 'CHEMENG174',\n",
      " 'CHEMENG181',\n",
      " 'CHEMENG183',\n",
      " 'CHEMENG185A',\n",
      " 'CHEMENG185B',\n",
      " 'CHEMENG20',\n",
      " 'CHEMENG240',\n",
      " 'CHEMENG242',\n",
      " 'CHEMENG25B',\n",
      " 'CHEMENG262',\n",
      " 'CHEMENG274',\n",
      " 'CHEMENG281',\n",
      " 'CHEMENG300',\n",
      " 'CHEMENG310',\n",
      " 'CHEMENG345',\n",
      " 'CHEMENG355',\n",
      " 'CHEMENG432',\n",
      " 'CHEMENG454',\n",
      " 'CHEMENG456',\n",
      " 'CME100',\n",
      " 'CME100A',\n",
      " 'CME102',\n",
      " 'CME102A',\n",
      " 'CME103',\n",
      " 'CME104',\n",
      " 'CME104A',\n",
      " 'CME106',\n",
      " 'CME108',\n",
      " 'CME181',\n",
      " 'CME192',\n",
      " 'CME195',\n",
      " 'CME196',\n",
      " 'CME200',\n",
      " 'CME204',\n",
      " 'CME206',\n",
      " 'CME207',\n",
      " 'CME211',\n",
      " 'CME212',\n",
      " 'CME213',\n",
      " 'CME249',\n",
      " 'CME250',\n",
      " 'CME257',\n",
      " 'CME263',\n",
      " 'CME302',\n",
      " 'CME303',\n",
      " 'CME304',\n",
      " 'CME305',\n",
      " 'CME306',\n",
      " 'CME309',\n",
      " 'CME330',\n",
      " 'CME338',\n",
      " 'CME364A',\n",
      " 'CME364B',\n",
      " 'CME371',\n",
      " 'COMM106',\n",
      " 'COMM108',\n",
      " 'COMM113',\n",
      " 'COMM122',\n",
      " 'COMM177A',\n",
      " 'COMM206',\n",
      " 'COMM208',\n",
      " 'COMM213',\n",
      " 'COMM222',\n",
      " 'COMM273D',\n",
      " 'COMM274D',\n",
      " 'COMM277A',\n",
      " 'CS102',\n",
      " 'CS103',\n",
      " 'CS103A',\n",
      " 'CS106A',\n",
      " 'CS106B',\n",
      " 'CS106L',\n",
      " 'CS106X',\n",
      " 'CS107',\n",
      " 'CS107E',\n",
      " 'CS108',\n",
      " 'CS109',\n",
      " 'CS109L',\n",
      " 'CS110',\n",
      " 'CS124',\n",
      " 'CS131',\n",
      " 'CS140',\n",
      " 'CS142',\n",
      " 'CS143',\n",
      " 'CS144',\n",
      " 'CS145',\n",
      " 'CS147',\n",
      " 'CS148',\n",
      " 'CS154',\n",
      " 'CS155',\n",
      " 'CS157',\n",
      " 'CS161',\n",
      " 'CS166',\n",
      " 'CS167',\n",
      " 'CS168',\n",
      " 'CS173',\n",
      " 'CS181',\n",
      " 'CS190',\n",
      " 'CS193A',\n",
      " 'CS193P',\n",
      " 'CS193W',\n",
      " 'CS194',\n",
      " 'CS194H',\n",
      " 'CS205A',\n",
      " 'CS210A',\n",
      " 'CS210B',\n",
      " 'CS211',\n",
      " 'CS221',\n",
      " 'CS223A',\n",
      " 'CS224D',\n",
      " 'CS224N',\n",
      " 'CS224S',\n",
      " 'CS224U',\n",
      " 'CS225A',\n",
      " 'CS227B',\n",
      " 'CS228',\n",
      " 'CS229',\n",
      " 'CS229T',\n",
      " 'CS231N',\n",
      " 'CS232',\n",
      " 'CS233',\n",
      " 'CS238',\n",
      " 'CS239',\n",
      " 'CS240',\n",
      " 'CS240H',\n",
      " 'CS241',\n",
      " 'CS242',\n",
      " 'CS243',\n",
      " 'CS244',\n",
      " 'CS244B',\n",
      " 'CS245',\n",
      " 'CS246',\n",
      " 'CS246H',\n",
      " 'CS247',\n",
      " 'CS247L',\n",
      " 'CS248',\n",
      " 'CS249A',\n",
      " 'CS251',\n",
      " 'CS251P',\n",
      " 'CS261',\n",
      " 'CS262',\n",
      " 'CS263',\n",
      " 'CS265',\n",
      " 'CS267',\n",
      " 'CS272',\n",
      " 'CS274',\n",
      " 'CS275',\n",
      " 'CS276',\n",
      " 'CS277',\n",
      " 'CS279',\n",
      " 'CS294S',\n",
      " 'CS295',\n",
      " 'CS316',\n",
      " 'CS327A',\n",
      " 'CS334A',\n",
      " 'CS344',\n",
      " 'CS346',\n",
      " 'CS348A',\n",
      " 'CS348B',\n",
      " 'CS358',\n",
      " 'CS364A',\n",
      " 'CS367',\n",
      " 'CS371',\n",
      " 'CS374',\n",
      " 'CS376',\n",
      " 'CS377M',\n",
      " 'CS377U',\n",
      " 'CS377W',\n",
      " 'CS41',\n",
      " 'CS42',\n",
      " 'CS448B',\n",
      " 'CS448J',\n",
      " 'CS448Z',\n",
      " 'CS9',\n",
      " 'CS90SI',\n",
      " 'CS92SI',\n",
      " 'EARTHSYS101',\n",
      " 'EARTHSYS111',\n",
      " 'EARTHSYS112',\n",
      " 'EARTHSYS146A',\n",
      " 'EARTHSYS146B',\n",
      " 'EARTHSYS151',\n",
      " 'EARTHSYS158',\n",
      " 'EARTHSYS164',\n",
      " 'EARTHSYS191',\n",
      " 'EARTHSYS246A',\n",
      " 'EARTHSYS246B',\n",
      " 'EARTHSYS251',\n",
      " 'EARTHSYS258',\n",
      " 'EARTHSYS291',\n",
      " 'ECON1',\n",
      " 'ECON101',\n",
      " 'ECON102A',\n",
      " 'ECON102B',\n",
      " 'ECON102C',\n",
      " 'ECON103',\n",
      " 'ECON107',\n",
      " 'ECON110',\n",
      " 'ECON111',\n",
      " 'ECON112',\n",
      " 'ECON113',\n",
      " 'ECON116',\n",
      " 'ECON118',\n",
      " 'ECON121',\n",
      " 'ECON124',\n",
      " 'ECON125',\n",
      " 'ECON126',\n",
      " 'ECON127',\n",
      " 'ECON128',\n",
      " 'ECON135',\n",
      " 'ECON136',\n",
      " 'ECON137',\n",
      " 'ECON140',\n",
      " 'ECON141',\n",
      " 'ECON143',\n",
      " 'ECON144',\n",
      " 'ECON145',\n",
      " 'ECON146',\n",
      " 'ECON149',\n",
      " 'ECON150',\n",
      " 'ECON153',\n",
      " 'ECON154',\n",
      " 'ECON155',\n",
      " 'ECON157',\n",
      " 'ECON158',\n",
      " 'ECON159',\n",
      " 'ECON165',\n",
      " 'ECON166',\n",
      " 'ECON178',\n",
      " 'ECON179',\n",
      " 'ECON183',\n",
      " 'ECON226',\n",
      " 'ECON5',\n",
      " 'ECON50',\n",
      " 'ECON51',\n",
      " 'ECON52',\n",
      " 'EDUC257',\n",
      " 'EE101A',\n",
      " 'EE101B',\n",
      " 'EE102A',\n",
      " 'EE102B',\n",
      " 'EE103',\n",
      " 'EE107',\n",
      " 'EE108',\n",
      " 'EE109',\n",
      " 'EE114',\n",
      " 'EE116',\n",
      " 'EE118',\n",
      " 'EE122A',\n",
      " 'EE122B',\n",
      " 'EE124',\n",
      " 'EE133',\n",
      " 'EE134',\n",
      " 'EE136',\n",
      " 'EE142',\n",
      " 'EE153',\n",
      " 'EE155',\n",
      " 'EE169',\n",
      " 'EE178',\n",
      " 'EE179',\n",
      " 'EE180',\n",
      " 'EE212',\n",
      " 'EE213',\n",
      " 'EE214A',\n",
      " 'EE214B',\n",
      " 'EE216',\n",
      " 'EE222',\n",
      " 'EE223',\n",
      " 'EE233',\n",
      " 'EE234',\n",
      " 'EE236A',\n",
      " 'EE236B',\n",
      " 'EE236C',\n",
      " 'EE237',\n",
      " 'EE242',\n",
      " 'EE243',\n",
      " 'EE247',\n",
      " 'EE251',\n",
      " 'EE252',\n",
      " 'EE253',\n",
      " 'EE254',\n",
      " 'EE255',\n",
      " 'EE261',\n",
      " 'EE262',\n",
      " 'EE263',\n",
      " 'EE264',\n",
      " 'EE266',\n",
      " 'EE271',\n",
      " 'EE273',\n",
      " 'EE278',\n",
      " 'EE279',\n",
      " 'EE282',\n",
      " 'EE284',\n",
      " 'EE292L',\n",
      " 'EE293B',\n",
      " 'EE303',\n",
      " 'EE304',\n",
      " 'EE308',\n",
      " 'EE311',\n",
      " 'EE314A',\n",
      " 'EE315',\n",
      " 'EE316',\n",
      " 'EE320',\n",
      " 'EE323',\n",
      " 'EE328',\n",
      " 'EE329',\n",
      " 'EE336',\n",
      " 'EE346',\n",
      " 'EE349',\n",
      " 'EE355',\n",
      " 'EE356A',\n",
      " 'EE356B',\n",
      " 'EE359',\n",
      " 'EE364A',\n",
      " 'EE364B',\n",
      " 'EE368',\n",
      " 'EE369A',\n",
      " 'EE369B',\n",
      " 'EE372',\n",
      " 'EE373A',\n",
      " 'EE376A',\n",
      " 'EE376B',\n",
      " 'EE376C',\n",
      " 'EE376D',\n",
      " 'EE377',\n",
      " 'EE378A',\n",
      " 'EE378B',\n",
      " 'EE379',\n",
      " 'EE382C',\n",
      " 'EE384A',\n",
      " 'EE388',\n",
      " 'EE392AA',\n",
      " 'EE392T',\n",
      " 'EE412',\n",
      " 'EE42',\n",
      " 'EE46',\n",
      " 'EE469B',\n",
      " 'EE47',\n",
      " 'EE65',\n",
      " 'ENERGY101',\n",
      " 'ENERGY102',\n",
      " 'ENERGY104',\n",
      " 'ENERGY160',\n",
      " 'ENERGY171',\n",
      " 'ENERGY191',\n",
      " 'ENERGY212',\n",
      " 'ENERGY221',\n",
      " 'ENERGY222',\n",
      " 'ENERGY223',\n",
      " 'ENERGY271',\n",
      " 'ENERGY291',\n",
      " 'ENERGY293B',\n",
      " 'ENERGY293C',\n",
      " 'ENERGY295',\n",
      " 'ENGR10',\n",
      " 'ENGR105',\n",
      " 'ENGR14',\n",
      " 'ENGR15',\n",
      " 'ENGR154',\n",
      " 'ENGR155A',\n",
      " 'ENGR155B',\n",
      " 'ENGR155C',\n",
      " 'ENGR20',\n",
      " 'ENGR205',\n",
      " 'ENGR207B',\n",
      " 'ENGR209A',\n",
      " 'ENGR240',\n",
      " 'ENGR25B',\n",
      " 'ENGR30',\n",
      " 'ENGR40',\n",
      " 'ENGR40M',\n",
      " 'ENGR50',\n",
      " 'ENGR62',\n",
      " 'ESS112',\n",
      " 'ESS146A',\n",
      " 'ESS151',\n",
      " 'ESS158',\n",
      " 'ESS220',\n",
      " 'ESS221',\n",
      " 'ESS246A',\n",
      " 'ESS246B',\n",
      " 'ESS251',\n",
      " 'ESS258',\n",
      " 'GENE217',\n",
      " 'GENE224',\n",
      " 'GEOPHYS110',\n",
      " 'GEOPHYS120',\n",
      " 'GEOPHYS146A',\n",
      " 'GEOPHYS162',\n",
      " 'GEOPHYS183',\n",
      " 'GEOPHYS220',\n",
      " 'GEOPHYS222',\n",
      " 'GEOPHYS223',\n",
      " 'GEOPHYS224',\n",
      " 'GEOPHYS251',\n",
      " 'GEOPHYS265',\n",
      " 'GEOPHYS281',\n",
      " 'GS102',\n",
      " 'GS103',\n",
      " 'GS104',\n",
      " 'GS105',\n",
      " 'GS110',\n",
      " 'GS111',\n",
      " 'GS151',\n",
      " 'GS171',\n",
      " 'GS180',\n",
      " 'GS185',\n",
      " 'GS190',\n",
      " 'GS252',\n",
      " 'GS253',\n",
      " 'GS255',\n",
      " 'GS270',\n",
      " 'GS4',\n",
      " 'GS90',\n",
      " 'HISTORY103D',\n",
      " 'HRP256',\n",
      " 'HUMBIO112',\n",
      " 'HUMBIO124C',\n",
      " 'HUMBIO128',\n",
      " 'HUMBIO129S',\n",
      " 'HUMBIO136',\n",
      " 'HUMBIO142',\n",
      " 'HUMBIO151R',\n",
      " 'HUMBIO157',\n",
      " 'HUMBIO163',\n",
      " 'HUMBIO2A',\n",
      " 'HUMBIO3A',\n",
      " 'HUMBIO3B',\n",
      " 'HUMBIO3Y',\n",
      " 'HUMBIO4A',\n",
      " 'IMMUNOL207',\n",
      " 'IPS203',\n",
      " 'IPS204B',\n",
      " 'IPS207',\n",
      " 'LINGUIST1',\n",
      " 'LINGUIST105',\n",
      " 'LINGUIST120',\n",
      " 'LINGUIST130A',\n",
      " 'LINGUIST130B',\n",
      " 'LINGUIST131',\n",
      " 'LINGUIST180',\n",
      " 'LINGUIST188',\n",
      " 'LINGUIST205A',\n",
      " 'LINGUIST210A',\n",
      " 'LINGUIST222A',\n",
      " 'LINGUIST222B',\n",
      " 'LINGUIST230A',\n",
      " 'LINGUIST230B',\n",
      " 'LINGUIST250',\n",
      " 'LINGUIST255E',\n",
      " 'LINGUIST280',\n",
      " 'LINGUIST284',\n",
      " 'LINGUIST286',\n",
      " 'LINGUIST288',\n",
      " 'LINGUIST289',\n",
      " 'MATH104',\n",
      " 'MATH106',\n",
      " 'MATH107',\n",
      " 'MATH108',\n",
      " 'MATH109',\n",
      " 'MATH113',\n",
      " 'MATH114',\n",
      " 'MATH115',\n",
      " 'MATH116',\n",
      " 'MATH118',\n",
      " 'MATH120',\n",
      " 'MATH121',\n",
      " 'MATH122',\n",
      " 'MATH131P',\n",
      " 'MATH132',\n",
      " 'MATH136',\n",
      " 'MATH137',\n",
      " 'MATH138',\n",
      " 'MATH143',\n",
      " 'MATH145',\n",
      " 'MATH146',\n",
      " 'MATH147',\n",
      " 'MATH148',\n",
      " 'MATH151',\n",
      " 'MATH154',\n",
      " 'MATH159',\n",
      " 'MATH162',\n",
      " 'MATH171',\n",
      " 'MATH172',\n",
      " 'MATH173',\n",
      " 'MATH175',\n",
      " 'MATH180',\n",
      " 'MATH19',\n",
      " 'MATH20',\n",
      " 'MATH205A',\n",
      " 'MATH205B',\n",
      " 'MATH21',\n",
      " 'MATH210A',\n",
      " 'MATH210B',\n",
      " 'MATH210C',\n",
      " 'MATH215A',\n",
      " 'MATH215B',\n",
      " 'MATH216A',\n",
      " 'MATH220',\n",
      " 'MATH226',\n",
      " 'MATH230A',\n",
      " 'MATH230B',\n",
      " 'MATH230C',\n",
      " 'MATH234',\n",
      " 'MATH236',\n",
      " 'MATH238',\n",
      " 'MATH239',\n",
      " 'MATH244',\n",
      " 'MATH248',\n",
      " 'MATH41',\n",
      " 'MATH42',\n",
      " 'MATH51',\n",
      " 'MATH51H',\n",
      " 'MATH51M',\n",
      " 'MATH52',\n",
      " 'MATH52H',\n",
      " 'MATH53',\n",
      " 'MATH53H',\n",
      " 'MATSCI151',\n",
      " 'MATSCI152',\n",
      " 'MATSCI163',\n",
      " 'MATSCI164',\n",
      " 'MATSCI173',\n",
      " 'MATSCI190',\n",
      " 'MATSCI193',\n",
      " 'MATSCI195',\n",
      " 'MATSCI196',\n",
      " 'MATSCI198',\n",
      " 'MATSCI199',\n",
      " 'MATSCI203',\n",
      " 'MATSCI205',\n",
      " 'MATSCI206',\n",
      " 'MATSCI208',\n",
      " 'MATSCI209',\n",
      " 'MATSCI210',\n",
      " 'MATSCI251',\n",
      " 'MATSCI320',\n",
      " 'MATSCI321',\n",
      " 'MATSCI322',\n",
      " 'MATSCI358',\n",
      " 'MCS100',\n",
      " 'ME101',\n",
      " 'ME105',\n",
      " 'ME112',\n",
      " 'ME113',\n",
      " 'ME115A',\n",
      " 'ME115B',\n",
      " 'ME116M',\n",
      " 'ME131A',\n",
      " 'ME131B',\n",
      " 'ME140',\n",
      " 'ME161',\n",
      " 'ME181',\n",
      " 'ME202',\n",
      " 'ME203',\n",
      " 'ME204A',\n",
      " 'ME204B',\n",
      " 'ME210',\n",
      " 'ME216A',\n",
      " 'ME216B',\n",
      " 'ME216C',\n",
      " 'ME227',\n",
      " 'ME250',\n",
      " 'ME260',\n",
      " 'ME261',\n",
      " 'ME262',\n",
      " 'ME271',\n",
      " 'ME280',\n",
      " 'ME300A',\n",
      " 'ME300B',\n",
      " 'ME300C',\n",
      " 'ME309',\n",
      " 'ME318',\n",
      " 'ME325',\n",
      " 'ME335A',\n",
      " 'ME346A',\n",
      " 'ME351A',\n",
      " 'ME351B',\n",
      " 'ME352C',\n",
      " 'ME70',\n",
      " 'ME80',\n",
      " 'MI185',\n",
      " 'MI285',\n",
      " 'MS&E111',\n",
      " 'MS&E112',\n",
      " 'MS&E120',\n",
      " 'MS&E121',\n",
      " 'MS&E125',\n",
      " 'MS&E130',\n",
      " 'MS&E145',\n",
      " 'MS&E146',\n",
      " 'MS&E201',\n",
      " 'MS&E211',\n",
      " 'MS&E212',\n",
      " 'MS&E220',\n",
      " 'MS&E221',\n",
      " 'MS&E226',\n",
      " 'MS&E233',\n",
      " 'MS&E235',\n",
      " 'MS&E241',\n",
      " 'MS&E243',\n",
      " 'MS&E245A',\n",
      " 'MS&E245B',\n",
      " 'MS&E245G',\n",
      " 'MS&E246',\n",
      " 'MS&E251',\n",
      " 'MS&E252',\n",
      " 'MS&E260',\n",
      " 'MS&E261',\n",
      " 'MS&E262',\n",
      " 'MS&E268',\n",
      " 'MS&E294',\n",
      " 'MS&E295',\n",
      " 'MS&E310',\n",
      " 'MS&E311',\n",
      " 'MS&E317',\n",
      " 'MS&E319',\n",
      " 'MS&E321',\n",
      " 'MS&E322',\n",
      " 'MS&E332',\n",
      " 'MS&E334',\n",
      " 'MS&E351',\n",
      " 'MS&E352',\n",
      " 'MS&E355',\n",
      " 'MS&E453',\n",
      " 'MS&E454',\n",
      " 'MUSIC320A',\n",
      " 'MUSIC320B',\n",
      " 'MUSIC420A',\n",
      " 'MUSIC421A',\n",
      " 'MUSIC422',\n",
      " 'MUSIC424',\n",
      " 'OSPBER40M',\n",
      " 'OSPKYOTO40M',\n",
      " 'OSPPARIS40M',\n",
      " 'OSPPARIS40P',\n",
      " 'OSPSANTG130X',\n",
      " 'PHIL1',\n",
      " 'PHIL102',\n",
      " 'PHIL107B',\n",
      " 'PHIL150',\n",
      " 'PHIL150X',\n",
      " 'PHIL151',\n",
      " 'PHIL152',\n",
      " 'PHIL154',\n",
      " 'PHIL160A',\n",
      " 'PHIL162',\n",
      " 'PHIL166',\n",
      " 'PHIL170',\n",
      " 'PHIL173B',\n",
      " 'PHIL175',\n",
      " 'PHIL176',\n",
      " 'PHIL180',\n",
      " 'PHIL180A',\n",
      " 'PHIL181',\n",
      " 'PHIL182',\n",
      " 'PHIL184',\n",
      " 'PHIL186',\n",
      " 'PHIL187',\n",
      " 'PHIL194J',\n",
      " 'PHIL251',\n",
      " 'PHIL252',\n",
      " 'PHIL254',\n",
      " 'PHIL281',\n",
      " 'PHIL282',\n",
      " 'PHIL284',\n",
      " 'PHIL286',\n",
      " 'PHIL287',\n",
      " 'PHIL350A',\n",
      " 'PHIL359',\n",
      " 'PHIL379',\n",
      " 'PHIL50',\n",
      " 'PHIL80',\n",
      " 'PHYSICS105',\n",
      " 'PHYSICS107',\n",
      " 'PHYSICS108',\n",
      " 'PHYSICS110',\n",
      " 'PHYSICS112',\n",
      " 'PHYSICS113',\n",
      " 'PHYSICS120',\n",
      " 'PHYSICS121',\n",
      " 'PHYSICS130',\n",
      " 'PHYSICS131',\n",
      " 'PHYSICS134',\n",
      " 'PHYSICS152',\n",
      " 'PHYSICS160',\n",
      " 'PHYSICS161',\n",
      " 'PHYSICS170',\n",
      " 'PHYSICS171',\n",
      " 'PHYSICS172',\n",
      " 'PHYSICS21',\n",
      " 'PHYSICS210',\n",
      " 'PHYSICS211',\n",
      " 'PHYSICS212',\n",
      " 'PHYSICS22',\n",
      " 'PHYSICS220',\n",
      " 'PHYSICS23',\n",
      " 'PHYSICS230',\n",
      " 'PHYSICS231',\n",
      " 'PHYSICS234',\n",
      " 'PHYSICS25',\n",
      " 'PHYSICS252',\n",
      " 'PHYSICS26',\n",
      " 'PHYSICS260',\n",
      " 'PHYSICS262',\n",
      " 'PHYSICS330',\n",
      " 'PHYSICS331',\n",
      " 'PHYSICS332',\n",
      " 'PHYSICS351',\n",
      " 'PHYSICS361',\n",
      " 'PHYSICS362',\n",
      " 'PHYSICS364',\n",
      " 'PHYSICS366',\n",
      " 'PHYSICS367',\n",
      " 'PHYSICS368',\n",
      " 'PHYSICS372',\n",
      " 'PHYSICS373',\n",
      " 'PHYSICS41',\n",
      " 'PHYSICS41A',\n",
      " 'PHYSICS42',\n",
      " 'PHYSICS43',\n",
      " 'PHYSICS43N',\n",
      " 'PHYSICS44',\n",
      " 'PHYSICS45',\n",
      " 'PHYSICS45N',\n",
      " 'PHYSICS46',\n",
      " 'PHYSICS61',\n",
      " 'PHYSICS62',\n",
      " 'PHYSICS63',\n",
      " 'PHYSICS64',\n",
      " 'PHYSICS65',\n",
      " 'PHYSICS67',\n",
      " 'PHYSICS70',\n",
      " 'PHYSICS91SI',\n",
      " 'PSYCH1',\n",
      " 'PSYCH10',\n",
      " 'PSYCH101',\n",
      " 'PSYCH104',\n",
      " 'PSYCH120',\n",
      " 'PSYCH121',\n",
      " 'PSYCH131',\n",
      " 'PSYCH134',\n",
      " 'PSYCH141',\n",
      " 'PSYCH146',\n",
      " 'PSYCH147',\n",
      " 'PSYCH149',\n",
      " 'PSYCH164',\n",
      " 'PSYCH171',\n",
      " 'PSYCH175',\n",
      " 'PSYCH178',\n",
      " 'PSYCH187',\n",
      " 'PSYCH193',\n",
      " 'PSYCH195',\n",
      " 'PSYCH206',\n",
      " 'PSYCH252',\n",
      " 'PSYCH253',\n",
      " 'PSYCH266',\n",
      " 'PSYCH279',\n",
      " 'PSYCH30',\n",
      " 'PSYCH45',\n",
      " 'PSYCH50',\n",
      " 'PSYCH60',\n",
      " 'PSYCH60A',\n",
      " 'PSYCH60B',\n",
      " 'PSYCH80',\n",
      " 'PSYCH90',\n",
      " 'PSYCH95',\n",
      " 'PUBLPOL102',\n",
      " 'PUBLPOL104',\n",
      " 'PUBLPOL105',\n",
      " 'PUBLPOL107',\n",
      " 'PUBLPOL168',\n",
      " 'PUBLPOL184',\n",
      " 'PUBLPOL202',\n",
      " 'PUBLPOL204',\n",
      " 'PUBLPOL205',\n",
      " 'PUBLPOL268',\n",
      " 'PUBLPOL301B',\n",
      " 'PUBLPOL303D',\n",
      " 'RAD260',\n",
      " 'SOC168',\n",
      " 'SOC268',\n",
      " 'SOMGEN207',\n",
      " 'STATS110',\n",
      " 'STATS116',\n",
      " 'STATS141',\n",
      " 'STATS155',\n"
     ]
    },
    {
     "name": "stdout",
     "output_type": "stream",
     "text": [
      " 'STATS167',\n",
      " 'STATS191',\n",
      " 'STATS195',\n",
      " 'STATS200',\n",
      " 'STATS202',\n",
      " 'STATS203',\n",
      " 'STATS206',\n",
      " 'STATS207',\n",
      " 'STATS215',\n",
      " 'STATS217',\n",
      " 'STATS219',\n",
      " 'STATS221',\n",
      " 'STATS231',\n",
      " 'STATS240',\n",
      " 'STATS244',\n",
      " 'STATS250',\n",
      " 'STATS263',\n",
      " 'STATS267',\n",
      " 'STATS270',\n",
      " 'STATS271',\n",
      " 'STATS290',\n",
      " 'STATS300A',\n",
      " 'STATS305',\n",
      " 'STATS306A',\n",
      " 'STATS310A',\n",
      " 'STATS310B',\n",
      " 'STATS310C',\n",
      " 'STATS311',\n",
      " 'STATS315A',\n",
      " 'STATS316',\n",
      " 'STATS344',\n",
      " 'STATS350',\n",
      " 'STATS360',\n",
      " 'STATS363',\n",
      " 'STATS370',\n",
      " 'STATS371',\n",
      " 'STATS374',\n",
      " 'STATS376A',\n",
      " 'STATS50',\n",
      " 'STATS60',\n",
      " 'SYMSYS100'}\n",
      "1012\n"
     ]
    }
   ],
   "source": [
    "all_courses = set(raw_data[\"course_name\"])\n",
    "pprint(all_courses)\n",
    "print(len(all_courses))"
   ]
  },
  {
   "cell_type": "code",
   "execution_count": 4,
   "metadata": {},
   "outputs": [
    {
     "name": "stdout",
     "output_type": "stream",
     "text": [
      "317636 unique course records\n",
      "13709 unique students\n",
      "1012 unique courses\n"
     ]
    }
   ],
   "source": [
    "# descriptive statistics\n",
    "print(len(raw_data), \"unique course records\")\n",
    "print(len(raw_data[\"emplid\"].unique()), \"unique students\")\n",
    "print(len(raw_data[\"course_name\"].unique()), \"unique courses\")"
   ]
  },
  {
   "cell_type": "code",
   "execution_count": 5,
   "metadata": {},
   "outputs": [
    {
     "name": "stdout",
     "output_type": "stream",
     "text": [
      "['CS107']\n",
      "['CS103', 'CS106B', 'CS106X', 'CS107', 'CS109']\n"
     ]
    }
   ],
   "source": [
    "OFFICIAL_PREREQ_PATH = \"../data/official_reqs.pkl\"\n",
    "\n",
    "with open(OFFICIAL_PREREQ_PATH, \"rb\") as file:\n",
    "    official_prereqs = pickle.load(file)\n",
    "    \n",
    "pprint(official_prereqs[\"CS110\"])\n",
    "pprint(official_prereqs[\"CS221\"])\n",
    "# pprint(official_prereqs)"
   ]
  },
  {
   "cell_type": "code",
   "execution_count": 21,
   "metadata": {},
   "outputs": [],
   "source": [
    "def getTargetGPAColumn(gpaString):\n",
    "    gpaString = str(gpaString)\n",
    "    gpaString = gpaString.lower()\n",
    "    if gpaString == \"nan\":\n",
    "        return \"gpa_NaN\"\n",
    "    gpaValue = float(gpaString)\n",
    "    if gpaValue > 3.7:\n",
    "        return \"gpa_A\"\n",
    "    elif gpaValue > 2.7:\n",
    "        return \"gpa_B\"\n",
    "    elif gpaValue > 1.7:\n",
    "        return \"gpa_C\"\n",
    "    elif gpaValue > 0.7:\n",
    "        return \"gpa_D\"\n",
    "    else:\n",
    "        return \"gpa_NP\""
   ]
  },
  {
   "cell_type": "code",
   "execution_count": 22,
   "metadata": {
    "colab": {},
    "colab_type": "code",
    "id": "SB7Z0hQpaNyl"
   },
   "outputs": [],
   "source": [
    "# Builds the feature matrix X and output vector y for a given course, using all other courses in the dataset\n",
    "# as possible predictors. Only adds a column for another course if at least one student has taken that other\n",
    "# course before the given course.\n",
    "# Set gender = True to also add a prediction vector for female (0/1).\n",
    "# Returns a dataframe with y appended to the right of X, split them off later in get_and_split_data().\n",
    "############################################################################################################\n",
    "# 2020-02-23 Initial model settings: \n",
    "# Predict success in a course (B+ or better) based on having passed other courses previously (D- or better)\n",
    "# Incomplete data for strm 1204 (2019-2020 Winter)\n",
    "# Only consider courses taken at or after strm 1162 (2015-2016 Autumn)\n",
    "# Y1GRADES = [\"A+\", \"A\", \"A-\", \"B+\"]\n",
    "# X1GRADES = [\"A+\", \"A\", \"A-\", \"B+\", \"B\", \"B-\", \n",
    "#             \"C+\", \"C\", \"C-\", \"D+\", \"D\", \"D-\"]\n",
    "# UNFINISHED_QUARTERS = [1204]\n",
    "# CUTOFF_QUARTER = 1162\n",
    "\n",
    "# Y1GRADES = [\"A+\", \"A\", \"A-\", \"B+\"] # we encode these grades as y = 1, otherwise y = 0\n",
    "# X1GRADES = [\"A+\", \"A\", \"A-\", \"B+\", \"B\", \"B-\", \n",
    "#             \"C+\", \"C\", \"C-\", \"D+\", \"D\", \"D-\"] # for previous courses, encode these grades as X_i = 1\n",
    "UNFINISHED_QUARTERS = [1204] # unfinished quarter(s) if pulled during a quarter\n",
    "CUTOFF_QUARTER = 1162\n",
    "\n",
    "# added x1param and y1param as optional parameters, use these or custom lists\n",
    "LETTER_GRADES = [\"A+\", \"A\", \"A-\", \"B+\", \"B\", \"B-\", \"C+\", \"C\", \"C-\", \"D+\", \"D\", \"D-\", \"NP\", \"W\"]\n",
    "PASS_GRADES = [\"A+\", \"A\", \"A-\", \"B+\", \"B\", \"B-\", \"C+\", \"C\", \"C-\", \"D+\", \"D\", \"D-\"]\n",
    "SUCCESS_GRADES = [\"A+\", \"A\", \"A-\", \"B+\"]\n",
    "\n",
    "def getStudentFeatures(target_course, gender = False, gpa = False, prereqSuccess = False,\n",
    "                       x1param = PASS_GRADES, y1param = SUCCESS_GRADES, prereqs = False):\n",
    "    if prereqSuccess:\n",
    "        x1param = SUCCESS_GRADES\n",
    "    course_entries = raw_data.loc[(raw_data['course_name'] == target_course) & # all course entries that are about the certain course we want\n",
    "                                  (raw_data['crse_grade_input'].isin(LETTER_GRADES)) & # Grade needs to be a letter\n",
    "                                  (raw_data['stdnt_enrl_status'] != 'D') & # not dropped\n",
    "                                  (raw_data['strm'] >= CUTOFF_QUARTER) & # target (outcome) course during or after the cutoff\n",
    "                                  (~raw_data['strm'].isin(UNFINISHED_QUARTERS))] # we don't have outcomes for these\n",
    "    students = course_entries.emplid # Students from the course entries\n",
    "    students_prev_classes = raw_data.loc[raw_data['emplid'].isin(students)] # Other classes taken by these students\n",
    "    possible_prev_classes = students_prev_classes['course_name'].unique().tolist() # List of courses taken by these students\n",
    "    possible_prev_classes.append(\"strm\") # For now add term to the data of when the course was taken\n",
    "    if gender:\n",
    "        possible_prev_classes.append(\"female\") # Add gender\n",
    "    if gpa: # Add GPA\n",
    "        possible_prev_classes.append(\"gpa_A\")\n",
    "        possible_prev_classes.append(\"gpa_B\")\n",
    "        possible_prev_classes.append(\"gpa_C\")\n",
    "        possible_prev_classes.append(\"gpa_D\")\n",
    "        possible_prev_classes.append(\"gpa_NP\")\n",
    "        possible_prev_classes.append(\"gpa_NaN\")\n",
    "    possible_prev_classes.append(\"emplid\") # Add emplid\n",
    "    possible_prev_classes.append(\"y\") # Add the target to the data. Will split it later\n",
    "    a = np.zeros(shape = (len(course_entries), len(possible_prev_classes))) # all 0 initialized features matrix\n",
    "    full_matrix = pd.DataFrame(a, columns = possible_prev_classes) # same as above, but in pandas to allow indexing by course name\n",
    "    for counter, idx in enumerate(course_entries.index): # loop over all class entries\n",
    "        grade = course_entries.loc[[idx]]['crse_grade_input']\n",
    "        gradeStr = grade.tolist()[0]\n",
    "        if (gradeStr in y1param):\n",
    "            full_matrix.iloc[counter, full_matrix.columns.get_loc(\"y\")] = 1\n",
    "        # fill predictor matrix X\n",
    "        std_id = course_entries.loc[[idx]]['emplid'] # Get the student id\n",
    "        quarter = course_entries.loc[[idx]]['strm'] # Get the term\n",
    "        student_courses = students_prev_classes.loc[students_prev_classes['emplid'] == std_id.tolist()[0]] # Get all courses the student took\n",
    "        student_courses = student_courses.loc[student_courses['strm'] < quarter.tolist()[0]] # Filter the courses to be only before the course of interest\n",
    "        if gender:\n",
    "            female = course_entries.loc[[idx]]['sex'] # Get the student gender\n",
    "            if (female.tolist()[0] == 'M'):\n",
    "                full_matrix.iloc[counter, full_matrix.columns.get_loc(\"female\")] = 0\n",
    "            else:\n",
    "                full_matrix.iloc[counter, full_matrix.columns.get_loc(\"female\")] = 1\n",
    "        if gpa:\n",
    "            prior_GPA = course_entries.loc[[idx]]['prior_term_gpa'] # Get the student's GPA for the previous term\n",
    "            full_matrix.iloc[counter, full_matrix.columns.get_loc(getTargetGPAColumn(prior_GPA.tolist()[0]))] = 1\n",
    "        full_matrix.iloc[counter, full_matrix.columns.get_loc(\"strm\")] = quarter.tolist()[0]\n",
    "        full_matrix.iloc[counter, full_matrix.columns.get_loc(\"emplid\")] = std_id.tolist()[0]\n",
    "        for j in student_courses.index:# Loop over the student's courses\n",
    "            course_name = student_courses.loc[[j]]['subject']+student_courses.loc[[j]]['catalog_nbr'] # Get the course name\n",
    "            grade = student_courses.loc[[j]]['crse_grade_input']\n",
    "            gradeStr = grade.tolist()[0]\n",
    "            if (gradeStr in x1param):\n",
    "                full_matrix.iloc[counter, full_matrix.columns.get_loc(course_name.tolist()[0])] = 1 # Set the course name in X to the new value (or if it was already passed keep the value)\n",
    "    if not prereqs:\n",
    "        return full_matrix\n",
    "    \n",
    "    # compute prereq_matrix with official prereq pickle\n",
    "    prereq_columns = official_prereqs[target_course] + ['strm', 'emplid', 'y']\n",
    "    if gender:\n",
    "        prereq_columns.extend(['female'])\n",
    "    if gpa:\n",
    "        prereq_columns.extend(['gpa_A', 'gpa_B', 'gpa_C', 'gpa_D', 'gpa_NP', 'gpa_NaN'])\n",
    "    prereq_matrix = full_matrix[prereq_columns]\n",
    "    return full_matrix, prereq_matrix"
   ]
  },
  {
   "cell_type": "code",
   "execution_count": null,
   "metadata": {
    "scrolled": true
   },
   "outputs": [],
   "source": [
    "features_cs110_testparams = getStudentFeatures('CS110', x1param = PASS_GRADES, y1param = PASS_GRADES)\n",
    "features_cs110_testparams"
   ]
  },
  {
   "cell_type": "code",
   "execution_count": null,
   "metadata": {},
   "outputs": [],
   "source": [
    "features_cs110_testparams = getStudentFeatures('CS110', x1param = SUCCESS_GRADES, y1param = SUCCESS_GRADES)\n",
    "features_cs110_testparams"
   ]
  },
  {
   "cell_type": "code",
   "execution_count": 14,
   "metadata": {},
   "outputs": [],
   "source": [
    "full_cs110, prereqs_cs110 = getStudentFeatures(\"CS110\", prereqs = True)"
   ]
  },
  {
   "cell_type": "code",
   "execution_count": null,
   "metadata": {},
   "outputs": [],
   "source": [
    "full_cs110"
   ]
  },
  {
   "cell_type": "code",
   "execution_count": null,
   "metadata": {},
   "outputs": [],
   "source": [
    "prereqs_cs110"
   ]
  },
  {
   "cell_type": "markdown",
   "metadata": {
    "colab_type": "text",
    "id": "xqiIgoCnfSon"
   },
   "source": [
    "# Logistic regression models"
   ]
  },
  {
   "cell_type": "code",
   "execution_count": 23,
   "metadata": {
    "colab": {},
    "colab_type": "code",
    "id": "9jNaMvCWfYHJ"
   },
   "outputs": [],
   "source": [
    "from sklearn.linear_model import LogisticRegression\n",
    "from sklearn.metrics import precision_recall_fscore_support"
   ]
  },
  {
   "cell_type": "code",
   "execution_count": 24,
   "metadata": {},
   "outputs": [],
   "source": [
    "UNSEEN_QUARTERS = [1204]\n",
    "TEST_QUARTERS = [1194, 1196] # aka \"dev\" quarters\n",
    "\n",
    "def get_and_split_data_double_matrix(target_course, test_quarters = TEST_QUARTERS,\n",
    "                                     gender = False, gpa = False, x1param = PASS_GRADES,\n",
    "                                     y1param = SUCCESS_GRADES, random_seed = 42, dev = True):\n",
    "    dataset_full, dataset_prereq = getStudentFeatures(target_course, gender = gender, gpa = gpa, x1param = x1param, y1param = y1param, prereqs = True)\n",
    "    \n",
    "    # process full dataset\n",
    "    # data split for full\n",
    "    dataset_grades_full = dataset_full.loc[~dataset_full['strm'].isin(UNSEEN_QUARTERS)] #For now, dropping this quarter\n",
    "    dataset_dev_full = None\n",
    "    if random_seed != None:\n",
    "        if dev: # 80/10/10 split train/dev/test\n",
    "            dataset_train_full, dataset_dev_full, dataset_test_full = np.split(dataset_grades_full.sample(frac=1, random_state=random_seed), [int(.8*len(dataset_grades_full)), int(.9*len(dataset_grades_full))])\n",
    "        else: # 85/15 split train/test\n",
    "            dataset_train_full, dataset_test_full = np.split(dataset_grades_full.sample(frac=1, random_state=random_seed), [int(.85*len(ddataset_grades_full))])\n",
    "    else:\n",
    "        dataset_train_full = dataset_grades_full.loc[~dataset_grades_full['strm'].isin(test_quarters)]\n",
    "        dataset_test_full = dataset_grades_full.loc[dataset_grades_full['strm'].isin(test_quarters)]\n",
    "        if dev:\n",
    "            dataset_train_full, dataset_dev_full = np.split(dataset_train_full.sample(frac=1, random_state=random_seed), [int(.85*len(dataset_train_full))])\n",
    "\n",
    "    # test students full df\n",
    "    test_students_full = pd.DataFrame(list(dataset_test_full[\"emplid\"]), columns = [\"emplid\"])\n",
    "    if gender:\n",
    "        test_students_full[\"female\"] = list(dataset_test_full[\"female\"])\n",
    "    if gpa:\n",
    "        test_students_full[\"gpa_A\"] = list(dataset_test_full[\"gpa_A\"])\n",
    "        test_students_full[\"gpa_B\"] = list(dataset_test_full[\"gpa_B\"])\n",
    "        test_students_full[\"gpa_C\"] = list(dataset_test_full[\"gpa_C\"])\n",
    "        test_students_full[\"gpa_D\"] = list(dataset_test_full[\"gpa_D\"])\n",
    "        test_students_full[\"gpa_NP\"] = list(dataset_test_full[\"gpa_NP\"])\n",
    "        test_students_full[\"gpa_NaN\"] = list(dataset_test_full[\"gpa_NaN\"])\n",
    "        \n",
    "    # dev students full df\n",
    "    \n",
    "    if dev:\n",
    "        dev_students_full = pd.DataFrame(list(dataset_dev_full[\"emplid\"]), columns = [\"emplid\"])\n",
    "        if gender:\n",
    "            dev_students_full[\"female\"] = list(dataset_dev_full[\"female\"])\n",
    "        if gpa:\n",
    "            dev_students_full[\"gpa_A\"] = list(dataset_dev_full[\"gpa_A\"])\n",
    "            dev_students_full[\"gpa_B\"] = list(dataset_dev_full[\"gpa_B\"])\n",
    "            dev_students_full[\"gpa_C\"] = list(dataset_dev_full[\"gpa_C\"])\n",
    "            dev_students_full[\"gpa_D\"] = list(dataset_dev_full[\"gpa_D\"])\n",
    "            dev_students_full[\"gpa_NP\"] = list(dataset_dev_full[\"gpa_NP\"])\n",
    "            dev_students_full[\"gpa_NaN\"] = list(dataset_dev_full[\"gpa_NaN\"])\n",
    "    else:\n",
    "        dev_students_full = None\n",
    "        \n",
    "    # Prepare for X and Y for full\n",
    "    dataset_train_full = dataset_train_full.drop([\"strm\", \"emplid\"], axis=1)\n",
    "    dataset_test_full = dataset_test_full.drop([\"strm\", \"emplid\"], axis=1)\n",
    "    if dev:\n",
    "        dataset_dev_full = dataset_dev_full.drop([\"strm\", \"emplid\"], axis=1)\n",
    "    else:\n",
    "        dataset_dev_full = None\n",
    "\n",
    "    # Build X and Y for full\n",
    "    X_train_full = dataset_train_full.drop([\"y\"], axis=1)\n",
    "    y_train_full = dataset_train_full[\"y\"]\n",
    "    X_test_full = dataset_test_full.drop([\"y\"], axis=1)\n",
    "    y_test_full = dataset_test_full[\"y\"]\n",
    "    X_dev_full = None\n",
    "    y_dev_full = None\n",
    "    if dev:\n",
    "        X_dev_full = dataset_dev_full.drop([\"y\"], axis=1)\n",
    "        y_dev_full = dataset_dev_full[\"y\"]\n",
    "    \n",
    "    if not len(X_train_full) or not len(X_test_full) or not len(y_train_full) or not len(y_test_full):\n",
    "        return (None, None, None, None, None, None, None, None, True), (None, None, None, None, None, None, None, None, True)\n",
    "    \n",
    "    # process official prereq dataset\n",
    "    # data split for prereq\n",
    "    dataset_grades_prereq = dataset_prereq.loc[~dataset_prereq['strm'].isin(UNSEEN_QUARTERS)] #For now, dropping this quarter\n",
    "    dataset_dev_prereq = None\n",
    "    if random_seed != None:\n",
    "        if dev:\n",
    "            dataset_train_prereq, dataset_dev_prereq, dataset_test_prereq = np.split(dataset_grades_prereq.sample(frac=1, random_state=random_seed), [int(.8*len(dataset_grades_prereq)), int(.9*len(dataset_grades_prereq))])\n",
    "        else:\n",
    "            dataset_train_prereq, dataset_test_prereq = np.split(dataset_grades_prereq.sample(frac=1, random_state=random_seed), [int(.85*len(dataset_grades_prereq))])\n",
    "    else:\n",
    "        dataset_train_prereq = dataset_grades_prereq.loc[~dataset_grades_prereq['strm'].isin(test_quarters)]\n",
    "        dataset_test_prereq = dataset_grades_prereq.loc[dataset_grades_prereq['strm'].isin(test_quarters)]\n",
    "        if dev:\n",
    "            dataset_train_prereq, dataset_dev_prereq = np.split(dataset_train_prereq.sample(frac=1, random_state=random_seed), [int(.85*len(dataset_train_prereq))])\n",
    "        \n",
    "    # test students prereq df\n",
    "    test_students_prereq = pd.DataFrame(list(dataset_test_prereq[\"emplid\"]), columns = [\"emplid\"])\n",
    "    if gender:\n",
    "        test_students_prereq[\"female\"] = list(dataset_test_prereq[\"female\"])\n",
    "    if gpa:\n",
    "        test_students_prereq[\"gpa_A\"] = list(dataset_test_prereq[\"gpa_A\"])\n",
    "        test_students_prereq[\"gpa_B\"] = list(dataset_test_prereq[\"gpa_B\"])\n",
    "        test_students_prereq[\"gpa_C\"] = list(dataset_test_prereq[\"gpa_C\"])\n",
    "        test_students_prereq[\"gpa_D\"] = list(dataset_test_prereq[\"gpa_D\"])\n",
    "        test_students_prereq[\"gpa_NP\"] = list(dataset_test_prereq[\"gpa_NP\"])\n",
    "        test_students_prereq[\"gpa_NaN\"] = list(dataset_test_prereq[\"gpa_NaN\"])\n",
    "    \n",
    "    # dev students prereq df\n",
    "    dev_students_prereq = None\n",
    "    if dev:\n",
    "        dev_students_prereq = pd.DataFrame(list(dataset_dev_prereq[\"emplid\"]), columns = [\"emplid\"])\n",
    "        if gender:\n",
    "            dev_students_prereq[\"female\"] = list(dataset_dev_prereq[\"female\"])\n",
    "        if gpa:\n",
    "            dev_students_prereq[\"gpa_A\"] = list(dataset_dev_prereq[\"gpa_A\"])\n",
    "            dev_students_prereq[\"gpa_B\"] = list(dataset_dev_prereq[\"gpa_B\"])\n",
    "            dev_students_prereq[\"gpa_C\"] = list(dataset_dev_prereq[\"gpa_C\"])\n",
    "            dev_students_prereq[\"gpa_D\"] = list(dataset_dev_prereq[\"gpa_D\"])\n",
    "            dev_students_prereq[\"gpa_NP\"] = list(dataset_dev_prereq[\"gpa_NP\"])\n",
    "            dev_students_prereq[\"gpa_NaN\"] = list(dataset_dev_prereq[\"gpa_NaN\"])\n",
    "        \n",
    "        \n",
    "    dataset_train_prereq = dataset_train_prereq.drop([\"strm\", \"emplid\"], axis=1)\n",
    "    dataset_test_prereq = dataset_test_prereq.drop([\"strm\", \"emplid\"], axis=1)\n",
    "    if dev:\n",
    "        dataset_dev_prereq = dataset_dev_prereq.drop([\"strm\", \"emplid\"], axis=1)\n",
    "    else:\n",
    "        dataset_dev_prereq = None\n",
    "\n",
    "    X_train_prereq = dataset_train_prereq.drop([\"y\"], axis=1)\n",
    "    y_train_prereq = dataset_train_prereq[\"y\"]\n",
    "    X_test_prereq = dataset_test_prereq.drop([\"y\"], axis=1)\n",
    "    y_test_prereq = dataset_test_prereq[\"y\"]\n",
    "    if dev:\n",
    "        X_dev_prereq = dataset_dev_prereq.drop([\"y\"], axis=1)\n",
    "        y_dev_prereq = dataset_dev_prereq[\"y\"]\n",
    "    else:\n",
    "        X_dev_prereq = None\n",
    "        y_dev_prereq = None\n",
    "    if not len(X_train_prereq) or not len(X_test_prereq) or not len(y_train_prereq) or not len(y_test_prereq):\n",
    "        return (None, None, None, None, None, None, None, None, True), (None, None, None, None, None, None, None, None, True)\n",
    "    \n",
    "    return [X_train_full, X_test_full, X_dev_full, y_dev_full, y_train_full, y_test_full, test_students_full, dev_students_full, False], [X_train_prereq, X_test_prereq, X_dev_prereq, y_dev_prereq, y_train_prereq, y_test_prereq, test_students_prereq, dev_students_prereq, False]\n",
    "\n"
   ]
  },
  {
   "cell_type": "code",
   "execution_count": 25,
   "metadata": {},
   "outputs": [],
   "source": [
    "# Use the X predictor matrix and y outcome vector from \n",
    "# getStudentFeatures, fit a logistic regression model and return\n",
    "# the list of coefficients, default sorted by absolute value\n",
    "\n",
    "# Params: sort = [\"pos\", \"neg\", \"abs\"] to sort by largest positive, negative, or\n",
    "# absolute value of coefficients\n",
    "def get_coefs_from_split(X_train, X_test, y_train, y_test, X_dev = None, y_dev = None, \n",
    "                         penalty='none', C=1.0, fail_flag = False, sort = \"pos\", solver = 'lbfgs'):\n",
    "    if fail_flag:\n",
    "        return None, None, None, None, None, None, None, None, None, None, None, None, None, None, None, True\n",
    "    if len(y_train.unique()) == 1:\n",
    "        return None, None, None, None, None, None, None, None, None, None, None, None, None, None, None, True\n",
    "    model = LogisticRegression(C=C, penalty=penalty, solver = solver, max_iter = 1000)\n",
    "    model.fit(X_train, y_train)\n",
    "    \n",
    "    train_score = model.score(X_train, y_train)\n",
    "    if str(type(X_dev)) != \"<class 'NoneType'>\" and str(type(y_dev)) != \"<class 'NoneType'>\":\n",
    "        dev_score = model.score(X_dev, y_dev)\n",
    "    else:\n",
    "        dev_score = None\n",
    "    test_score = model.score(X_test, y_test)\n",
    "    \n",
    "    train_groundtruth = y_train.mean()\n",
    "    if str(type(X_dev)) != \"<class 'NoneType'>\" and str(type(y_dev)) != \"<class 'NoneType'>\":\n",
    "        dev_groundtruth = y_dev.mean()\n",
    "    else:\n",
    "        dev_groundtruth = None\n",
    "    test_groundtruth = y_test.mean()\n",
    "    \n",
    "    train_size = len(y_train)\n",
    "    if str(type(X_dev)) != \"<class 'NoneType'>\" and str(type(y_dev)) != \"<class 'NoneType'>\":\n",
    "        dev_size = len(y_dev)\n",
    "    else:\n",
    "        dev_size = None\n",
    "    test_size = len(y_test)\n",
    "    \n",
    "    y_test_predict = model.predict(X_test)\n",
    "    if str(type(X_dev)) != \"<class 'NoneType'>\" and str(type(y_dev)) != \"<class 'NoneType'>\":\n",
    "        y_dev_predict = model.predict(X_dev)\n",
    "    else:\n",
    "        y_dev_predict = None\n",
    "    \n",
    "    prob_1_index = 1\n",
    "    if model.classes_[1] != 1:\n",
    "        prob_1_index = 0\n",
    "    y_test_prob = [x[prob_1_index] for x in model.predict_proba(X_test)]\n",
    "    if str(type(X_dev)) != \"<class 'NoneType'>\" and str(type(y_dev)) != \"<class 'NoneType'>\":\n",
    "        y_dev_prob = [x[prob_1_index] for x in model.predict_proba(X_dev)]\n",
    "    else:\n",
    "        y_dev_prob = None\n",
    "    \n",
    "    test_scores = precision_recall_fscore_support(y_test, y_test_predict, average = \"binary\", zero_division = 0)\n",
    "    if str(type(X_dev)) != \"<class 'NoneType'>\" and str(type(y_dev)) != \"<class 'NoneType'>\":\n",
    "        dev_scores = precision_recall_fscore_support(y_dev, y_dev_predict, average = \"binary\", zero_division = 0)\n",
    "    else:\n",
    "        dev_scores = None\n",
    "    \n",
    "    coefs = [(X_test.columns[i], model.coef_[0][i]) for i in range(len(X_test.columns))]\n",
    "    if sort:\n",
    "        if sort == \"pos\":\n",
    "            coefs = sorted(coefs, key = lambda x: x[1], reverse = True)\n",
    "        if sort == \"neg\":\n",
    "            coefs = sorted(coefs, key = lambda x: x[1], reverse = False)\n",
    "        if sort == \"abs\":\n",
    "            coefs = sorted(coefs, key = lambda x: abs(x[1]), reverse = True)\n",
    "    return coefs, y_test_predict, y_test_prob, y_dev_predict, y_dev_prob, \\\n",
    "            train_score, test_score, dev_score, train_groundtruth, test_groundtruth, dev_groundtruth, \\\n",
    "            train_size, test_size, dev_size, test_scores, dev_scores, False\n",
    "\n"
   ]
  },
  {
   "cell_type": "markdown",
   "metadata": {},
   "source": [
    "# Loop through all courses"
   ]
  },
  {
   "cell_type": "code",
   "execution_count": 29,
   "metadata": {},
   "outputs": [],
   "source": [
    "TEST_QUARTERS = [1194, 1196] # aka \"dev\" quarters\n",
    "COLUMN_NAMES = [\"course_name\", \"train_score\", \"test_score\", \"dev_score\", \"train_groundtruth\", \"test_groundtruth\", \"dev_groundtruth\", \"train_size\", \"test_size\", \"dev_size\", \"test_precision\", \"test_recall\", \"test_f1_score\", \"dev_precision\", \"dev_recall\", \"dev_f1_score\", \"dev_fpr\", \"dev_tpr\", \"dev_threshold\", \"dev_auc\"]\n",
    "\n",
    "def run_predictions_with_prereqs(course_name, results_full, results_prereq, test_quarters = TEST_QUARTERS,\n",
    "                                 gender = False, gpa = False, x1param = PASS_GRADES, y1param = SUCCESS_GRADES,\n",
    "                                 dev = True, penalty='l2', C=1.0, random_seed=42, solver = 'lbfgs'):\n",
    "    [X_train_full, X_test_full, X_dev_full, y_dev_full, y_train_full, y_test_full, test_students_full, dev_students_full, fail_flag_full], \\\n",
    "    [X_train_prereq, X_test_prereq, X_dev_prereq, y_dev_prereq, y_train_prereq, y_test_prereq, test_students_prereq, dev_students_prereq, fail_flag_prereq] = \\\n",
    "        get_and_split_data_double_matrix(course_name, test_quarters = test_quarters, gender = gender, gpa = gpa, \n",
    "                                     x1param = x1param, y1param = y1param, random_seed=random_seed, dev=dev)\n",
    "    \n",
    "    # full results\n",
    "    coefs, y_test_predict, y_test_prob, y_dev_predict, y_dev_prob, \\\n",
    "    train_score, test_score, dev_score, train_groundtruth, test_groundtruth, dev_groundtruth, \\\n",
    "    train_size, test_size, dev_size, test_scores, dev_scores, fail_flag = get_coefs_from_split(X_train_full, X_test_full, y_train_full, y_test_full,\n",
    "                                                                                            X_dev=X_dev_full, y_dev=y_dev_full, penalty=penalty, C=C, \n",
    "                                                                                            solver = solver, fail_flag=fail_flag_full)\n",
    "    \n",
    "    test_students_full[course_name + \"_y\"] = list(y_test_full)\n",
    "    test_students_full[course_name + \"_y_predict\"] = y_test_predict\n",
    "    test_students_full[course_name + \"_y_prob\"] = y_test_prob\n",
    "    \n",
    "    if dev:\n",
    "        dev_students_full[course_name + \"_y\"] = list(y_dev_full)\n",
    "        dev_students_full[course_name + \"_y_predict\"] = y_dev_predict\n",
    "        dev_students_full[course_name + \"_y_prob\"] = y_dev_prob\n",
    "        \n",
    "        fpr, tpr, thresh = metrics.roc_curve(y_dev_full, y_dev_prob)\n",
    "        auc = metrics.roc_auc_score(y_dev_full, y_dev_prob)\n",
    "#         plt.plot(fpr,tpr,label=\"data \"+course_name+\"_full, auc=\"+str(auc), color='lightpink', alpha=0.5)\n",
    "    \n",
    "        results_full.append([course_name, train_score, test_score, dev_score, train_groundtruth, test_groundtruth, \n",
    "                         dev_groundtruth, train_size, test_size, dev_size, test_scores[0], test_scores[1],\n",
    "                         test_scores[2], dev_scores[0], dev_scores[1], dev_scores[2], fpr, tpr, thresh, auc])\n",
    "    else:\n",
    "        results_full.append([course_name, train_score, test_score, dev_score, train_groundtruth, test_groundtruth, \n",
    "                         dev_groundtruth, train_size, test_size, dev_size, test_scores[0], test_scores[1],\n",
    "                         test_scores[2], None, None, None, None, None, None, None])\n",
    "\n",
    "    # official prereq results\n",
    "    coefs, y_test_predict, y_test_prob, y_dev_predict, y_dev_prob, \\\n",
    "    train_score, test_score, dev_score, train_groundtruth, test_groundtruth, dev_groundtruth, \\\n",
    "    train_size, test_size, dev_size, test_scores, dev_scores, fail_flag = get_coefs_from_split(X_train_prereq, X_test_prereq, y_train_prereq, \n",
    "                                                                                            y_test_prereq, X_dev=X_dev_prereq, y_dev=y_dev_prereq, \n",
    "                                                                                            penalty=penalty, C=C, solver = solver, fail_flag=fail_flag_prereq)\n",
    "    \n",
    "    test_students_prereq[course_name + \"_y\"] = list(y_test_prereq)\n",
    "    test_students_prereq[course_name + \"_y_predict\"] = y_test_predict\n",
    "    test_students_prereq[course_name + \"_y_prob\"] = y_test_prob\n",
    "    \n",
    "    if dev:\n",
    "        dev_students_prereq[course_name + \"_y\"] = list(y_dev_prereq)\n",
    "        dev_students_prereq[course_name + \"_y_predict\"] = y_dev_predict\n",
    "        dev_students_prereq[course_name + \"_y_prob\"] = y_dev_prob\n",
    "        \n",
    "        fpr, tpr, thresh = metrics.roc_curve(y_dev_prereq, y_dev_prob)\n",
    "        auc = metrics.roc_auc_score(y_dev_prereq, y_dev_prob)\n",
    "#         plt.plot(fpr,tpr,label=\"data \"+course_name+\"_full, auc=\"+str(auc), color='paleturquoise', alpha=0.5)\n",
    "    \n",
    "    \n",
    "        results_prereq.append([course_name, train_score, test_score, dev_score, train_groundtruth, test_groundtruth, \n",
    "                         dev_groundtruth, train_size, test_size, dev_size, test_scores[0], test_scores[1],\n",
    "                         test_scores[2], dev_scores[0], dev_scores[1], dev_scores[2], fpr, tpr, thresh, auc])\n",
    "    else:\n",
    "        results_prereq.append([course_name, train_score, test_score, dev_score, train_groundtruth, test_groundtruth, \n",
    "                         dev_groundtruth, train_size, test_size, dev_size, test_scores[0], test_scores[1],\n",
    "                         test_scores[2], None, None, None, None, None, None, None])"
   ]
  },
  {
   "cell_type": "code",
   "execution_count": 27,
   "metadata": {},
   "outputs": [
    {
     "name": "stdout",
     "output_type": "stream",
     "text": [
      "False\n",
      "False\n"
     ]
    }
   ],
   "source": [
    "results_full = []\n",
    "results_prereq = []\n",
    "\n",
    "run_predictions_with_prereqs(\"CS221\", results_full, results_prereq, gpa=True)\n",
    "results_full_df = pd.DataFrame(results_full, columns = COLUMN_NAMES)\n",
    "results_prereq_df = pd.DataFrame(results_prereq, columns = COLUMN_NAMES)"
   ]
  },
  {
   "cell_type": "code",
   "execution_count": 27,
   "metadata": {},
   "outputs": [
    {
     "data": {
      "text/html": [
       "<div>\n",
       "<style scoped>\n",
       "    .dataframe tbody tr th:only-of-type {\n",
       "        vertical-align: middle;\n",
       "    }\n",
       "\n",
       "    .dataframe tbody tr th {\n",
       "        vertical-align: top;\n",
       "    }\n",
       "\n",
       "    .dataframe thead th {\n",
       "        text-align: right;\n",
       "    }\n",
       "</style>\n",
       "<table border=\"1\" class=\"dataframe\">\n",
       "  <thead>\n",
       "    <tr style=\"text-align: right;\">\n",
       "      <th></th>\n",
       "      <th>course_name</th>\n",
       "      <th>train_score</th>\n",
       "      <th>test_score</th>\n",
       "      <th>dev_score</th>\n",
       "      <th>train_groundtruth</th>\n",
       "      <th>test_groundtruth</th>\n",
       "      <th>dev_groundtruth</th>\n",
       "      <th>train_size</th>\n",
       "      <th>test_size</th>\n",
       "      <th>dev_size</th>\n",
       "      <th>test_precision</th>\n",
       "      <th>test_recall</th>\n",
       "      <th>test_f1_score</th>\n",
       "      <th>dev_precision</th>\n",
       "      <th>dev_recall</th>\n",
       "      <th>dev_f1_score</th>\n",
       "      <th>fpr</th>\n",
       "      <th>tpr</th>\n",
       "      <th>thresh</th>\n",
       "      <th>auc</th>\n",
       "    </tr>\n",
       "  </thead>\n",
       "  <tbody>\n",
       "    <tr>\n",
       "      <th>0</th>\n",
       "      <td>CS221</td>\n",
       "      <td>0.83438</td>\n",
       "      <td>0.709302</td>\n",
       "      <td>None</td>\n",
       "      <td>0.700942</td>\n",
       "      <td>0.790698</td>\n",
       "      <td>None</td>\n",
       "      <td>1274</td>\n",
       "      <td>172</td>\n",
       "      <td>None</td>\n",
       "      <td>0.816176</td>\n",
       "      <td>0.816176</td>\n",
       "      <td>0.816176</td>\n",
       "      <td>None</td>\n",
       "      <td>None</td>\n",
       "      <td>None</td>\n",
       "      <td>None</td>\n",
       "      <td>None</td>\n",
       "      <td>None</td>\n",
       "      <td>None</td>\n",
       "    </tr>\n",
       "  </tbody>\n",
       "</table>\n",
       "</div>"
      ],
      "text/plain": [
       "  course_name  train_score  test_score dev_score  train_groundtruth  \\\n",
       "0       CS221      0.83438    0.709302      None           0.700942   \n",
       "\n",
       "   test_groundtruth dev_groundtruth  train_size  test_size dev_size  \\\n",
       "0          0.790698            None        1274        172     None   \n",
       "\n",
       "   test_precision  test_recall  test_f1_score dev_precision dev_recall  \\\n",
       "0        0.816176     0.816176       0.816176          None       None   \n",
       "\n",
       "  dev_f1_score   fpr   tpr thresh   auc  \n",
       "0         None  None  None   None  None  "
      ]
     },
     "execution_count": 27,
     "metadata": {},
     "output_type": "execute_result"
    }
   ],
   "source": [
    "results_full_df"
   ]
  },
  {
   "cell_type": "code",
   "execution_count": 28,
   "metadata": {
    "scrolled": true
   },
   "outputs": [
    {
     "data": {
      "text/html": [
       "<div>\n",
       "<style scoped>\n",
       "    .dataframe tbody tr th:only-of-type {\n",
       "        vertical-align: middle;\n",
       "    }\n",
       "\n",
       "    .dataframe tbody tr th {\n",
       "        vertical-align: top;\n",
       "    }\n",
       "\n",
       "    .dataframe thead th {\n",
       "        text-align: right;\n",
       "    }\n",
       "</style>\n",
       "<table border=\"1\" class=\"dataframe\">\n",
       "  <thead>\n",
       "    <tr style=\"text-align: right;\">\n",
       "      <th></th>\n",
       "      <th>course_name</th>\n",
       "      <th>train_score</th>\n",
       "      <th>test_score</th>\n",
       "      <th>dev_score</th>\n",
       "      <th>train_groundtruth</th>\n",
       "      <th>test_groundtruth</th>\n",
       "      <th>dev_groundtruth</th>\n",
       "      <th>train_size</th>\n",
       "      <th>test_size</th>\n",
       "      <th>dev_size</th>\n",
       "      <th>test_precision</th>\n",
       "      <th>test_recall</th>\n",
       "      <th>test_f1_score</th>\n",
       "      <th>dev_precision</th>\n",
       "      <th>dev_recall</th>\n",
       "      <th>dev_f1_score</th>\n",
       "      <th>fpr</th>\n",
       "      <th>tpr</th>\n",
       "      <th>thresh</th>\n",
       "      <th>auc</th>\n",
       "    </tr>\n",
       "  </thead>\n",
       "  <tbody>\n",
       "    <tr>\n",
       "      <th>0</th>\n",
       "      <td>CS221</td>\n",
       "      <td>0.700942</td>\n",
       "      <td>0.790698</td>\n",
       "      <td>None</td>\n",
       "      <td>0.700942</td>\n",
       "      <td>0.790698</td>\n",
       "      <td>None</td>\n",
       "      <td>1274</td>\n",
       "      <td>172</td>\n",
       "      <td>None</td>\n",
       "      <td>0.790698</td>\n",
       "      <td>1.0</td>\n",
       "      <td>0.883117</td>\n",
       "      <td>None</td>\n",
       "      <td>None</td>\n",
       "      <td>None</td>\n",
       "      <td>None</td>\n",
       "      <td>None</td>\n",
       "      <td>None</td>\n",
       "      <td>None</td>\n",
       "    </tr>\n",
       "  </tbody>\n",
       "</table>\n",
       "</div>"
      ],
      "text/plain": [
       "  course_name  train_score  test_score dev_score  train_groundtruth  \\\n",
       "0       CS221     0.700942    0.790698      None           0.700942   \n",
       "\n",
       "   test_groundtruth dev_groundtruth  train_size  test_size dev_size  \\\n",
       "0          0.790698            None        1274        172     None   \n",
       "\n",
       "   test_precision  test_recall  test_f1_score dev_precision dev_recall  \\\n",
       "0        0.790698          1.0       0.883117          None       None   \n",
       "\n",
       "  dev_f1_score   fpr   tpr thresh   auc  \n",
       "0         None  None  None   None  None  "
      ]
     },
     "execution_count": 28,
     "metadata": {},
     "output_type": "execute_result"
    }
   ],
   "source": [
    "results_prereq_df # better results than full model on test_score, suggests overfitting, but it's unregularized??\n",
    "# it's just predicting pass for everything, recall is 1.0 and precision is same as ground truth"
   ]
  },
  {
   "cell_type": "code",
   "execution_count": 30,
   "metadata": {},
   "outputs": [],
   "source": [
    "# test run with random seed and dev set\n",
    "\n",
    "results_full = []\n",
    "results_prereq = []\n",
    "\n",
    "run_predictions_with_prereqs(\"CS221\", results_full, results_prereq)\n",
    "results_full_df = pd.DataFrame(results_full, columns = COLUMN_NAMES)\n",
    "results_prereq_df = pd.DataFrame(results_prereq, columns = COLUMN_NAMES)"
   ]
  },
  {
   "cell_type": "code",
   "execution_count": 31,
   "metadata": {},
   "outputs": [
    {
     "data": {
      "text/html": [
       "<div>\n",
       "<style scoped>\n",
       "    .dataframe tbody tr th:only-of-type {\n",
       "        vertical-align: middle;\n",
       "    }\n",
       "\n",
       "    .dataframe tbody tr th {\n",
       "        vertical-align: top;\n",
       "    }\n",
       "\n",
       "    .dataframe thead th {\n",
       "        text-align: right;\n",
       "    }\n",
       "</style>\n",
       "<table border=\"1\" class=\"dataframe\">\n",
       "  <thead>\n",
       "    <tr style=\"text-align: right;\">\n",
       "      <th></th>\n",
       "      <th>course_name</th>\n",
       "      <th>train_score</th>\n",
       "      <th>test_score</th>\n",
       "      <th>dev_score</th>\n",
       "      <th>train_groundtruth</th>\n",
       "      <th>test_groundtruth</th>\n",
       "      <th>dev_groundtruth</th>\n",
       "      <th>train_size</th>\n",
       "      <th>test_size</th>\n",
       "      <th>dev_size</th>\n",
       "      <th>test_precision</th>\n",
       "      <th>test_recall</th>\n",
       "      <th>test_f1_score</th>\n",
       "      <th>dev_precision</th>\n",
       "      <th>dev_recall</th>\n",
       "      <th>dev_f1_score</th>\n",
       "      <th>fpr</th>\n",
       "      <th>tpr</th>\n",
       "      <th>thresh</th>\n",
       "      <th>auc</th>\n",
       "    </tr>\n",
       "  </thead>\n",
       "  <tbody>\n",
       "    <tr>\n",
       "      <th>0</th>\n",
       "      <td>CS221</td>\n",
       "      <td>0.821799</td>\n",
       "      <td>0.662069</td>\n",
       "      <td>0.717241</td>\n",
       "      <td>0.717128</td>\n",
       "      <td>0.655172</td>\n",
       "      <td>0.724138</td>\n",
       "      <td>1156</td>\n",
       "      <td>145</td>\n",
       "      <td>145</td>\n",
       "      <td>0.679688</td>\n",
       "      <td>0.915789</td>\n",
       "      <td>0.780269</td>\n",
       "      <td>0.75</td>\n",
       "      <td>0.914286</td>\n",
       "      <td>0.824034</td>\n",
       "      <td>[0.0, 0.0, 0.0, 0.075, 0.075, 0.1, 0.1, 0.175,...</td>\n",
       "      <td>[0.0, 0.009523809523809525, 0.0380952380952381...</td>\n",
       "      <td>[1.9821055113774149, 0.9821055113774149, 0.971...</td>\n",
       "      <td>0.575476</td>\n",
       "    </tr>\n",
       "  </tbody>\n",
       "</table>\n",
       "</div>"
      ],
      "text/plain": [
       "  course_name  train_score  test_score  dev_score  train_groundtruth  \\\n",
       "0       CS221     0.821799    0.662069   0.717241           0.717128   \n",
       "\n",
       "   test_groundtruth  dev_groundtruth  train_size  test_size  dev_size  \\\n",
       "0          0.655172         0.724138        1156        145       145   \n",
       "\n",
       "   test_precision  test_recall  test_f1_score  dev_precision  dev_recall  \\\n",
       "0        0.679688     0.915789       0.780269           0.75    0.914286   \n",
       "\n",
       "   dev_f1_score                                                fpr  \\\n",
       "0      0.824034  [0.0, 0.0, 0.0, 0.075, 0.075, 0.1, 0.1, 0.175,...   \n",
       "\n",
       "                                                 tpr  \\\n",
       "0  [0.0, 0.009523809523809525, 0.0380952380952381...   \n",
       "\n",
       "                                              thresh       auc  \n",
       "0  [1.9821055113774149, 0.9821055113774149, 0.971...  0.575476  "
      ]
     },
     "execution_count": 31,
     "metadata": {},
     "output_type": "execute_result"
    }
   ],
   "source": [
    "results_full_df"
   ]
  },
  {
   "cell_type": "code",
   "execution_count": 32,
   "metadata": {},
   "outputs": [
    {
     "data": {
      "text/html": [
       "<div>\n",
       "<style scoped>\n",
       "    .dataframe tbody tr th:only-of-type {\n",
       "        vertical-align: middle;\n",
       "    }\n",
       "\n",
       "    .dataframe tbody tr th {\n",
       "        vertical-align: top;\n",
       "    }\n",
       "\n",
       "    .dataframe thead th {\n",
       "        text-align: right;\n",
       "    }\n",
       "</style>\n",
       "<table border=\"1\" class=\"dataframe\">\n",
       "  <thead>\n",
       "    <tr style=\"text-align: right;\">\n",
       "      <th></th>\n",
       "      <th>course_name</th>\n",
       "      <th>train_score</th>\n",
       "      <th>test_score</th>\n",
       "      <th>dev_score</th>\n",
       "      <th>train_groundtruth</th>\n",
       "      <th>test_groundtruth</th>\n",
       "      <th>dev_groundtruth</th>\n",
       "      <th>train_size</th>\n",
       "      <th>test_size</th>\n",
       "      <th>dev_size</th>\n",
       "      <th>test_precision</th>\n",
       "      <th>test_recall</th>\n",
       "      <th>test_f1_score</th>\n",
       "      <th>dev_precision</th>\n",
       "      <th>dev_recall</th>\n",
       "      <th>dev_f1_score</th>\n",
       "      <th>fpr</th>\n",
       "      <th>tpr</th>\n",
       "      <th>thresh</th>\n",
       "      <th>auc</th>\n",
       "    </tr>\n",
       "  </thead>\n",
       "  <tbody>\n",
       "    <tr>\n",
       "      <th>0</th>\n",
       "      <td>CS221</td>\n",
       "      <td>0.717128</td>\n",
       "      <td>0.655172</td>\n",
       "      <td>0.724138</td>\n",
       "      <td>0.717128</td>\n",
       "      <td>0.655172</td>\n",
       "      <td>0.724138</td>\n",
       "      <td>1156</td>\n",
       "      <td>145</td>\n",
       "      <td>145</td>\n",
       "      <td>0.655172</td>\n",
       "      <td>1.0</td>\n",
       "      <td>0.791667</td>\n",
       "      <td>0.724138</td>\n",
       "      <td>1.0</td>\n",
       "      <td>0.84</td>\n",
       "      <td>[0.0, 0.0, 0.025, 0.125, 0.15, 0.15, 0.15, 0.1...</td>\n",
       "      <td>[0.0, 0.009523809523809525, 0.0285714285714285...</td>\n",
       "      <td>[1.801748279527469, 0.8017482795274691, 0.7858...</td>\n",
       "      <td>0.512381</td>\n",
       "    </tr>\n",
       "  </tbody>\n",
       "</table>\n",
       "</div>"
      ],
      "text/plain": [
       "  course_name  train_score  test_score  dev_score  train_groundtruth  \\\n",
       "0       CS221     0.717128    0.655172   0.724138           0.717128   \n",
       "\n",
       "   test_groundtruth  dev_groundtruth  train_size  test_size  dev_size  \\\n",
       "0          0.655172         0.724138        1156        145       145   \n",
       "\n",
       "   test_precision  test_recall  test_f1_score  dev_precision  dev_recall  \\\n",
       "0        0.655172          1.0       0.791667       0.724138         1.0   \n",
       "\n",
       "   dev_f1_score                                                fpr  \\\n",
       "0          0.84  [0.0, 0.0, 0.025, 0.125, 0.15, 0.15, 0.15, 0.1...   \n",
       "\n",
       "                                                 tpr  \\\n",
       "0  [0.0, 0.009523809523809525, 0.0285714285714285...   \n",
       "\n",
       "                                              thresh       auc  \n",
       "0  [1.801748279527469, 0.8017482795274691, 0.7858...  0.512381  "
      ]
     },
     "execution_count": 32,
     "metadata": {},
     "output_type": "execute_result"
    }
   ],
   "source": [
    "results_prereq_df"
   ]
  },
  {
   "cell_type": "markdown",
   "metadata": {},
   "source": [
    "## compute and plot ROC"
   ]
  },
  {
   "cell_type": "code",
   "execution_count": 13,
   "metadata": {},
   "outputs": [],
   "source": [
    "from scipy import interp\n",
    "from sklearn.metrics import auc\n",
    "import matplotlib.pyplot as plt\n",
    "\n",
    "def plot_roc(full_results, prereq_results, pathname, plot_title):\n",
    "    plt.figure(0, figsize=(8, 6), dpi=80).clf()\n",
    "    \n",
    "    fpr_pos = len(full_results[0]) - 4\n",
    "    tpr_pos = len(full_results[0]) - 3\n",
    "    auc_pos = len(full_results[0]) - 1\n",
    "    fpr = []\n",
    "    tpr = []\n",
    "    for i in range(len(full_results)):\n",
    "        course_data = full_results[i]\n",
    "        fpr_i = course_data[fpr_pos]\n",
    "        tpr_i = course_data[tpr_pos]\n",
    "        auc_i = course_data[auc_pos]\n",
    "        fpr.append(fpr_i)\n",
    "        tpr.append(tpr_i)\n",
    "        plt.plot(fpr_i,tpr_i, color='lightcoral', alpha=0.03)\n",
    "    \n",
    "    # Plot macro average for full\n",
    "    # First aggregate all false positive rates\n",
    "    all_fpr = np.unique(np.concatenate([fpr[i] for i in range(len(full_results))]))\n",
    "    # Then interpolate all ROC curves at this points\n",
    "    mean_tpr = np.zeros_like(all_fpr)\n",
    "    for i in range(len(full_results)):\n",
    "        mean_tpr += interp(all_fpr, fpr[i], tpr[i])\n",
    "    # Finally average it and compute AUC\n",
    "    mean_tpr /= len(full_results)\n",
    "    fpr_macro = all_fpr\n",
    "    tpr_macro = mean_tpr\n",
    "    roc_auc_macro = auc(fpr_macro, tpr_macro)\n",
    "    plt.plot(fpr_macro,tpr_macro,label=\"macro average for detected prereq model, auc=\"+\"{:.4f}\".format(roc_auc_macro), color='lightcoral', alpha=1)\n",
    "    \n",
    "    fpr = []\n",
    "    tpr = []\n",
    "    for i in range(len(prereq_results)):\n",
    "        course_data = prereq_results[i]\n",
    "        fpr_i = course_data[fpr_pos]\n",
    "        tpr_i = course_data[tpr_pos]\n",
    "        auc_i = course_data[auc_pos]\n",
    "        fpr.append(fpr_i)\n",
    "        tpr.append(tpr_i)\n",
    "        plt.plot(fpr_i,tpr_i, color='dodgerblue', alpha=0.03)\n",
    "\n",
    "    # Plot macro average for prereq\n",
    "    # First aggregate all false positive rates\n",
    "    all_fpr = np.unique(np.concatenate([fpr[i] for i in range(len(prereq_results))]))\n",
    "    # Then interpolate all ROC curves at this points\n",
    "    mean_tpr = np.zeros_like(all_fpr)\n",
    "    for i in range(len(prereq_results)):\n",
    "        mean_tpr += interp(all_fpr, fpr[i], tpr[i])\n",
    "    # Finally average it and compute AUC\n",
    "    mean_tpr /= len(prereq_results)\n",
    "    fpr_macro = all_fpr\n",
    "    tpr_macro = mean_tpr\n",
    "    roc_auc_macro = auc(fpr_macro, tpr_macro)\n",
    "    plt.plot(fpr_macro,tpr_macro,label=\"macro average for official prereq model, auc=\"+\"{:.4f}\".format(roc_auc_macro), color='dodgerblue', alpha=1)\n",
    "    \n",
    "    lw = 2\n",
    "    plt.plot([0, 1], [0, 1], color='navy', lw=lw, linestyle='--')\n",
    "    plt.xlim([0.0, 1.05])\n",
    "    plt.ylim([0.0, 1.05])\n",
    "    plt.xlabel('False Positive Rate')\n",
    "    plt.ylabel('True Positive Rate')\n",
    "    plt.title(plot_title)\n",
    "    plt.legend(loc=\"lower right\")\n",
    "    plt.savefig(\"../results/\" + PATHNAME + \"_auc.png\")\n",
    "    plt.show()\n",
    "    plt.close('all')"
   ]
  },
  {
   "cell_type": "markdown",
   "metadata": {},
   "source": [
    "## Iterate on log reg models inc. official prereqs"
   ]
  },
  {
   "cell_type": "code",
   "execution_count": 28,
   "metadata": {
    "scrolled": true
   },
   "outputs": [
    {
     "name": "stdout",
     "output_type": "stream",
     "text": [
      "TrueFalse\n",
      "False\n",
      "TrueFalse\n",
      "\n",
      "\n",
      "False\n",
      "False\n",
      "False\n",
      "False\n",
      "FalseFalse\n",
      "\n",
      "False\n"
     ]
    },
    {
     "name": "stderr",
     "output_type": "stream",
     "text": [
      "/Users/Abood/anaconda3/lib/python3.6/site-packages/sklearn/metrics/_ranking.py:808: UndefinedMetricWarning: No positive samples in y_true, true positive value should be meaningless\n",
      "  UndefinedMetricWarning)\n",
      "/Users/Abood/anaconda3/lib/python3.6/site-packages/sklearn/metrics/_ranking.py:808: UndefinedMetricWarning: No positive samples in y_true, true positive value should be meaningless\n",
      "  UndefinedMetricWarning)\n"
     ]
    },
    {
     "name": "stdout",
     "output_type": "stream",
     "text": [
      "False\n",
      "False\n",
      "FalseFalse\n",
      "\n",
      "False\n",
      "False\n"
     ]
    },
    {
     "name": "stderr",
     "output_type": "stream",
     "text": [
      "/Users/Abood/anaconda3/lib/python3.6/site-packages/sklearn/metrics/_ranking.py:800: UndefinedMetricWarning: No negative samples in y_true, false positive value should be meaningless\n",
      "  UndefinedMetricWarning)\n",
      "/Users/Abood/anaconda3/lib/python3.6/site-packages/sklearn/metrics/_ranking.py:800: UndefinedMetricWarning: No negative samples in y_true, false positive value should be meaningless\n",
      "  UndefinedMetricWarning)\n"
     ]
    },
    {
     "name": "stdout",
     "output_type": "stream",
     "text": [
      "False\n",
      "False\n"
     ]
    },
    {
     "name": "stderr",
     "output_type": "stream",
     "text": [
      "/Users/Abood/anaconda3/lib/python3.6/site-packages/sklearn/metrics/_ranking.py:800: UndefinedMetricWarning: No negative samples in y_true, false positive value should be meaningless\n",
      "  UndefinedMetricWarning)\n"
     ]
    },
    {
     "name": "stdout",
     "output_type": "stream",
     "text": [
      "True\n",
      "True\n",
      "False\n",
      "False\n",
      "False\n",
      "False\n"
     ]
    },
    {
     "name": "stderr",
     "output_type": "stream",
     "text": [
      "/Users/Abood/anaconda3/lib/python3.6/site-packages/sklearn/metrics/_ranking.py:800: UndefinedMetricWarning: No negative samples in y_true, false positive value should be meaningless\n",
      "  UndefinedMetricWarning)\n"
     ]
    },
    {
     "name": "stdout",
     "output_type": "stream",
     "text": [
      "False\n",
      "False\n",
      "False\n",
      "False\n",
      "False\n",
      "FalseFalse\n",
      "\n",
      "False\n"
     ]
    },
    {
     "name": "stderr",
     "output_type": "stream",
     "text": [
      "/Users/Abood/anaconda3/lib/python3.6/site-packages/sklearn/metrics/_ranking.py:800: UndefinedMetricWarning: No negative samples in y_true, false positive value should be meaningless\n",
      "  UndefinedMetricWarning)\n",
      "/Users/Abood/anaconda3/lib/python3.6/site-packages/sklearn/metrics/_ranking.py:800: UndefinedMetricWarning: No negative samples in y_true, false positive value should be meaningless\n",
      "  UndefinedMetricWarning)\n"
     ]
    },
    {
     "name": "stdout",
     "output_type": "stream",
     "text": [
      "False\n",
      "False\n",
      "FalseFalse\n",
      "False\n",
      "\n",
      "False\n",
      "False"
     ]
    },
    {
     "name": "stderr",
     "output_type": "stream",
     "text": [
      "/Users/Abood/anaconda3/lib/python3.6/site-packages/sklearn/metrics/_ranking.py:800: UndefinedMetricWarning: No negative samples in y_true, false positive value should be meaningless\n",
      "  UndefinedMetricWarning)\n",
      "/Users/Abood/anaconda3/lib/python3.6/site-packages/sklearn/metrics/_ranking.py:800: UndefinedMetricWarning: No negative samples in y_true, false positive value should be meaningless\n",
      "  UndefinedMetricWarning)\n"
     ]
    },
    {
     "name": "stdout",
     "output_type": "stream",
     "text": [
      "\n",
      "False\n",
      "False\n",
      "False\n"
     ]
    },
    {
     "name": "stderr",
     "output_type": "stream",
     "text": [
      "/Users/Abood/anaconda3/lib/python3.6/site-packages/sklearn/metrics/_ranking.py:808: UndefinedMetricWarning: No positive samples in y_true, true positive value should be meaningless\n",
      "  UndefinedMetricWarning)\n"
     ]
    },
    {
     "name": "stdout",
     "output_type": "stream",
     "text": [
      "False\n",
      "False\n",
      "False\n",
      "False\n",
      "False\n",
      "False\n",
      "False\n",
      "False\n",
      "False\n",
      "False\n",
      "FalseFalse\n",
      "\n",
      "FalseFalse\n",
      "False\n",
      "\n",
      "False\n",
      "False\n",
      "False\n"
     ]
    },
    {
     "name": "stderr",
     "output_type": "stream",
     "text": [
      "/Users/Abood/anaconda3/lib/python3.6/site-packages/sklearn/metrics/_ranking.py:800: UndefinedMetricWarning: No negative samples in y_true, false positive value should be meaningless\n",
      "  UndefinedMetricWarning)\n"
     ]
    },
    {
     "name": "stdout",
     "output_type": "stream",
     "text": [
      "False\n",
      "False\n",
      "False\n",
      "False\n",
      "False\n",
      "False\n",
      "False\n",
      "False\n",
      "False\n",
      "False\n",
      "True\n",
      "True\n",
      "True\n",
      "True\n",
      "True\n",
      "True\n",
      "False\n",
      "False\n",
      "False\n",
      "False\n",
      "False\n",
      "False\n"
     ]
    },
    {
     "name": "stderr",
     "output_type": "stream",
     "text": [
      "/Users/Abood/anaconda3/lib/python3.6/site-packages/sklearn/metrics/_ranking.py:800: UndefinedMetricWarning: No negative samples in y_true, false positive value should be meaningless\n",
      "  UndefinedMetricWarning)\n"
     ]
    },
    {
     "name": "stdout",
     "output_type": "stream",
     "text": [
      "False\n",
      "False\n",
      "False\n",
      "False\n",
      "False\n",
      "False\n",
      "False\n",
      "False\n",
      "False\n",
      "False\n",
      "False\n",
      "FalseFalse\n",
      "\n",
      "False\n"
     ]
    },
    {
     "name": "stderr",
     "output_type": "stream",
     "text": [
      "/Users/Abood/anaconda3/lib/python3.6/site-packages/sklearn/metrics/_ranking.py:808: UndefinedMetricWarning: No positive samples in y_true, true positive value should be meaningless\n",
      "  UndefinedMetricWarning)\n",
      "/Users/Abood/anaconda3/lib/python3.6/site-packages/sklearn/metrics/_ranking.py:800: UndefinedMetricWarning: No negative samples in y_true, false positive value should be meaningless\n",
      "  UndefinedMetricWarning)\n"
     ]
    },
    {
     "name": "stdout",
     "output_type": "stream",
     "text": [
      "FalseFalse\n",
      "\n",
      "FalseFalse\n",
      "\n",
      "True\n",
      "True\n",
      "False\n",
      "False\n",
      "False\n",
      "False\n",
      "False\n",
      "False\n",
      "False\n",
      "FalseFalse\n",
      "\n",
      "False\n",
      "FalseFalse\n",
      "\n",
      "FalseFalse\n",
      "\n"
     ]
    },
    {
     "name": "stderr",
     "output_type": "stream",
     "text": [
      "/Users/Abood/anaconda3/lib/python3.6/site-packages/sklearn/metrics/_ranking.py:800: UndefinedMetricWarning: No negative samples in y_true, false positive value should be meaningless\n",
      "  UndefinedMetricWarning)\n"
     ]
    },
    {
     "name": "stdout",
     "output_type": "stream",
     "text": [
      "FalseFalse\n",
      "\n",
      "False\n",
      "False\n",
      "False\n",
      "FalseFalse\n",
      "\n",
      "False\n",
      "False\n",
      "False\n",
      "False\n",
      "False\n"
     ]
    },
    {
     "name": "stderr",
     "output_type": "stream",
     "text": [
      "/Users/Abood/anaconda3/lib/python3.6/site-packages/sklearn/metrics/_ranking.py:808: UndefinedMetricWarning: No positive samples in y_true, true positive value should be meaningless\n",
      "  UndefinedMetricWarning)\n"
     ]
    },
    {
     "name": "stdout",
     "output_type": "stream",
     "text": [
      "False\n",
      "False\n"
     ]
    },
    {
     "name": "stderr",
     "output_type": "stream",
     "text": [
      "/Users/Abood/anaconda3/lib/python3.6/site-packages/sklearn/metrics/_ranking.py:800: UndefinedMetricWarning: No negative samples in y_true, false positive value should be meaningless\n",
      "  UndefinedMetricWarning)\n"
     ]
    },
    {
     "name": "stdout",
     "output_type": "stream",
     "text": [
      "False\n",
      "False\n"
     ]
    },
    {
     "name": "stderr",
     "output_type": "stream",
     "text": [
      "/Users/Abood/anaconda3/lib/python3.6/site-packages/sklearn/metrics/_ranking.py:808: UndefinedMetricWarning: No positive samples in y_true, true positive value should be meaningless\n",
      "  UndefinedMetricWarning)\n"
     ]
    },
    {
     "name": "stdout",
     "output_type": "stream",
     "text": [
      "False\n",
      "False\n",
      "False\n",
      "False\n"
     ]
    },
    {
     "name": "stderr",
     "output_type": "stream",
     "text": [
      "/Users/Abood/anaconda3/lib/python3.6/site-packages/sklearn/metrics/_ranking.py:800: UndefinedMetricWarning: No negative samples in y_true, false positive value should be meaningless\n",
      "  UndefinedMetricWarning)\n"
     ]
    },
    {
     "name": "stdout",
     "output_type": "stream",
     "text": [
      "False\n",
      "False\n",
      "False\n",
      "False\n",
      "False\n",
      "False\n",
      "False\n",
      "False\n",
      "False\n",
      "False\n",
      "True\n",
      "True\n",
      "False\n",
      "False\n"
     ]
    },
    {
     "name": "stderr",
     "output_type": "stream",
     "text": [
      "/Users/Abood/anaconda3/lib/python3.6/site-packages/sklearn/metrics/_ranking.py:800: UndefinedMetricWarning: No negative samples in y_true, false positive value should be meaningless\n",
      "  UndefinedMetricWarning)\n"
     ]
    },
    {
     "name": "stdout",
     "output_type": "stream",
     "text": [
      "False\n",
      "False\n",
      "False\n",
      "False\n",
      "False\n",
      "False\n",
      "True\n",
      "True\n",
      "False\n",
      "False\n",
      "False\n",
      "False\n",
      "False\n",
      "False\n"
     ]
    },
    {
     "name": "stderr",
     "output_type": "stream",
     "text": [
      "/Users/Abood/anaconda3/lib/python3.6/site-packages/sklearn/metrics/_ranking.py:800: UndefinedMetricWarning: No negative samples in y_true, false positive value should be meaningless\n",
      "  UndefinedMetricWarning)\n"
     ]
    },
    {
     "name": "stdout",
     "output_type": "stream",
     "text": [
      "False\n",
      "False\n",
      "False\n",
      "False\n",
      "False\n",
      "False\n",
      "False\n",
      "False\n",
      "False\n",
      "False\n",
      "FalseFalse\n",
      "False\n",
      "\n",
      "False\n",
      "False\n",
      "False\n",
      "False\n",
      "False\n",
      "False\n",
      "False\n",
      "False\n",
      "False\n",
      "False\n",
      "False\n"
     ]
    },
    {
     "name": "stderr",
     "output_type": "stream",
     "text": [
      "/Users/Abood/anaconda3/lib/python3.6/site-packages/sklearn/metrics/_ranking.py:800: UndefinedMetricWarning: No negative samples in y_true, false positive value should be meaningless\n",
      "  UndefinedMetricWarning)\n"
     ]
    },
    {
     "name": "stdout",
     "output_type": "stream",
     "text": [
      "False\n",
      "False\n",
      "False\n",
      "False\n",
      "False\n",
      "False\n",
      "False\n"
     ]
    },
    {
     "name": "stderr",
     "output_type": "stream",
     "text": [
      "/Users/Abood/anaconda3/lib/python3.6/site-packages/sklearn/metrics/_ranking.py:800: UndefinedMetricWarning: No negative samples in y_true, false positive value should be meaningless\n",
      "  UndefinedMetricWarning)\n"
     ]
    },
    {
     "name": "stdout",
     "output_type": "stream",
     "text": [
      "False\n"
     ]
    },
    {
     "name": "stderr",
     "output_type": "stream",
     "text": [
      "/Users/Abood/anaconda3/lib/python3.6/site-packages/sklearn/metrics/_ranking.py:800: UndefinedMetricWarning: No negative samples in y_true, false positive value should be meaningless\n",
      "  UndefinedMetricWarning)\n"
     ]
    },
    {
     "name": "stdout",
     "output_type": "stream",
     "text": [
      "FalseFalse\n",
      "\n",
      "False\n",
      "False\n",
      "False\n",
      "False\n",
      "False\n",
      "False\n",
      "False\n",
      "False\n",
      "False\n",
      "False\n",
      "False\n",
      "False\n"
     ]
    },
    {
     "name": "stderr",
     "output_type": "stream",
     "text": [
      "/Users/Abood/anaconda3/lib/python3.6/site-packages/sklearn/metrics/_ranking.py:800: UndefinedMetricWarning: No negative samples in y_true, false positive value should be meaningless\n",
      "  UndefinedMetricWarning)\n"
     ]
    },
    {
     "name": "stdout",
     "output_type": "stream",
     "text": [
      "False\n",
      "False\n",
      "False\n",
      "False\n",
      "False\n",
      "False\n",
      "False\n",
      "False\n",
      "False\n",
      "False\n",
      "False\n",
      "False\n"
     ]
    },
    {
     "name": "stderr",
     "output_type": "stream",
     "text": [
      "/Users/Abood/anaconda3/lib/python3.6/site-packages/sklearn/metrics/_ranking.py:800: UndefinedMetricWarning: No negative samples in y_true, false positive value should be meaningless\n",
      "  UndefinedMetricWarning)\n"
     ]
    },
    {
     "name": "stdout",
     "output_type": "stream",
     "text": [
      "FalseFalse\n",
      "False\n",
      "False\n",
      "\n",
      "False\n",
      "False\n",
      "False\n",
      "False\n"
     ]
    },
    {
     "name": "stderr",
     "output_type": "stream",
     "text": [
      "/Users/Abood/anaconda3/lib/python3.6/site-packages/sklearn/metrics/_ranking.py:800: UndefinedMetricWarning: No negative samples in y_true, false positive value should be meaningless\n",
      "  UndefinedMetricWarning)\n"
     ]
    },
    {
     "name": "stdout",
     "output_type": "stream",
     "text": [
      "False\n",
      "False\n",
      "False\n",
      "False\n"
     ]
    },
    {
     "name": "stderr",
     "output_type": "stream",
     "text": [
      "/Users/Abood/anaconda3/lib/python3.6/site-packages/sklearn/metrics/_ranking.py:800: UndefinedMetricWarning: No negative samples in y_true, false positive value should be meaningless\n",
      "  UndefinedMetricWarning)\n"
     ]
    },
    {
     "name": "stdout",
     "output_type": "stream",
     "text": [
      "False\n",
      "False\n",
      "False\n",
      "False\n",
      "True\n",
      "True\n",
      "False\n",
      "False\n",
      "False\n",
      "False\n"
     ]
    },
    {
     "name": "stderr",
     "output_type": "stream",
     "text": [
      "/Users/Abood/anaconda3/lib/python3.6/site-packages/sklearn/metrics/_ranking.py:800: UndefinedMetricWarning: No negative samples in y_true, false positive value should be meaningless\n",
      "  UndefinedMetricWarning)\n"
     ]
    },
    {
     "name": "stdout",
     "output_type": "stream",
     "text": [
      "False\n",
      "False\n",
      "False\n",
      "False\n",
      "False\n",
      "False\n",
      "False\n",
      "False\n",
      "True\n",
      "True\n",
      "False\n",
      "False\n",
      "False\n",
      "False\n",
      "False\n",
      "False\n",
      "False\n",
      "False\n"
     ]
    },
    {
     "name": "stderr",
     "output_type": "stream",
     "text": [
      "/Users/Abood/anaconda3/lib/python3.6/site-packages/sklearn/metrics/_ranking.py:808: UndefinedMetricWarning: No positive samples in y_true, true positive value should be meaningless\n",
      "  UndefinedMetricWarning)\n"
     ]
    },
    {
     "name": "stdout",
     "output_type": "stream",
     "text": [
      "False\n",
      "False\n",
      "False\n",
      "False\n",
      "False\n",
      "False\n",
      "False\n",
      "False\n",
      "False\n",
      "False\n",
      "False\n",
      "False\n",
      "True\n",
      "True\n"
     ]
    },
    {
     "name": "stderr",
     "output_type": "stream",
     "text": [
      "/Users/Abood/anaconda3/lib/python3.6/site-packages/sklearn/svm/_base.py:947: ConvergenceWarning: Liblinear failed to converge, increase the number of iterations.\n",
      "  \"the number of iterations.\", ConvergenceWarning)\n"
     ]
    },
    {
     "name": "stdout",
     "output_type": "stream",
     "text": [
      "False\n",
      "False\n",
      "False\n",
      "False\n",
      "False\n",
      "False\n",
      "False\n",
      "False\n",
      "False\n",
      "False\n",
      "False\n",
      "False\n"
     ]
    },
    {
     "name": "stderr",
     "output_type": "stream",
     "text": [
      "/Users/Abood/anaconda3/lib/python3.6/site-packages/sklearn/metrics/_ranking.py:800: UndefinedMetricWarning: No negative samples in y_true, false positive value should be meaningless\n",
      "  UndefinedMetricWarning)\n"
     ]
    },
    {
     "name": "stdout",
     "output_type": "stream",
     "text": [
      "False\n",
      "False\n",
      "False\n",
      "False\n",
      "True\n",
      "TrueFalse\n",
      "False\n",
      "\n"
     ]
    },
    {
     "name": "stderr",
     "output_type": "stream",
     "text": [
      "/Users/Abood/anaconda3/lib/python3.6/site-packages/sklearn/metrics/_ranking.py:800: UndefinedMetricWarning: No negative samples in y_true, false positive value should be meaningless\n",
      "  UndefinedMetricWarning)\n"
     ]
    },
    {
     "name": "stdout",
     "output_type": "stream",
     "text": [
      "False\n",
      "False\n",
      "False\n",
      "False\n",
      "False\n",
      "False\n",
      "False\n",
      "False\n"
     ]
    },
    {
     "name": "stderr",
     "output_type": "stream",
     "text": [
      "/Users/Abood/anaconda3/lib/python3.6/site-packages/sklearn/metrics/_ranking.py:808: UndefinedMetricWarning: No positive samples in y_true, true positive value should be meaningless\n",
      "  UndefinedMetricWarning)\n"
     ]
    },
    {
     "name": "stdout",
     "output_type": "stream",
     "text": [
      "False\n",
      "False\n",
      "False\n",
      "False\n",
      "False\n",
      "False\n"
     ]
    },
    {
     "name": "stderr",
     "output_type": "stream",
     "text": [
      "/Users/Abood/anaconda3/lib/python3.6/site-packages/sklearn/metrics/_ranking.py:800: UndefinedMetricWarning: No negative samples in y_true, false positive value should be meaningless\n",
      "  UndefinedMetricWarning)\n",
      "/Users/Abood/anaconda3/lib/python3.6/site-packages/sklearn/metrics/_ranking.py:800: UndefinedMetricWarning: No negative samples in y_true, false positive value should be meaningless\n",
      "  UndefinedMetricWarning)\n"
     ]
    },
    {
     "name": "stdout",
     "output_type": "stream",
     "text": [
      "False\n",
      "False\n",
      "False\n",
      "FalseFalse\n",
      "False\n",
      "\n",
      "False\n",
      "False\n",
      "False\n",
      "False\n",
      "False\n",
      "False\n",
      "True\n",
      "FalseTrue\n",
      "False\n",
      "\n",
      "False\n",
      "False\n",
      "False\n"
     ]
    },
    {
     "name": "stderr",
     "output_type": "stream",
     "text": [
      "/Users/Abood/anaconda3/lib/python3.6/site-packages/sklearn/metrics/_ranking.py:800: UndefinedMetricWarning: No negative samples in y_true, false positive value should be meaningless\n",
      "  UndefinedMetricWarning)\n"
     ]
    },
    {
     "name": "stdout",
     "output_type": "stream",
     "text": [
      "False\n",
      "False\n",
      "False\n"
     ]
    },
    {
     "name": "stderr",
     "output_type": "stream",
     "text": [
      "/Users/Abood/anaconda3/lib/python3.6/site-packages/sklearn/metrics/_ranking.py:800: UndefinedMetricWarning: No negative samples in y_true, false positive value should be meaningless\n",
      "  UndefinedMetricWarning)\n"
     ]
    },
    {
     "name": "stdout",
     "output_type": "stream",
     "text": [
      "False\n",
      "False\n",
      "False\n",
      "False\n",
      "False\n",
      "False\n",
      "False\n",
      "FalseFalse\n",
      "\n",
      "FalseFalse\n",
      "False\n",
      "\n"
     ]
    },
    {
     "name": "stderr",
     "output_type": "stream",
     "text": [
      "/Users/Abood/anaconda3/lib/python3.6/site-packages/sklearn/metrics/_ranking.py:800: UndefinedMetricWarning: No negative samples in y_true, false positive value should be meaningless\n",
      "  UndefinedMetricWarning)\n",
      "/Users/Abood/anaconda3/lib/python3.6/site-packages/sklearn/metrics/_ranking.py:800: UndefinedMetricWarning: No negative samples in y_true, false positive value should be meaningless\n",
      "  UndefinedMetricWarning)\n"
     ]
    },
    {
     "name": "stdout",
     "output_type": "stream",
     "text": [
      "False\n",
      "False\n"
     ]
    },
    {
     "name": "stderr",
     "output_type": "stream",
     "text": [
      "/Users/Abood/anaconda3/lib/python3.6/site-packages/sklearn/metrics/_ranking.py:800: UndefinedMetricWarning: No negative samples in y_true, false positive value should be meaningless\n",
      "  UndefinedMetricWarning)\n"
     ]
    },
    {
     "name": "stdout",
     "output_type": "stream",
     "text": [
      "False\n",
      "False\n",
      "False\n",
      "False\n",
      "True\n",
      "True\n",
      "False\n",
      "False\n",
      "False\n",
      "False\n"
     ]
    },
    {
     "name": "stderr",
     "output_type": "stream",
     "text": [
      "/Users/Abood/anaconda3/lib/python3.6/site-packages/sklearn/metrics/_ranking.py:800: UndefinedMetricWarning: No negative samples in y_true, false positive value should be meaningless\n",
      "  UndefinedMetricWarning)\n"
     ]
    },
    {
     "name": "stdout",
     "output_type": "stream",
     "text": [
      "False\n",
      "False\n"
     ]
    },
    {
     "name": "stderr",
     "output_type": "stream",
     "text": [
      "/Users/Abood/anaconda3/lib/python3.6/site-packages/sklearn/metrics/_ranking.py:800: UndefinedMetricWarning: No negative samples in y_true, false positive value should be meaningless\n",
      "  UndefinedMetricWarning)\n"
     ]
    },
    {
     "name": "stdout",
     "output_type": "stream",
     "text": [
      "True\n",
      "True\n",
      "False\n",
      "False\n",
      "False\n",
      "FalseFalseFalse\n",
      "False\n",
      "\n",
      "\n",
      "False\n"
     ]
    },
    {
     "name": "stderr",
     "output_type": "stream",
     "text": [
      "/Users/Abood/anaconda3/lib/python3.6/site-packages/sklearn/metrics/_ranking.py:800: UndefinedMetricWarning: No negative samples in y_true, false positive value should be meaningless\n",
      "  UndefinedMetricWarning)\n"
     ]
    },
    {
     "name": "stdout",
     "output_type": "stream",
     "text": [
      "False\n",
      "False\n",
      "False\n",
      "False\n",
      "False\n",
      "False\n",
      "False\n",
      "False\n",
      "False\n",
      "False\n",
      "False\n",
      "False\n",
      "False\n",
      "False\n"
     ]
    },
    {
     "name": "stderr",
     "output_type": "stream",
     "text": [
      "/Users/Abood/anaconda3/lib/python3.6/site-packages/sklearn/metrics/_ranking.py:800: UndefinedMetricWarning: No negative samples in y_true, false positive value should be meaningless\n",
      "  UndefinedMetricWarning)\n"
     ]
    },
    {
     "name": "stdout",
     "output_type": "stream",
     "text": [
      "False\n",
      "False\n",
      "True\n",
      "True\n",
      "False\n",
      "False\n",
      "False\n",
      "False\n",
      "FalseFalse\n",
      "False\n",
      "\n",
      "False\n",
      "False\n",
      "False\n",
      "False\n",
      "False\n",
      "False\n",
      "False\n",
      "False\n",
      "False\n",
      "False\n",
      "False\n",
      "FalseTrue\n",
      "TrueFalse\n",
      "\n",
      "\n",
      "False\n",
      "False\n",
      "True\n",
      "True\n",
      "False\n",
      "False\n"
     ]
    },
    {
     "name": "stderr",
     "output_type": "stream",
     "text": [
      "/Users/Abood/anaconda3/lib/python3.6/site-packages/sklearn/metrics/_ranking.py:800: UndefinedMetricWarning: No negative samples in y_true, false positive value should be meaningless\n",
      "  UndefinedMetricWarning)\n"
     ]
    },
    {
     "name": "stdout",
     "output_type": "stream",
     "text": [
      "False\n",
      "False\n",
      "False\n",
      "False\n",
      "False\n",
      "False\n"
     ]
    },
    {
     "name": "stderr",
     "output_type": "stream",
     "text": [
      "/Users/Abood/anaconda3/lib/python3.6/site-packages/sklearn/metrics/_ranking.py:800: UndefinedMetricWarning: No negative samples in y_true, false positive value should be meaningless\n",
      "  UndefinedMetricWarning)\n"
     ]
    },
    {
     "name": "stdout",
     "output_type": "stream",
     "text": [
      "False\n",
      "False\n",
      "False\n",
      "False\n",
      "False\n",
      "False\n",
      "False\n",
      "False\n",
      "False\n",
      "False\n",
      "False\n",
      "False\n"
     ]
    },
    {
     "name": "stderr",
     "output_type": "stream",
     "text": [
      "/Users/Abood/anaconda3/lib/python3.6/site-packages/sklearn/metrics/_ranking.py:800: UndefinedMetricWarning: No negative samples in y_true, false positive value should be meaningless\n",
      "  UndefinedMetricWarning)\n"
     ]
    },
    {
     "name": "stdout",
     "output_type": "stream",
     "text": [
      "False\n",
      "False\n",
      "False\n",
      "False\n",
      "False\n",
      "False\n"
     ]
    },
    {
     "name": "stderr",
     "output_type": "stream",
     "text": [
      "/Users/Abood/anaconda3/lib/python3.6/site-packages/sklearn/metrics/_ranking.py:808: UndefinedMetricWarning: No positive samples in y_true, true positive value should be meaningless\n",
      "  UndefinedMetricWarning)\n"
     ]
    },
    {
     "name": "stdout",
     "output_type": "stream",
     "text": [
      "False\n",
      "False\n",
      "True\n",
      "True\n",
      "False\n",
      "False\n",
      "False\n",
      "False\n",
      "FalseFalse\n",
      "\n",
      "False\n",
      "False\n"
     ]
    },
    {
     "name": "stderr",
     "output_type": "stream",
     "text": [
      "/Users/Abood/anaconda3/lib/python3.6/site-packages/sklearn/metrics/_ranking.py:800: UndefinedMetricWarning: No negative samples in y_true, false positive value should be meaningless\n",
      "  UndefinedMetricWarning)\n"
     ]
    },
    {
     "name": "stdout",
     "output_type": "stream",
     "text": [
      "False\n",
      "False\n",
      "False\n",
      "False\n"
     ]
    },
    {
     "name": "stderr",
     "output_type": "stream",
     "text": [
      "/Users/Abood/anaconda3/lib/python3.6/site-packages/sklearn/metrics/_ranking.py:800: UndefinedMetricWarning: No negative samples in y_true, false positive value should be meaningless\n",
      "  UndefinedMetricWarning)\n"
     ]
    },
    {
     "name": "stdout",
     "output_type": "stream",
     "text": [
      "False\n",
      "False\n",
      "False\n",
      "False\n",
      "False\n",
      "False\n",
      "False\n",
      "False\n",
      "False\n",
      "False\n",
      "False\n",
      "False\n",
      "False\n",
      "False\n",
      "False\n",
      "False\n"
     ]
    },
    {
     "name": "stderr",
     "output_type": "stream",
     "text": [
      "/Users/Abood/anaconda3/lib/python3.6/site-packages/sklearn/metrics/_ranking.py:808: UndefinedMetricWarning: No positive samples in y_true, true positive value should be meaningless\n",
      "  UndefinedMetricWarning)\n"
     ]
    },
    {
     "name": "stdout",
     "output_type": "stream",
     "text": [
      "False\n",
      "FalseFalse\n",
      "False\n",
      "\n",
      "False\n",
      "False"
     ]
    },
    {
     "name": "stderr",
     "output_type": "stream",
     "text": [
      "/Users/Abood/anaconda3/lib/python3.6/site-packages/sklearn/metrics/_ranking.py:800: UndefinedMetricWarning: No negative samples in y_true, false positive value should be meaningless\n",
      "  UndefinedMetricWarning)\n"
     ]
    },
    {
     "name": "stdout",
     "output_type": "stream",
     "text": [
      "\n",
      "False\n",
      "False\n"
     ]
    },
    {
     "name": "stderr",
     "output_type": "stream",
     "text": [
      "/Users/Abood/anaconda3/lib/python3.6/site-packages/sklearn/metrics/_ranking.py:800: UndefinedMetricWarning: No negative samples in y_true, false positive value should be meaningless\n",
      "  UndefinedMetricWarning)\n"
     ]
    },
    {
     "name": "stdout",
     "output_type": "stream",
     "text": [
      "False\n",
      "False\n",
      "False\n",
      "False"
     ]
    },
    {
     "name": "stderr",
     "output_type": "stream",
     "text": [
      "/Users/Abood/anaconda3/lib/python3.6/site-packages/sklearn/metrics/_ranking.py:800: UndefinedMetricWarning: No negative samples in y_true, false positive value should be meaningless\n",
      "  UndefinedMetricWarning)\n"
     ]
    },
    {
     "name": "stdout",
     "output_type": "stream",
     "text": [
      "\n",
      "False\n",
      "False\n",
      "False\n",
      "False\n",
      "False\n",
      "False\n"
     ]
    },
    {
     "name": "stderr",
     "output_type": "stream",
     "text": [
      "/Users/Abood/anaconda3/lib/python3.6/site-packages/sklearn/metrics/_ranking.py:800: UndefinedMetricWarning: No negative samples in y_true, false positive value should be meaningless\n",
      "  UndefinedMetricWarning)\n"
     ]
    },
    {
     "name": "stdout",
     "output_type": "stream",
     "text": [
      "False\n",
      "False\n",
      "False\n",
      "False\n"
     ]
    },
    {
     "name": "stderr",
     "output_type": "stream",
     "text": [
      "/Users/Abood/anaconda3/lib/python3.6/site-packages/sklearn/metrics/_ranking.py:800: UndefinedMetricWarning: No negative samples in y_true, false positive value should be meaningless\n",
      "  UndefinedMetricWarning)\n"
     ]
    },
    {
     "name": "stdout",
     "output_type": "stream",
     "text": [
      "False\n",
      "False\n"
     ]
    },
    {
     "name": "stderr",
     "output_type": "stream",
     "text": [
      "/Users/Abood/anaconda3/lib/python3.6/site-packages/sklearn/metrics/_ranking.py:808: UndefinedMetricWarning: No positive samples in y_true, true positive value should be meaningless\n",
      "  UndefinedMetricWarning)\n"
     ]
    },
    {
     "name": "stdout",
     "output_type": "stream",
     "text": [
      "False\n",
      "False\n"
     ]
    },
    {
     "name": "stderr",
     "output_type": "stream",
     "text": [
      "/Users/Abood/anaconda3/lib/python3.6/site-packages/sklearn/metrics/_ranking.py:800: UndefinedMetricWarning: No negative samples in y_true, false positive value should be meaningless\n",
      "  UndefinedMetricWarning)\n"
     ]
    },
    {
     "name": "stdout",
     "output_type": "stream",
     "text": [
      "False\n",
      "False\n"
     ]
    },
    {
     "name": "stderr",
     "output_type": "stream",
     "text": [
      "/Users/Abood/anaconda3/lib/python3.6/site-packages/sklearn/metrics/_ranking.py:800: UndefinedMetricWarning: No negative samples in y_true, false positive value should be meaningless\n",
      "  UndefinedMetricWarning)\n"
     ]
    },
    {
     "name": "stdout",
     "output_type": "stream",
     "text": [
      "False\n",
      "False\n",
      "False\n",
      "False\n",
      "False\n",
      "False\n",
      "False\n",
      "False\n",
      "False\n",
      "False\n",
      "False\n",
      "False\n",
      "False\n",
      "False\n",
      "False\n",
      "False\n",
      "False\n",
      "False\n",
      "False\n",
      "False\n",
      "False\n",
      "False\n",
      "False\n",
      "False\n",
      "False\n",
      "False\n",
      "False\n",
      "False\n",
      "False\n",
      "False\n"
     ]
    },
    {
     "name": "stderr",
     "output_type": "stream",
     "text": [
      "/Users/Abood/anaconda3/lib/python3.6/site-packages/sklearn/metrics/_ranking.py:800: UndefinedMetricWarning: No negative samples in y_true, false positive value should be meaningless\n",
      "  UndefinedMetricWarning)\n"
     ]
    },
    {
     "name": "stdout",
     "output_type": "stream",
     "text": [
      "False\n",
      "False\n",
      "True\n",
      "True\n",
      "False\n",
      "False\n",
      "True\n",
      "True\n",
      "False\n",
      "False\n",
      "True\n",
      "FalseTrue\n",
      "False\n",
      "\n",
      "False\n",
      "False\n"
     ]
    },
    {
     "name": "stderr",
     "output_type": "stream",
     "text": [
      "/Users/Abood/anaconda3/lib/python3.6/site-packages/sklearn/metrics/_ranking.py:800: UndefinedMetricWarning: No negative samples in y_true, false positive value should be meaningless\n",
      "  UndefinedMetricWarning)\n"
     ]
    },
    {
     "name": "stdout",
     "output_type": "stream",
     "text": [
      "False\n",
      "False\n",
      "False\n",
      "FalseFalse\n",
      "\n",
      "False\n"
     ]
    },
    {
     "name": "stderr",
     "output_type": "stream",
     "text": [
      "/Users/Abood/anaconda3/lib/python3.6/site-packages/sklearn/metrics/_ranking.py:800: UndefinedMetricWarning: No negative samples in y_true, false positive value should be meaningless\n",
      "  UndefinedMetricWarning)\n"
     ]
    },
    {
     "name": "stdout",
     "output_type": "stream",
     "text": [
      "False\n",
      "False\n",
      "False\n",
      "False\n",
      "False\n",
      "False\n",
      "False\n",
      "False\n",
      "False\n",
      "False\n"
     ]
    },
    {
     "name": "stderr",
     "output_type": "stream",
     "text": [
      "/Users/Abood/anaconda3/lib/python3.6/site-packages/sklearn/metrics/_ranking.py:800: UndefinedMetricWarning: No negative samples in y_true, false positive value should be meaningless\n",
      "  UndefinedMetricWarning)\n"
     ]
    },
    {
     "name": "stdout",
     "output_type": "stream",
     "text": [
      "False\n",
      "FalseTrue\n",
      "\n",
      "True\n",
      "False\n",
      "False\n"
     ]
    },
    {
     "name": "stderr",
     "output_type": "stream",
     "text": [
      "/Users/Abood/anaconda3/lib/python3.6/site-packages/sklearn/metrics/_ranking.py:800: UndefinedMetricWarning: No negative samples in y_true, false positive value should be meaningless\n",
      "  UndefinedMetricWarning)\n"
     ]
    },
    {
     "name": "stdout",
     "output_type": "stream",
     "text": [
      "FalseFalse\n",
      "\n",
      "FalseFalse\n",
      "\n",
      "False\n",
      "False\n",
      "FalseFalse\n",
      "\n",
      "FalseFalse\n",
      "\n"
     ]
    },
    {
     "name": "stderr",
     "output_type": "stream",
     "text": [
      "/Users/Abood/anaconda3/lib/python3.6/site-packages/sklearn/metrics/_ranking.py:800: UndefinedMetricWarning: No negative samples in y_true, false positive value should be meaningless\n",
      "  UndefinedMetricWarning)\n",
      "/Users/Abood/anaconda3/lib/python3.6/site-packages/sklearn/metrics/_ranking.py:800: UndefinedMetricWarning: No negative samples in y_true, false positive value should be meaningless\n",
      "  UndefinedMetricWarning)\n"
     ]
    },
    {
     "name": "stdout",
     "output_type": "stream",
     "text": [
      "False\n",
      "False\n",
      "False\n",
      "False\n",
      "False\n",
      "False\n"
     ]
    },
    {
     "name": "stderr",
     "output_type": "stream",
     "text": [
      "/Users/Abood/anaconda3/lib/python3.6/site-packages/sklearn/metrics/_ranking.py:800: UndefinedMetricWarning: No negative samples in y_true, false positive value should be meaningless\n",
      "  UndefinedMetricWarning)\n",
      "/Users/Abood/anaconda3/lib/python3.6/site-packages/sklearn/metrics/_ranking.py:800: UndefinedMetricWarning: No negative samples in y_true, false positive value should be meaningless\n",
      "  UndefinedMetricWarning)\n"
     ]
    },
    {
     "name": "stdout",
     "output_type": "stream",
     "text": [
      "False\n",
      "False\n",
      "FalseFalse\n",
      "\n"
     ]
    },
    {
     "name": "stderr",
     "output_type": "stream",
     "text": [
      "/Users/Abood/anaconda3/lib/python3.6/site-packages/sklearn/metrics/_ranking.py:808: UndefinedMetricWarning: No positive samples in y_true, true positive value should be meaningless\n",
      "  UndefinedMetricWarning)\n"
     ]
    },
    {
     "name": "stdout",
     "output_type": "stream",
     "text": [
      "False\n",
      "False\n",
      "False\n",
      "False\n",
      "False\n",
      "False\n",
      "False\n",
      "False\n",
      "FalseFalse\n",
      "\n",
      "FalseFalse\n",
      "\n",
      "False\n",
      "False\n",
      "False\n",
      "False\n",
      "False\n",
      "False\n",
      "False\n",
      "False\n",
      "False\n",
      "False\n"
     ]
    },
    {
     "name": "stderr",
     "output_type": "stream",
     "text": [
      "/Users/Abood/anaconda3/lib/python3.6/site-packages/sklearn/metrics/_ranking.py:800: UndefinedMetricWarning: No negative samples in y_true, false positive value should be meaningless\n",
      "  UndefinedMetricWarning)\n"
     ]
    },
    {
     "name": "stdout",
     "output_type": "stream",
     "text": [
      "False\n",
      "False\n",
      "False\n",
      "False\n",
      "False\n",
      "False\n",
      "False\n",
      "False\n",
      "False\n",
      "False\n",
      "False\n",
      "False\n",
      "False\n",
      "False\n",
      "False\n",
      "False\n",
      "False\n",
      "False\n",
      "False\n",
      "False\n"
     ]
    },
    {
     "name": "stderr",
     "output_type": "stream",
     "text": [
      "/Users/Abood/anaconda3/lib/python3.6/site-packages/sklearn/metrics/_ranking.py:800: UndefinedMetricWarning: No negative samples in y_true, false positive value should be meaningless\n",
      "  UndefinedMetricWarning)\n"
     ]
    },
    {
     "name": "stdout",
     "output_type": "stream",
     "text": [
      "False\n",
      "False\n",
      "False\n",
      "False\n",
      "False\n",
      "False\n"
     ]
    },
    {
     "name": "stderr",
     "output_type": "stream",
     "text": [
      "/Users/Abood/anaconda3/lib/python3.6/site-packages/sklearn/metrics/_ranking.py:800: UndefinedMetricWarning: No negative samples in y_true, false positive value should be meaningless\n",
      "  UndefinedMetricWarning)\n"
     ]
    },
    {
     "name": "stdout",
     "output_type": "stream",
     "text": [
      "False\n",
      "False\n",
      "False\n",
      "False\n",
      "False\n",
      "False\n",
      "False\n",
      "False\n"
     ]
    },
    {
     "name": "stderr",
     "output_type": "stream",
     "text": [
      "/Users/Abood/anaconda3/lib/python3.6/site-packages/sklearn/metrics/_ranking.py:800: UndefinedMetricWarning: No negative samples in y_true, false positive value should be meaningless\n",
      "  UndefinedMetricWarning)\n"
     ]
    },
    {
     "name": "stdout",
     "output_type": "stream",
     "text": [
      "False\n",
      "False\n",
      "False\n",
      "False\n"
     ]
    },
    {
     "name": "stderr",
     "output_type": "stream",
     "text": [
      "/Users/Abood/anaconda3/lib/python3.6/site-packages/sklearn/metrics/_ranking.py:808: UndefinedMetricWarning: No positive samples in y_true, true positive value should be meaningless\n",
      "  UndefinedMetricWarning)\n"
     ]
    },
    {
     "name": "stdout",
     "output_type": "stream",
     "text": [
      "False\n",
      "False\n",
      "False\n",
      "False\n",
      "False\n",
      "False\n",
      "False\n",
      "False\n",
      "False\n",
      "False\n",
      "False\n",
      "False\n",
      "False\n",
      "False\n",
      "False\n",
      "False\n",
      "False\n",
      "False\n"
     ]
    },
    {
     "name": "stderr",
     "output_type": "stream",
     "text": [
      "/Users/Abood/anaconda3/lib/python3.6/site-packages/sklearn/metrics/_ranking.py:800: UndefinedMetricWarning: No negative samples in y_true, false positive value should be meaningless\n",
      "  UndefinedMetricWarning)\n"
     ]
    },
    {
     "name": "stdout",
     "output_type": "stream",
     "text": [
      "False\n",
      "False\n",
      "False\n",
      "False\n",
      "False\n",
      "False\n",
      "False\n",
      "False\n",
      "False\n",
      "False\n"
     ]
    },
    {
     "name": "stderr",
     "output_type": "stream",
     "text": [
      "/Users/Abood/anaconda3/lib/python3.6/site-packages/sklearn/metrics/_ranking.py:800: UndefinedMetricWarning: No negative samples in y_true, false positive value should be meaningless\n",
      "  UndefinedMetricWarning)\n"
     ]
    },
    {
     "name": "stdout",
     "output_type": "stream",
     "text": [
      "False\n",
      "False\n"
     ]
    },
    {
     "name": "stderr",
     "output_type": "stream",
     "text": [
      "/Users/Abood/anaconda3/lib/python3.6/site-packages/sklearn/metrics/_ranking.py:800: UndefinedMetricWarning: No negative samples in y_true, false positive value should be meaningless\n",
      "  UndefinedMetricWarning)\n"
     ]
    },
    {
     "name": "stdout",
     "output_type": "stream",
     "text": [
      "False\n",
      "False\n",
      "False\n",
      "False\n",
      "False\n",
      "False\n",
      "False\n",
      "False\n",
      "False\n",
      "False\n",
      "False\n",
      "False\n"
     ]
    },
    {
     "name": "stderr",
     "output_type": "stream",
     "text": [
      "/Users/Abood/anaconda3/lib/python3.6/site-packages/sklearn/metrics/_ranking.py:800: UndefinedMetricWarning: No negative samples in y_true, false positive value should be meaningless\n",
      "  UndefinedMetricWarning)\n"
     ]
    },
    {
     "name": "stdout",
     "output_type": "stream",
     "text": [
      "False\n",
      "False\n",
      "False\n",
      "False\n",
      "False\n",
      "False\n",
      "False\n",
      "False\n",
      "False\n",
      "False\n",
      "False\n",
      "False\n",
      "False\n",
      "False\n"
     ]
    },
    {
     "name": "stderr",
     "output_type": "stream",
     "text": [
      "/Users/Abood/anaconda3/lib/python3.6/site-packages/sklearn/metrics/_ranking.py:800: UndefinedMetricWarning: No negative samples in y_true, false positive value should be meaningless\n",
      "  UndefinedMetricWarning)\n"
     ]
    },
    {
     "name": "stdout",
     "output_type": "stream",
     "text": [
      "False\n",
      "False\n"
     ]
    },
    {
     "name": "stderr",
     "output_type": "stream",
     "text": [
      "/Users/Abood/anaconda3/lib/python3.6/site-packages/sklearn/metrics/_ranking.py:800: UndefinedMetricWarning: No negative samples in y_true, false positive value should be meaningless\n",
      "  UndefinedMetricWarning)\n"
     ]
    },
    {
     "name": "stdout",
     "output_type": "stream",
     "text": [
      "FalseFalse\n",
      "False\n",
      "\n",
      "False\n",
      "False\n",
      "False\n"
     ]
    },
    {
     "name": "stderr",
     "output_type": "stream",
     "text": [
      "/Users/Abood/anaconda3/lib/python3.6/site-packages/sklearn/metrics/_ranking.py:800: UndefinedMetricWarning: No negative samples in y_true, false positive value should be meaningless\n",
      "  UndefinedMetricWarning)\n"
     ]
    },
    {
     "name": "stdout",
     "output_type": "stream",
     "text": [
      "False\n",
      "False\n",
      "False\n",
      "False\n",
      "False\n",
      "False\n",
      "False\n",
      "False\n",
      "False\n",
      "False\n"
     ]
    },
    {
     "name": "stderr",
     "output_type": "stream",
     "text": [
      "/Users/Abood/anaconda3/lib/python3.6/site-packages/sklearn/metrics/_ranking.py:800: UndefinedMetricWarning: No negative samples in y_true, false positive value should be meaningless\n",
      "  UndefinedMetricWarning)\n"
     ]
    },
    {
     "name": "stdout",
     "output_type": "stream",
     "text": [
      "False\n",
      "False\n",
      "False\n",
      "False\n",
      "False\n",
      "FalseFalse\n",
      "\n",
      "False\n",
      "False\n",
      "False\n",
      "False\n",
      "False\n"
     ]
    },
    {
     "name": "stderr",
     "output_type": "stream",
     "text": [
      "/Users/Abood/anaconda3/lib/python3.6/site-packages/sklearn/metrics/_ranking.py:800: UndefinedMetricWarning: No negative samples in y_true, false positive value should be meaningless\n",
      "  UndefinedMetricWarning)\n"
     ]
    },
    {
     "name": "stdout",
     "output_type": "stream",
     "text": [
      "False\n",
      "False\n",
      "False\n",
      "False\n"
     ]
    },
    {
     "name": "stderr",
     "output_type": "stream",
     "text": [
      "/Users/Abood/anaconda3/lib/python3.6/site-packages/sklearn/metrics/_ranking.py:800: UndefinedMetricWarning: No negative samples in y_true, false positive value should be meaningless\n",
      "  UndefinedMetricWarning)\n"
     ]
    },
    {
     "name": "stdout",
     "output_type": "stream",
     "text": [
      "False\n",
      "False\n",
      "False\n",
      "False\n",
      "False\n",
      "False\n",
      "False\n",
      "False\n",
      "False\n",
      "False\n",
      "False\n",
      "False\n",
      "False\n",
      "False\n",
      "False\n",
      "False\n",
      "False\n",
      "False\n",
      "True\n",
      "True\n",
      "False\n",
      "False\n",
      "False\n"
     ]
    },
    {
     "name": "stderr",
     "output_type": "stream",
     "text": [
      "/Users/Abood/anaconda3/lib/python3.6/site-packages/sklearn/metrics/_ranking.py:800: UndefinedMetricWarning: No negative samples in y_true, false positive value should be meaningless\n",
      "  UndefinedMetricWarning)\n"
     ]
    },
    {
     "name": "stdout",
     "output_type": "stream",
     "text": [
      "False\n",
      "False\n",
      "False\n",
      "True\n",
      "True\n",
      "True\n",
      "True\n",
      "False\n",
      "False\n",
      "False\n",
      "False\n",
      "False\n",
      "False\n",
      "False\n",
      "False\n",
      "True\n",
      "True\n",
      "False\n",
      "False\n",
      "True\n",
      "True\n",
      "False\n",
      "False\n",
      "False\n",
      "False\n",
      "False\n",
      "False\n"
     ]
    },
    {
     "name": "stderr",
     "output_type": "stream",
     "text": [
      "/Users/Abood/anaconda3/lib/python3.6/site-packages/sklearn/metrics/_ranking.py:800: UndefinedMetricWarning: No negative samples in y_true, false positive value should be meaningless\n",
      "  UndefinedMetricWarning)\n"
     ]
    },
    {
     "name": "stdout",
     "output_type": "stream",
     "text": [
      "False\n",
      "False\n",
      "False\n",
      "False\n",
      "False\n",
      "False\n",
      "False\n",
      "False\n",
      "False\n",
      "False\n",
      "False\n",
      "False\n",
      "FalseFalse\n",
      "False\n",
      "\n",
      "False\n",
      "False\n",
      "False\n",
      "False\n",
      "False\n",
      "True\n",
      "True\n",
      "False\n",
      "False\n",
      "False\n",
      "False\n",
      "False\n",
      "False\n",
      "False\n",
      "False\n"
     ]
    },
    {
     "name": "stderr",
     "output_type": "stream",
     "text": [
      "/Users/Abood/anaconda3/lib/python3.6/site-packages/sklearn/metrics/_ranking.py:800: UndefinedMetricWarning: No negative samples in y_true, false positive value should be meaningless\n",
      "  UndefinedMetricWarning)\n"
     ]
    },
    {
     "name": "stdout",
     "output_type": "stream",
     "text": [
      "False\n",
      "False\n"
     ]
    },
    {
     "name": "stderr",
     "output_type": "stream",
     "text": [
      "/Users/Abood/anaconda3/lib/python3.6/site-packages/sklearn/metrics/_ranking.py:800: UndefinedMetricWarning: No negative samples in y_true, false positive value should be meaningless\n",
      "  UndefinedMetricWarning)\n"
     ]
    },
    {
     "name": "stdout",
     "output_type": "stream",
     "text": [
      "True\n",
      "True\n",
      "False\n",
      "False\n",
      "False\n",
      "False\n",
      "False\n",
      "False\n",
      "False\n",
      "False\n",
      "False\n",
      "False\n"
     ]
    },
    {
     "name": "stderr",
     "output_type": "stream",
     "text": [
      "/Users/Abood/anaconda3/lib/python3.6/site-packages/sklearn/metrics/_ranking.py:800: UndefinedMetricWarning: No negative samples in y_true, false positive value should be meaningless\n",
      "  UndefinedMetricWarning)\n"
     ]
    },
    {
     "name": "stdout",
     "output_type": "stream",
     "text": [
      "False\n",
      "FalseFalse\n",
      "\n"
     ]
    },
    {
     "name": "stderr",
     "output_type": "stream",
     "text": [
      "/Users/Abood/anaconda3/lib/python3.6/site-packages/sklearn/metrics/_ranking.py:800: UndefinedMetricWarning: No negative samples in y_true, false positive value should be meaningless\n",
      "  UndefinedMetricWarning)\n"
     ]
    },
    {
     "name": "stdout",
     "output_type": "stream",
     "text": [
      "False\n",
      "False\n",
      "False\n",
      "FalseFalse\n",
      "False\n",
      "\n",
      "False\n",
      "False\n",
      "False\n"
     ]
    },
    {
     "name": "stderr",
     "output_type": "stream",
     "text": [
      "/Users/Abood/anaconda3/lib/python3.6/site-packages/sklearn/metrics/_ranking.py:808: UndefinedMetricWarning: No positive samples in y_true, true positive value should be meaningless\n",
      "  UndefinedMetricWarning)\n"
     ]
    },
    {
     "name": "stdout",
     "output_type": "stream",
     "text": [
      "False\n",
      "False\n",
      "False\n",
      "False\n",
      "True\n",
      "True\n",
      "False\n",
      "False\n"
     ]
    },
    {
     "name": "stderr",
     "output_type": "stream",
     "text": [
      "/Users/Abood/anaconda3/lib/python3.6/site-packages/sklearn/svm/_base.py:947: ConvergenceWarning: Liblinear failed to converge, increase the number of iterations.\n",
      "  \"the number of iterations.\", ConvergenceWarning)\n"
     ]
    },
    {
     "name": "stdout",
     "output_type": "stream",
     "text": [
      "False\n",
      "FalseFalse\n",
      "False\n",
      "\n"
     ]
    },
    {
     "name": "stderr",
     "output_type": "stream",
     "text": [
      "/Users/Abood/anaconda3/lib/python3.6/site-packages/sklearn/metrics/_ranking.py:800: UndefinedMetricWarning: No negative samples in y_true, false positive value should be meaningless\n",
      "  UndefinedMetricWarning)\n",
      "/Users/Abood/anaconda3/lib/python3.6/site-packages/sklearn/svm/_base.py:947: ConvergenceWarning: Liblinear failed to converge, increase the number of iterations.\n",
      "  \"the number of iterations.\", ConvergenceWarning)\n"
     ]
    },
    {
     "name": "stdout",
     "output_type": "stream",
     "text": [
      "False\n",
      "False\n",
      "False\n",
      "False\n",
      "False\n",
      "False\n",
      "False\n",
      "False\n",
      "False\n",
      "False\n"
     ]
    },
    {
     "name": "stderr",
     "output_type": "stream",
     "text": [
      "/Users/Abood/anaconda3/lib/python3.6/site-packages/sklearn/metrics/_ranking.py:800: UndefinedMetricWarning: No negative samples in y_true, false positive value should be meaningless\n",
      "  UndefinedMetricWarning)\n"
     ]
    },
    {
     "name": "stdout",
     "output_type": "stream",
     "text": [
      "False\n",
      "False\n",
      "False\n",
      "False\n",
      "False\n",
      "False\n"
     ]
    },
    {
     "name": "stderr",
     "output_type": "stream",
     "text": [
      "/Users/Abood/anaconda3/lib/python3.6/site-packages/sklearn/metrics/_ranking.py:800: UndefinedMetricWarning: No negative samples in y_true, false positive value should be meaningless\n",
      "  UndefinedMetricWarning)\n"
     ]
    },
    {
     "name": "stdout",
     "output_type": "stream",
     "text": [
      "False\n",
      "False\n",
      "False\n",
      "False\n",
      "False\n",
      "False\n",
      "False\n",
      "False\n",
      "False\n",
      "False\n",
      "True\n",
      "True\n",
      "False\n",
      "False\n",
      "False\n",
      "False\n",
      "False\n",
      "False\n"
     ]
    },
    {
     "name": "stderr",
     "output_type": "stream",
     "text": [
      "/Users/Abood/anaconda3/lib/python3.6/site-packages/sklearn/svm/_base.py:947: ConvergenceWarning: Liblinear failed to converge, increase the number of iterations.\n",
      "  \"the number of iterations.\", ConvergenceWarning)\n",
      "/Users/Abood/anaconda3/lib/python3.6/site-packages/sklearn/metrics/_ranking.py:800: UndefinedMetricWarning: No negative samples in y_true, false positive value should be meaningless\n",
      "  UndefinedMetricWarning)\n"
     ]
    },
    {
     "name": "stdout",
     "output_type": "stream",
     "text": [
      "True\n",
      "True\n",
      "False\n",
      "False\n",
      "False\n",
      "False\n",
      "False\n",
      "FalseFalse\n",
      "False\n",
      "\n",
      "FalseFalse\n",
      "\n"
     ]
    },
    {
     "name": "stderr",
     "output_type": "stream",
     "text": [
      "/Users/Abood/anaconda3/lib/python3.6/site-packages/sklearn/metrics/_ranking.py:800: UndefinedMetricWarning: No negative samples in y_true, false positive value should be meaningless\n",
      "  UndefinedMetricWarning)\n"
     ]
    },
    {
     "name": "stdout",
     "output_type": "stream",
     "text": [
      "False\n",
      "False\n",
      "True\n",
      "True\n",
      "False\n",
      "FalseFalse\n",
      "\n",
      "False\n",
      "False\n",
      "False\n",
      "False\n",
      "False\n"
     ]
    },
    {
     "name": "stderr",
     "output_type": "stream",
     "text": [
      "/Users/Abood/anaconda3/lib/python3.6/site-packages/sklearn/metrics/_ranking.py:800: UndefinedMetricWarning: No negative samples in y_true, false positive value should be meaningless\n",
      "  UndefinedMetricWarning)\n"
     ]
    },
    {
     "name": "stdout",
     "output_type": "stream",
     "text": [
      "True\n",
      "True\n",
      "False\n",
      "False\n"
     ]
    },
    {
     "name": "stderr",
     "output_type": "stream",
     "text": [
      "/Users/Abood/anaconda3/lib/python3.6/site-packages/sklearn/metrics/_ranking.py:800: UndefinedMetricWarning: No negative samples in y_true, false positive value should be meaningless\n",
      "  UndefinedMetricWarning)\n"
     ]
    },
    {
     "name": "stdout",
     "output_type": "stream",
     "text": [
      "False\n",
      "False\n",
      "False\n",
      "FalseFalse\n",
      "\n",
      "False\n",
      "False\n",
      "False\n",
      "False\n",
      "False\n",
      "False\n",
      "False\n"
     ]
    },
    {
     "name": "stderr",
     "output_type": "stream",
     "text": [
      "/Users/Abood/anaconda3/lib/python3.6/site-packages/sklearn/metrics/_ranking.py:800: UndefinedMetricWarning: No negative samples in y_true, false positive value should be meaningless\n",
      "  UndefinedMetricWarning)\n"
     ]
    },
    {
     "name": "stdout",
     "output_type": "stream",
     "text": [
      "False\n",
      "False\n",
      "False\n",
      "False\n",
      "False\n",
      "False\n",
      "False\n",
      "False\n",
      "False\n",
      "False\n",
      "False\n",
      "False\n"
     ]
    },
    {
     "name": "stderr",
     "output_type": "stream",
     "text": [
      "/Users/Abood/anaconda3/lib/python3.6/site-packages/sklearn/metrics/_ranking.py:800: UndefinedMetricWarning: No negative samples in y_true, false positive value should be meaningless\n",
      "  UndefinedMetricWarning)\n"
     ]
    },
    {
     "name": "stdout",
     "output_type": "stream",
     "text": [
      "False\n",
      "False\n",
      "False\n",
      "False\n"
     ]
    },
    {
     "name": "stderr",
     "output_type": "stream",
     "text": [
      "/Users/Abood/anaconda3/lib/python3.6/site-packages/sklearn/metrics/_ranking.py:800: UndefinedMetricWarning: No negative samples in y_true, false positive value should be meaningless\n",
      "  UndefinedMetricWarning)\n"
     ]
    },
    {
     "name": "stdout",
     "output_type": "stream",
     "text": [
      "False\n"
     ]
    },
    {
     "name": "stderr",
     "output_type": "stream",
     "text": [
      "/Users/Abood/anaconda3/lib/python3.6/site-packages/sklearn/metrics/_ranking.py:800: UndefinedMetricWarning: No negative samples in y_true, false positive value should be meaningless\n",
      "  UndefinedMetricWarning)\n"
     ]
    },
    {
     "name": "stdout",
     "output_type": "stream",
     "text": [
      "False\n",
      "False\n",
      "False\n",
      "False\n",
      "False\n"
     ]
    },
    {
     "name": "stderr",
     "output_type": "stream",
     "text": [
      "/Users/Abood/anaconda3/lib/python3.6/site-packages/sklearn/metrics/_ranking.py:808: UndefinedMetricWarning: No positive samples in y_true, true positive value should be meaningless\n",
      "  UndefinedMetricWarning)\n"
     ]
    },
    {
     "name": "stdout",
     "output_type": "stream",
     "text": [
      "False\n",
      "False\n",
      "True\n",
      "True\n",
      "False\n",
      "False\n"
     ]
    },
    {
     "name": "stderr",
     "output_type": "stream",
     "text": [
      "/Users/Abood/anaconda3/lib/python3.6/site-packages/sklearn/metrics/_ranking.py:800: UndefinedMetricWarning: No negative samples in y_true, false positive value should be meaningless\n",
      "  UndefinedMetricWarning)\n"
     ]
    },
    {
     "name": "stdout",
     "output_type": "stream",
     "text": [
      "False\n",
      "False\n",
      "False\n",
      "False\n"
     ]
    },
    {
     "name": "stderr",
     "output_type": "stream",
     "text": [
      "/Users/Abood/anaconda3/lib/python3.6/site-packages/sklearn/metrics/_ranking.py:800: UndefinedMetricWarning: No negative samples in y_true, false positive value should be meaningless\n",
      "  UndefinedMetricWarning)\n"
     ]
    },
    {
     "name": "stdout",
     "output_type": "stream",
     "text": [
      "False\n",
      "False\n"
     ]
    },
    {
     "name": "stderr",
     "output_type": "stream",
     "text": [
      "/Users/Abood/anaconda3/lib/python3.6/site-packages/sklearn/metrics/_ranking.py:800: UndefinedMetricWarning: No negative samples in y_true, false positive value should be meaningless\n",
      "  UndefinedMetricWarning)\n"
     ]
    },
    {
     "name": "stdout",
     "output_type": "stream",
     "text": [
      "False\n",
      "False\n",
      "False\n",
      "False\n"
     ]
    },
    {
     "name": "stderr",
     "output_type": "stream",
     "text": [
      "/Users/Abood/anaconda3/lib/python3.6/site-packages/sklearn/metrics/_ranking.py:800: UndefinedMetricWarning: No negative samples in y_true, false positive value should be meaningless\n",
      "  UndefinedMetricWarning)\n"
     ]
    },
    {
     "name": "stdout",
     "output_type": "stream",
     "text": [
      "False\n",
      "False\n",
      "False\n",
      "False\n",
      "False\n",
      "False\n"
     ]
    },
    {
     "name": "stderr",
     "output_type": "stream",
     "text": [
      "/Users/Abood/anaconda3/lib/python3.6/site-packages/sklearn/metrics/_ranking.py:800: UndefinedMetricWarning: No negative samples in y_true, false positive value should be meaningless\n",
      "  UndefinedMetricWarning)\n"
     ]
    },
    {
     "name": "stdout",
     "output_type": "stream",
     "text": [
      "False\n",
      "False\n"
     ]
    },
    {
     "name": "stderr",
     "output_type": "stream",
     "text": [
      "/Users/Abood/anaconda3/lib/python3.6/site-packages/sklearn/metrics/_ranking.py:800: UndefinedMetricWarning: No negative samples in y_true, false positive value should be meaningless\n",
      "  UndefinedMetricWarning)\n"
     ]
    },
    {
     "name": "stdout",
     "output_type": "stream",
     "text": [
      "False\n",
      "False\n",
      "False\n",
      "False\n",
      "False\n",
      "False\n",
      "False\n",
      "False\n",
      "False\n",
      "False\n",
      "False\n",
      "False\n"
     ]
    },
    {
     "name": "stderr",
     "output_type": "stream",
     "text": [
      "/Users/Abood/anaconda3/lib/python3.6/site-packages/sklearn/metrics/_ranking.py:800: UndefinedMetricWarning: No negative samples in y_true, false positive value should be meaningless\n",
      "  UndefinedMetricWarning)\n"
     ]
    },
    {
     "name": "stdout",
     "output_type": "stream",
     "text": [
      "False\n",
      "False\n",
      "False\n",
      "False\n",
      "False\n",
      "False\n",
      "True\n",
      "True\n",
      "False\n",
      "False\n",
      "False\n",
      "False\n"
     ]
    },
    {
     "name": "stderr",
     "output_type": "stream",
     "text": [
      "/Users/Abood/anaconda3/lib/python3.6/site-packages/sklearn/metrics/_ranking.py:800: UndefinedMetricWarning: No negative samples in y_true, false positive value should be meaningless\n",
      "  UndefinedMetricWarning)\n"
     ]
    },
    {
     "name": "stdout",
     "output_type": "stream",
     "text": [
      "False\n",
      "False\n",
      "False\n",
      "False\n",
      "False\n",
      "False\n",
      "False\n",
      "False\n",
      "False\n",
      "False\n",
      "False\n",
      "False\n"
     ]
    },
    {
     "name": "stderr",
     "output_type": "stream",
     "text": [
      "/Users/Abood/anaconda3/lib/python3.6/site-packages/sklearn/metrics/_ranking.py:800: UndefinedMetricWarning: No negative samples in y_true, false positive value should be meaningless\n",
      "  UndefinedMetricWarning)\n"
     ]
    },
    {
     "name": "stdout",
     "output_type": "stream",
     "text": [
      "False\n",
      "False\n",
      "False\n",
      "False\n",
      "True\n",
      "True\n",
      "False\n",
      "False\n"
     ]
    },
    {
     "name": "stderr",
     "output_type": "stream",
     "text": [
      "/Users/Abood/anaconda3/lib/python3.6/site-packages/sklearn/metrics/_ranking.py:800: UndefinedMetricWarning: No negative samples in y_true, false positive value should be meaningless\n",
      "  UndefinedMetricWarning)\n"
     ]
    },
    {
     "name": "stdout",
     "output_type": "stream",
     "text": [
      "False\n",
      "False\n",
      "False\n",
      "False\n",
      "True\n",
      "True\n",
      "False\n",
      "False\n"
     ]
    },
    {
     "name": "stderr",
     "output_type": "stream",
     "text": [
      "/Users/Abood/anaconda3/lib/python3.6/site-packages/sklearn/svm/_base.py:947: ConvergenceWarning: Liblinear failed to converge, increase the number of iterations.\n",
      "  \"the number of iterations.\", ConvergenceWarning)\n",
      "/Users/Abood/anaconda3/lib/python3.6/site-packages/sklearn/svm/_base.py:947: ConvergenceWarning: Liblinear failed to converge, increase the number of iterations.\n",
      "  \"the number of iterations.\", ConvergenceWarning)\n"
     ]
    },
    {
     "name": "stdout",
     "output_type": "stream",
     "text": [
      "False\n",
      "False\n"
     ]
    },
    {
     "name": "stderr",
     "output_type": "stream",
     "text": [
      "/Users/Abood/anaconda3/lib/python3.6/site-packages/sklearn/metrics/_ranking.py:800: UndefinedMetricWarning: No negative samples in y_true, false positive value should be meaningless\n",
      "  UndefinedMetricWarning)\n"
     ]
    },
    {
     "name": "stdout",
     "output_type": "stream",
     "text": [
      "False\n",
      "False\n"
     ]
    },
    {
     "name": "stderr",
     "output_type": "stream",
     "text": [
      "/Users/Abood/anaconda3/lib/python3.6/site-packages/sklearn/metrics/_ranking.py:800: UndefinedMetricWarning: No negative samples in y_true, false positive value should be meaningless\n",
      "  UndefinedMetricWarning)\n"
     ]
    },
    {
     "name": "stdout",
     "output_type": "stream",
     "text": [
      "False\n",
      "False\n"
     ]
    },
    {
     "name": "stderr",
     "output_type": "stream",
     "text": [
      "/Users/Abood/anaconda3/lib/python3.6/site-packages/sklearn/metrics/_ranking.py:800: UndefinedMetricWarning: No negative samples in y_true, false positive value should be meaningless\n",
      "  UndefinedMetricWarning)\n"
     ]
    },
    {
     "name": "stdout",
     "output_type": "stream",
     "text": [
      "False\n",
      "False\n"
     ]
    },
    {
     "name": "stderr",
     "output_type": "stream",
     "text": [
      "/Users/Abood/anaconda3/lib/python3.6/site-packages/sklearn/metrics/_ranking.py:808: UndefinedMetricWarning: No positive samples in y_true, true positive value should be meaningless\n",
      "  UndefinedMetricWarning)\n"
     ]
    },
    {
     "name": "stdout",
     "output_type": "stream",
     "text": [
      "False\n",
      "False\n",
      "True\n",
      "True\n",
      "False\n",
      "False\n",
      "False\n",
      "False\n",
      "False\n",
      "False\n"
     ]
    },
    {
     "name": "stderr",
     "output_type": "stream",
     "text": [
      "/Users/Abood/anaconda3/lib/python3.6/site-packages/sklearn/metrics/_ranking.py:800: UndefinedMetricWarning: No negative samples in y_true, false positive value should be meaningless\n",
      "  UndefinedMetricWarning)\n"
     ]
    },
    {
     "name": "stdout",
     "output_type": "stream",
     "text": [
      "False\n",
      "False\n",
      "False\n",
      "False\n",
      "False\n",
      "False\n"
     ]
    },
    {
     "name": "stderr",
     "output_type": "stream",
     "text": [
      "/Users/Abood/anaconda3/lib/python3.6/site-packages/sklearn/metrics/_ranking.py:800: UndefinedMetricWarning: No negative samples in y_true, false positive value should be meaningless\n",
      "  UndefinedMetricWarning)\n",
      "/Users/Abood/anaconda3/lib/python3.6/site-packages/sklearn/metrics/_ranking.py:800: UndefinedMetricWarning: No negative samples in y_true, false positive value should be meaningless\n",
      "  UndefinedMetricWarning)\n"
     ]
    },
    {
     "name": "stdout",
     "output_type": "stream",
     "text": [
      "False\n",
      "False\n",
      "False\n",
      "False\n"
     ]
    },
    {
     "name": "stderr",
     "output_type": "stream",
     "text": [
      "/Users/Abood/anaconda3/lib/python3.6/site-packages/sklearn/metrics/_ranking.py:800: UndefinedMetricWarning: No negative samples in y_true, false positive value should be meaningless\n",
      "  UndefinedMetricWarning)\n"
     ]
    },
    {
     "name": "stdout",
     "output_type": "stream",
     "text": [
      "False\n",
      "False\n",
      "TrueFalse\n",
      "False\n",
      "\n",
      "True\n",
      "False\n",
      "False\n",
      "False\n",
      "False\n",
      "False\n",
      "FalseFalse\n",
      "\n",
      "FalseFalse\n",
      "\n",
      "False\n",
      "False\n",
      "False\n",
      "False\n",
      "False\n",
      "False\n",
      "False\n",
      "False\n",
      "FalseFalse\n",
      "False\n",
      "\n",
      "False\n",
      "False\n",
      "True\n",
      "True\n",
      "False\n",
      "False\n",
      "False\n",
      "False\n",
      "FalseFalseTrue\n",
      "True\n",
      "\n",
      "\n"
     ]
    },
    {
     "name": "stderr",
     "output_type": "stream",
     "text": [
      "/Users/Abood/anaconda3/lib/python3.6/site-packages/sklearn/metrics/_ranking.py:800: UndefinedMetricWarning: No negative samples in y_true, false positive value should be meaningless\n",
      "  UndefinedMetricWarning)\n"
     ]
    },
    {
     "name": "stdout",
     "output_type": "stream",
     "text": [
      "False\n",
      "False\n"
     ]
    },
    {
     "name": "stderr",
     "output_type": "stream",
     "text": [
      "/Users/Abood/anaconda3/lib/python3.6/site-packages/sklearn/metrics/_ranking.py:800: UndefinedMetricWarning: No negative samples in y_true, false positive value should be meaningless\n",
      "  UndefinedMetricWarning)\n"
     ]
    },
    {
     "name": "stdout",
     "output_type": "stream",
     "text": [
      "False\n",
      "False\n",
      "True\n",
      "True\n",
      "False\n",
      "False\n",
      "False\n",
      "False\n",
      "False\n",
      "False\n"
     ]
    },
    {
     "name": "stderr",
     "output_type": "stream",
     "text": [
      "/Users/Abood/anaconda3/lib/python3.6/site-packages/sklearn/metrics/_ranking.py:800: UndefinedMetricWarning: No negative samples in y_true, false positive value should be meaningless\n",
      "  UndefinedMetricWarning)\n"
     ]
    },
    {
     "name": "stdout",
     "output_type": "stream",
     "text": [
      "False\n",
      "False\n",
      "False\n",
      "False\n"
     ]
    },
    {
     "name": "stderr",
     "output_type": "stream",
     "text": [
      "/Users/Abood/anaconda3/lib/python3.6/site-packages/sklearn/metrics/_ranking.py:800: UndefinedMetricWarning: No negative samples in y_true, false positive value should be meaningless\n",
      "  UndefinedMetricWarning)\n"
     ]
    },
    {
     "name": "stdout",
     "output_type": "stream",
     "text": [
      "False\n",
      "False\n"
     ]
    },
    {
     "name": "stderr",
     "output_type": "stream",
     "text": [
      "/Users/Abood/anaconda3/lib/python3.6/site-packages/sklearn/metrics/_ranking.py:800: UndefinedMetricWarning: No negative samples in y_true, false positive value should be meaningless\n",
      "  UndefinedMetricWarning)\n"
     ]
    },
    {
     "name": "stdout",
     "output_type": "stream",
     "text": [
      "False\n",
      "False\n",
      "False\n",
      "False\n"
     ]
    },
    {
     "name": "stderr",
     "output_type": "stream",
     "text": [
      "/Users/Abood/anaconda3/lib/python3.6/site-packages/sklearn/metrics/_ranking.py:808: UndefinedMetricWarning: No positive samples in y_true, true positive value should be meaningless\n",
      "  UndefinedMetricWarning)\n"
     ]
    },
    {
     "name": "stdout",
     "output_type": "stream",
     "text": [
      "True\n",
      "True\n",
      "False\n",
      "False\n",
      "False\n",
      "False\n"
     ]
    },
    {
     "name": "stderr",
     "output_type": "stream",
     "text": [
      "/Users/Abood/anaconda3/lib/python3.6/site-packages/sklearn/metrics/_ranking.py:800: UndefinedMetricWarning: No negative samples in y_true, false positive value should be meaningless\n",
      "  UndefinedMetricWarning)\n"
     ]
    },
    {
     "name": "stdout",
     "output_type": "stream",
     "text": [
      "False\n",
      "False\n",
      "False\n",
      "False\n",
      "False\n",
      "False\n",
      "False\n",
      "False\n",
      "False\n",
      "False\n",
      "False\n",
      "False\n"
     ]
    },
    {
     "name": "stderr",
     "output_type": "stream",
     "text": [
      "/Users/Abood/anaconda3/lib/python3.6/site-packages/sklearn/metrics/_ranking.py:800: UndefinedMetricWarning: No negative samples in y_true, false positive value should be meaningless\n",
      "  UndefinedMetricWarning)\n"
     ]
    },
    {
     "name": "stdout",
     "output_type": "stream",
     "text": [
      "False\n",
      "False\n",
      "False\n",
      "False\n",
      "False\n",
      "False\n",
      "False\n",
      "False\n",
      "False\n",
      "False\n",
      "False\n",
      "False\n"
     ]
    },
    {
     "name": "stderr",
     "output_type": "stream",
     "text": [
      "/Users/Abood/anaconda3/lib/python3.6/site-packages/sklearn/metrics/_ranking.py:800: UndefinedMetricWarning: No negative samples in y_true, false positive value should be meaningless\n",
      "  UndefinedMetricWarning)\n"
     ]
    },
    {
     "name": "stdout",
     "output_type": "stream",
     "text": [
      "False\n",
      "False\n",
      "False\n",
      "False\n",
      "False\n",
      "False\n"
     ]
    },
    {
     "name": "stderr",
     "output_type": "stream",
     "text": [
      "/Users/Abood/anaconda3/lib/python3.6/site-packages/sklearn/metrics/_ranking.py:800: UndefinedMetricWarning: No negative samples in y_true, false positive value should be meaningless\n",
      "  UndefinedMetricWarning)\n"
     ]
    },
    {
     "name": "stdout",
     "output_type": "stream",
     "text": [
      "False\n",
      "False\n",
      "False\n",
      "False\n",
      "FalseFalse\n",
      "False\n",
      "\n",
      "False\n"
     ]
    },
    {
     "name": "stderr",
     "output_type": "stream",
     "text": [
      "/Users/Abood/anaconda3/lib/python3.6/site-packages/sklearn/metrics/_ranking.py:800: UndefinedMetricWarning: No negative samples in y_true, false positive value should be meaningless\n",
      "  UndefinedMetricWarning)\n"
     ]
    },
    {
     "name": "stdout",
     "output_type": "stream",
     "text": [
      "False\n",
      "False\n",
      "True\n",
      "True\n",
      "False\n",
      "False\n",
      "False\n",
      "False\n",
      "False\n",
      "False\n",
      "False\n",
      "False\n",
      "False\n",
      "False\n"
     ]
    },
    {
     "name": "stderr",
     "output_type": "stream",
     "text": [
      "/Users/Abood/anaconda3/lib/python3.6/site-packages/sklearn/metrics/_ranking.py:800: UndefinedMetricWarning: No negative samples in y_true, false positive value should be meaningless\n",
      "  UndefinedMetricWarning)\n"
     ]
    },
    {
     "name": "stdout",
     "output_type": "stream",
     "text": [
      "FalseFalse\n",
      "\n",
      "FalseFalse\n",
      "\n",
      "False\n",
      "False\n"
     ]
    },
    {
     "name": "stderr",
     "output_type": "stream",
     "text": [
      "/Users/Abood/anaconda3/lib/python3.6/site-packages/sklearn/metrics/_ranking.py:800: UndefinedMetricWarning: No negative samples in y_true, false positive value should be meaningless\n",
      "  UndefinedMetricWarning)\n",
      "/Users/Abood/anaconda3/lib/python3.6/site-packages/sklearn/metrics/_ranking.py:800: UndefinedMetricWarning: No negative samples in y_true, false positive value should be meaningless\n",
      "  UndefinedMetricWarning)\n"
     ]
    },
    {
     "name": "stdout",
     "output_type": "stream",
     "text": [
      "False\n",
      "False\n",
      "False"
     ]
    },
    {
     "name": "stderr",
     "output_type": "stream",
     "text": [
      "/Users/Abood/anaconda3/lib/python3.6/site-packages/sklearn/metrics/_ranking.py:800: UndefinedMetricWarning: No negative samples in y_true, false positive value should be meaningless\n",
      "  UndefinedMetricWarning)\n"
     ]
    },
    {
     "name": "stdout",
     "output_type": "stream",
     "text": [
      "\n",
      "False\n",
      "False\n",
      "False\n",
      "False\n",
      "False\n",
      "False\n",
      "False\n"
     ]
    },
    {
     "name": "stderr",
     "output_type": "stream",
     "text": [
      "/Users/Abood/anaconda3/lib/python3.6/site-packages/sklearn/metrics/_ranking.py:800: UndefinedMetricWarning: No negative samples in y_true, false positive value should be meaningless\n",
      "  UndefinedMetricWarning)\n"
     ]
    },
    {
     "name": "stdout",
     "output_type": "stream",
     "text": [
      "False\n",
      "False\n",
      "False\n",
      "False\n"
     ]
    },
    {
     "name": "stderr",
     "output_type": "stream",
     "text": [
      "/Users/Abood/anaconda3/lib/python3.6/site-packages/sklearn/metrics/_ranking.py:800: UndefinedMetricWarning: No negative samples in y_true, false positive value should be meaningless\n",
      "  UndefinedMetricWarning)\n"
     ]
    },
    {
     "name": "stdout",
     "output_type": "stream",
     "text": [
      "False\n",
      "False\n",
      "False\n",
      "False\n",
      "False\n",
      "False\n",
      "False\n",
      "False\n",
      "False\n",
      "False\n",
      "False\n",
      "False\n",
      "False\n",
      "False\n"
     ]
    },
    {
     "name": "stderr",
     "output_type": "stream",
     "text": [
      "/Users/Abood/anaconda3/lib/python3.6/site-packages/sklearn/metrics/_ranking.py:800: UndefinedMetricWarning: No negative samples in y_true, false positive value should be meaningless\n",
      "  UndefinedMetricWarning)\n"
     ]
    },
    {
     "name": "stdout",
     "output_type": "stream",
     "text": [
      "True\n",
      "True\n",
      "False\n",
      "False\n",
      "False\n",
      "False\n"
     ]
    },
    {
     "name": "stderr",
     "output_type": "stream",
     "text": [
      "/Users/Abood/anaconda3/lib/python3.6/site-packages/sklearn/metrics/_ranking.py:800: UndefinedMetricWarning: No negative samples in y_true, false positive value should be meaningless\n",
      "  UndefinedMetricWarning)\n"
     ]
    },
    {
     "name": "stdout",
     "output_type": "stream",
     "text": [
      "False\n",
      "False\n",
      "False\n",
      "False\n",
      "False\n",
      "False\n"
     ]
    },
    {
     "name": "stderr",
     "output_type": "stream",
     "text": [
      "/Users/Abood/anaconda3/lib/python3.6/site-packages/sklearn/metrics/_ranking.py:800: UndefinedMetricWarning: No negative samples in y_true, false positive value should be meaningless\n",
      "  UndefinedMetricWarning)\n"
     ]
    },
    {
     "name": "stdout",
     "output_type": "stream",
     "text": [
      "FalseFalse\n",
      "False\n",
      "False\n",
      "\n"
     ]
    },
    {
     "name": "stderr",
     "output_type": "stream",
     "text": [
      "/Users/Abood/anaconda3/lib/python3.6/site-packages/sklearn/metrics/_ranking.py:800: UndefinedMetricWarning: No negative samples in y_true, false positive value should be meaningless\n",
      "  UndefinedMetricWarning)\n"
     ]
    },
    {
     "name": "stdout",
     "output_type": "stream",
     "text": [
      "False\n",
      "False\n",
      "False\n",
      "False\n"
     ]
    },
    {
     "name": "stderr",
     "output_type": "stream",
     "text": [
      "/Users/Abood/anaconda3/lib/python3.6/site-packages/sklearn/metrics/_ranking.py:808: UndefinedMetricWarning: No positive samples in y_true, true positive value should be meaningless\n",
      "  UndefinedMetricWarning)\n"
     ]
    },
    {
     "name": "stdout",
     "output_type": "stream",
     "text": [
      "False\n",
      "False\n",
      "False\n",
      "False\n"
     ]
    },
    {
     "name": "stderr",
     "output_type": "stream",
     "text": [
      "/Users/Abood/anaconda3/lib/python3.6/site-packages/sklearn/metrics/_ranking.py:800: UndefinedMetricWarning: No negative samples in y_true, false positive value should be meaningless\n",
      "  UndefinedMetricWarning)\n"
     ]
    },
    {
     "name": "stdout",
     "output_type": "stream",
     "text": [
      "False\n",
      "False\n",
      "False\n",
      "False\n",
      "False\n",
      "False\n",
      "True\n",
      "True\n",
      "False\n",
      "False\n",
      "False\n",
      "False\n",
      "False\n",
      "False\n",
      "False\n",
      "False\n",
      "False\n",
      "False\n",
      "False\n",
      "False\n",
      "False\n",
      "False\n",
      "False\n",
      "False\n",
      "False\n",
      "False\n",
      "False\n",
      "False\n",
      "False\n",
      "False\n",
      "False\n",
      "False\n",
      "False\n",
      "False\n"
     ]
    },
    {
     "name": "stderr",
     "output_type": "stream",
     "text": [
      "/Users/Abood/anaconda3/lib/python3.6/site-packages/sklearn/metrics/_ranking.py:800: UndefinedMetricWarning: No negative samples in y_true, false positive value should be meaningless\n",
      "  UndefinedMetricWarning)\n",
      "/Users/Abood/anaconda3/lib/python3.6/site-packages/sklearn/metrics/_ranking.py:800: UndefinedMetricWarning: No negative samples in y_true, false positive value should be meaningless\n",
      "  UndefinedMetricWarning)\n"
     ]
    },
    {
     "name": "stdout",
     "output_type": "stream",
     "text": [
      "True\n",
      "True\n",
      "FalseFalse\n",
      "False\n",
      "False\n",
      "\n"
     ]
    },
    {
     "name": "stderr",
     "output_type": "stream",
     "text": [
      "/Users/Abood/anaconda3/lib/python3.6/site-packages/sklearn/metrics/_ranking.py:800: UndefinedMetricWarning: No negative samples in y_true, false positive value should be meaningless\n",
      "  UndefinedMetricWarning)\n"
     ]
    },
    {
     "name": "stdout",
     "output_type": "stream",
     "text": [
      "FalseFalse\n",
      "\n",
      "False\n",
      "False\n",
      "False\n",
      "False\n",
      "False\n",
      "False\n",
      "False\n",
      "False\n",
      "True\n",
      "True\n",
      "False\n",
      "False\n",
      "False\n",
      "False\n",
      "False\n",
      "False\n",
      "False\n",
      "False\n",
      "False\n",
      "False\n",
      "False\n",
      "False\n",
      "False\n",
      "False\n",
      "False\n",
      "False\n"
     ]
    },
    {
     "name": "stderr",
     "output_type": "stream",
     "text": [
      "/Users/Abood/anaconda3/lib/python3.6/site-packages/sklearn/metrics/_ranking.py:800: UndefinedMetricWarning: No negative samples in y_true, false positive value should be meaningless\n",
      "  UndefinedMetricWarning)\n"
     ]
    },
    {
     "name": "stdout",
     "output_type": "stream",
     "text": [
      "FalseTrue\n",
      "\n",
      "True\n",
      "False\n"
     ]
    },
    {
     "name": "stderr",
     "output_type": "stream",
     "text": [
      "/Users/Abood/anaconda3/lib/python3.6/site-packages/sklearn/metrics/_ranking.py:800: UndefinedMetricWarning: No negative samples in y_true, false positive value should be meaningless\n",
      "  UndefinedMetricWarning)\n"
     ]
    },
    {
     "name": "stdout",
     "output_type": "stream",
     "text": [
      "False\n",
      "False\n"
     ]
    },
    {
     "name": "stderr",
     "output_type": "stream",
     "text": [
      "/Users/Abood/anaconda3/lib/python3.6/site-packages/sklearn/metrics/_ranking.py:800: UndefinedMetricWarning: No negative samples in y_true, false positive value should be meaningless\n",
      "  UndefinedMetricWarning)\n"
     ]
    },
    {
     "name": "stdout",
     "output_type": "stream",
     "text": [
      "False\n",
      "False\n",
      "False\n",
      "False\n",
      "False\n",
      "False\n",
      "False\n",
      "False\n",
      "False\n",
      "False\n",
      "False\n",
      "False\n",
      "FalseFalse\n",
      "False\n",
      "\n",
      "False\n",
      "False\n",
      "False\n",
      "False\n",
      "False\n",
      "False\n",
      "False\n",
      "False\n",
      "False\n",
      "False\n",
      "False\n",
      "False\n",
      "False\n",
      "False\n",
      "False\n",
      "False\n",
      "False\n",
      "False\n",
      "False\n",
      "False\n",
      "False\n",
      "False\n",
      "False\n"
     ]
    },
    {
     "data": {
      "image/png": "[encoded data removed]",
      "text/plain": [
       "<Figure size 640x480 with 1 Axes>"
      ]
     },
     "metadata": {},
     "output_type": "display_data"
    },
    {
     "name": "stdout",
     "output_type": "stream",
     "text": [
      "CPU times: user 1h 38min 12s, sys: 6min 57s, total: 1h 45min 9s\n",
      "Wall time: 1h 45min 29s\n"
     ]
    }
   ],
   "source": [
    "%%time\n",
    "\n",
    "from concurrent.futures import ThreadPoolExecutor\n",
    "\n",
    "LETTER_GRADES = [\"A+\", \"A\", \"A-\", \"B+\", \"B\", \"B-\", \"C+\", \"C\", \"C-\", \"D+\", \"D\", \"D-\", \"NP\", \"W\"]\n",
    "PASS_GRADES = [\"A+\", \"A\", \"A-\", \"B+\", \"B\", \"B-\", \"C+\", \"C\", \"C-\", \"D+\", \"D\", \"D-\"]\n",
    "SUCCESS_GRADES = [\"A+\", \"A\", \"A-\", \"B+\"]\n",
    "BMINUS_GRADES = [\"A+\", \"A\", \"A-\", \"B+\", \"B\", \"B-\"]\n",
    "COLUMN_NAMES = [\"course_name\", \"train_score\", \"test_score\", \"dev_score\", \"train_groundtruth\", \"test_groundtruth\", \"dev_groundtruth\", \"train_size\", \"test_size\", \"dev_size\", \"test_precision\", \"test_recall\", \"test_f1_score\", \"dev_precision\", \"dev_recall\", \"dev_f1_score\", \"dev_fpr\", \"dev_tpr\", \"dev_threshold\", \"dev_auc\"]\n",
    "ALL_COURSES = set(raw_data[\"course_name\"]) \n",
    "\n",
    "############# MODIFY THIS SECTION #############\n",
    "courselist = ALL_COURSES\n",
    "\n",
    "gender_param = False\n",
    "gpa_param = True # currently crashes if set to True\n",
    "x1grades_param = SUCCESS_GRADES\n",
    "y1grades_param = SUCCESS_GRADES\n",
    "dev = True\n",
    "penalty = 'l1'\n",
    "C = 0.1\n",
    "random_seed = 42\n",
    "solver = 'liblinear'\n",
    "\n",
    "PATHNAME = \"success_lasso\"\n",
    "PLOT_TITLE = \"ROC curve for all courses, \\\"success\\\" model with LASSO\"\n",
    "\n",
    "limited_run = True\n",
    "limit_count = 20\n",
    "###############################################\n",
    "\n",
    "results_full = []\n",
    "results_prereq = []\n",
    "\n",
    "count = 0\n",
    "if limited_run:\n",
    "    limit = limit_count\n",
    "else:\n",
    "    limit = len(courselist)\n",
    "\n",
    "executor = ThreadPoolExecutor()\n",
    "for course_name in courselist:\n",
    "    executor.submit(run_predictions_with_prereqs, course_name, results_full, results_prereq, TEST_QUARTERS, \n",
    "                    gender_param, gpa_param, x1grades_param, y1grades_param, dev, penalty, C, random_seed, solver)\n",
    "\n",
    "# #     seems like most of the time is spent executing the threads, not submitting them\n",
    "#     count += 1\n",
    "#     print(str(count) + \" of \" + str(limit))\n",
    "\n",
    "    if limited_run:\n",
    "        if count == limit_count:\n",
    "            break\n",
    "executor.shutdown()\n",
    "\n",
    "if limited_run:\n",
    "    PATHNAME = PATHNAME + \"_limited\" + str(limit_count)\n",
    "\n",
    "if dev:\n",
    "    plot_roc(results_full, results_prereq, PATHNAME, PLOT_TITLE)\n",
    "\n",
    "results_full_df = pd.DataFrame(results_full, columns = COLUMN_NAMES)\n",
    "results_prereq_df = pd.DataFrame(results_prereq, columns = COLUMN_NAMES)\n",
    "RESULTS_FULL_PATH_CSV = \"../results/\" + PATHNAME + \"_full.csv\"\n",
    "RESULTS_PREREQ_PATH_CSV = \"../results/\" + PATHNAME + \"_prereq.csv\"\n",
    "results_full_df.to_csv(RESULTS_FULL_PATH_CSV)\n",
    "results_prereq_df.to_csv(RESULTS_PREREQ_PATH_CSV)\n",
    "\n",
    "# # feather currently doesn't work for some reason\n",
    "# RESULTS_FULL_PATH = \"../results/\" + PATHNAME + \"_full.fthr\"\n",
    "# RESULTS_PREREQ_PATH = \"../results/\" + PATHNAME + \"_prereq.fthr\"\n",
    "# results_full_df.to_feather(RESULTS_FULL_PATH)\n",
    "# results_prereq_df.to_feather(RESULTS_PREREQ_PATH)"
   ]
  },
  {
   "cell_type": "markdown",
   "metadata": {},
   "source": [
    "# models run:\n",
    "\n",
    "## 2020-05-22 \"absolute_baseline\", unregularized pass-pass\n",
    "\n",
    "############# MODIFY THIS SECTION #############\n",
    "courselist = ALL_COURSES\n",
    "\n",
    "gender_param = False\n",
    "gpa_param = False # currently crashes if set to True\n",
    "x1grades_param = PASS_GRADES\n",
    "y1grades_param = PASS_GRADES\n",
    "dev = True\n",
    "penalty = 'none'\n",
    "C = 1.0\n",
    "random_seed = 42\n",
    "solver = 'lbfgs'\n",
    "\n",
    "PATHNAME = \"absolute_baseline\"\n",
    "PLOT_TITLE = \"ROC curve for all courses, baseline model\"\n",
    "\n",
    "limited_run = False\n",
    "limit_count = 20\n",
    "###############################################\n",
    "\n",
    "## 2020-05-22 \"success_initial\", default regularization (L2, C=1.0) with success-success\n",
    "\n",
    "############# MODIFY THIS SECTION #############\n",
    "courselist = ALL_COURSES\n",
    "\n",
    "gender_param = False\n",
    "gpa_param = False # currently crashes if set to True\n",
    "x1grades_param = SUCCESS_GRADES\n",
    "y1grades_param = SUCCESS_GRADES\n",
    "dev = True\n",
    "penalty = 'l2'\n",
    "C = 1.0\n",
    "random_seed = 42\n",
    "solver = 'lbfgs'\n",
    "\n",
    "PATHNAME = \"success_initial\"\n",
    "PLOT_TITLE = \"ROC curve for all courses, initial \\\"success\\\" model\"\n",
    "\n",
    "limited_run = False\n",
    "limit_count = 20\n",
    "###############################################\n",
    "\n",
    "## 2020-05-22 \"success_lasso\", L1 regularization C=0.1 with success-success\n",
    "\n",
    "############# MODIFY THIS SECTION #############\n",
    "courselist = ALL_COURSES\n",
    "\n",
    "gender_param = False\n",
    "gpa_param = False # currently crashes if set to True\n",
    "x1grades_param = SUCCESS_GRADES\n",
    "y1grades_param = SUCCESS_GRADES\n",
    "dev = True\n",
    "penalty = 'l1'\n",
    "C = 0.1\n",
    "random_seed = 42\n",
    "solver = 'liblinear'\n",
    "\n",
    "PATHNAME = \"success_lasso\"\n",
    "PLOT_TITLE = \"ROC curve for all courses, \\\"success\\\" model with LASSO\"\n",
    "\n",
    "limited_run = False\n",
    "limit_count = 20\n",
    "###############################################"
   ]
  },
  {
   "cell_type": "markdown",
   "metadata": {
    "colab_type": "text",
    "id": "ugt1tNoThn9-"
   },
   "source": [
    "## LASSO logistic regression to reduce nonzero coefficients"
   ]
  },
  {
   "cell_type": "code",
   "execution_count": null,
   "metadata": {},
   "outputs": [],
   "source": [
    "# TEST_QUARTERS = [1194, 1196] # aka \"dev\" quarters\n",
    "\n",
    "# def one_course_lasso(course_name, test_quarters = TEST_QUARTERS, gender = False, gpa= False, prereqSuccess = False):\n",
    "#     X_train, X_test, y_train, y_test, fail_flag = get_and_split_data(course_name, test_quarters, gender, gpa = gpa, prereqSuccess = prereqSuccess)\n",
    "#     for i in [10, 3, 1, 0.3, 0.1, 0.03, 0.01]:\n",
    "#         model = LogisticRegression(penalty=\"l1\", solver=\"saga\", C=i, max_iter=1000) \n",
    "#         model.fit(X_train, y_train)\n",
    "#         train_score = model.score(X_train, y_train)\n",
    "#         test_score = model.score(X_test, y_test) \n",
    "#         print(\"\\n***** C = {} *****\".format(i))\n",
    "#         print(\"training accuracy: {}, ground truth (proportion y = 1): {}\".format(train_score, y_train.mean()))\n",
    "#         print(\"test accuracy: {}, ground truth (proportion y = 1): {}\".format(test_score, y_test.mean()))\n",
    "        \n",
    "#         coefs = [(X_train.columns[i], model.coef_[0][i]) for i in range(len(X_train.columns))]\n",
    "#         coefs_pos = sorted(coefs, key = lambda x: x[1], reverse = True)\n",
    "#         coefs_neg = sorted(coefs, key = lambda x: x[1], reverse = False)\n",
    "#         coefs_abs = sorted(coefs, key = lambda x: abs(x[1]), reverse = True)\n",
    "#         coefs_nonzero = sum([x[1] != 0 for x in coefs])\n",
    "#         coefs_zero = sum(x[1] == 0 for x in coefs)\n",
    "#         print(\"Number of nonzero/zero coefficients: {}/{}\".format(coefs_nonzero, coefs_zero))\n",
    "#         print(\"Largest absolute coefficients:\")\n",
    "#         pprint(coefs_abs[:3])\n",
    "#         print(\"Largest positive coefficients:\")\n",
    "#         pprint(coefs_pos[:3])\n",
    "#         print(\"Largest negative coefficients:\")\n",
    "#         pprint(coefs_neg[:3])"
   ]
  }
 ],
 "metadata": {
  "colab": {
   "collapsed_sections": [],
   "name": "Copy of Abdallah - Copy of final project.ipynb",
   "provenance": [
    {
     "file_id": "15M7mGpvkAqoxI_Zfr1eDwzSDriIi0Rag",
     "timestamp": 1574302635518
    }
   ],
   "toc_visible": true
  },
  "kernelspec": {
   "display_name": "Python 3",
   "language": "python",
   "name": "python3"
  },
  "language_info": {
   "codemirror_mode": {
    "name": "ipython",
    "version": 3
   },
   "file_extension": ".py",
   "mimetype": "text/x-python",
   "name": "python",
   "nbconvert_exporter": "python",
   "pygments_lexer": "ipython3",
   "version": "3.6.4"
  }
 },
 "nbformat": 4,
 "nbformat_minor": 1
}
