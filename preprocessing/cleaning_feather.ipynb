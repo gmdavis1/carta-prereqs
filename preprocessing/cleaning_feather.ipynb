{
 "cells": [
  {
   "cell_type": "markdown",
   "metadata": {
    "colab_type": "text",
    "id": "0tJvLhn_UJPs"
   },
   "source": [
    "# Setup"
   ]
  },
  {
   "cell_type": "code",
   "execution_count": null,
   "metadata": {
    "colab": {},
    "colab_type": "code",
    "id": "vIFgvkvmZtrG"
   },
   "outputs": [],
   "source": [
    "import pandas as pd\n",
    "from pprint import pprint"
   ]
  },
  {
   "cell_type": "markdown",
   "metadata": {
    "colab_type": "text",
    "id": "8arNKjjOT6v7"
   },
   "source": [
    "# Feather to CSV and Dropping Columns"
   ]
  },
  {
   "cell_type": "code",
   "execution_count": null,
   "metadata": {
    "colab": {},
    "colab_type": "code",
    "id": "bJ7JtzWjZv-p"
   },
   "outputs": [],
   "source": [
    "# raw_data = pd.read_csv('../data/last_five_years.csv', header=0)\n",
    "# result = pyreadr.read_r('../data/merged_data.rds')\n",
    "# raw_data = result[None]\n",
    "raw_data = pd.read_feather('../data/merged_data.fthr')"
   ]
  },
  {
   "cell_type": "code",
   "execution_count": null,
   "metadata": {},
   "outputs": [],
   "source": [
    "raw_data.columns"
   ]
  },
  {
   "cell_type": "code",
   "execution_count": null,
   "metadata": {},
   "outputs": [],
   "source": [
    "new_courses = raw_data.loc[raw_data['acad_career'] == \"UG\"]"
   ]
  },
  {
   "cell_type": "code",
   "execution_count": null,
   "metadata": {},
   "outputs": [],
   "source": [
    "new_courses_mod = new_courses.drop(['ssr_component', 'crse_acad_group', 'crse_grade_off', 'last_upd_dt_stmp',\n",
    "                                'last_upd_tm_stmp', 'class_nbr',\n",
    "                                'grading_basis_dt', 'effdt', 'unt_prgrss',\n",
    "                                'grading_scheme_enr', 'crse_id',\n",
    "                                'major1', 'major2', 'major3', 'major4', 'major5', 'major6', 'major7', 'oprid'], axis=1)"
   ]
  },
  {
   "cell_type": "code",
   "execution_count": null,
   "metadata": {},
   "outputs": [],
   "source": [
    "new_courses_mod.to_csv('../data/clean_full.csv')"
   ]
  },
  {
   "cell_type": "code",
   "execution_count": null,
   "metadata": {},
   "outputs": [],
   "source": [
    "new_courses_mod"
   ]
  },
  {
   "cell_type": "markdown",
   "metadata": {},
   "source": [
    "# Creating restricted_wcc dataset (only courses from WCC, no summer)"
   ]
  },
  {
   "cell_type": "code",
   "execution_count": null,
   "metadata": {},
   "outputs": [],
   "source": [
    "WCC_PATH = \"../data/weakly_connected_enrollments.fthr\""
   ]
  },
  {
   "cell_type": "code",
   "execution_count": null,
   "metadata": {},
   "outputs": [],
   "source": [
    "wcc_df = pd.read_feather(WCC_PATH)\n",
    "wcc_df.columns"
   ]
  },
  {
   "cell_type": "code",
   "execution_count": null,
   "metadata": {},
   "outputs": [],
   "source": [
    "wcc_df"
   ]
  },
  {
   "cell_type": "code",
   "execution_count": null,
   "metadata": {},
   "outputs": [],
   "source": [
    "wcc_df[[\"major1\", \"major2\", \"major3\", \"major4\", \"major5\", \"major6\", \"major7\"]]"
   ]
  },
  {
   "cell_type": "code",
   "execution_count": null,
   "metadata": {},
   "outputs": [],
   "source": [
    "wcc_df[\"course_name\"].value_counts()[\"LINGUIST 188\"]"
   ]
  },
  {
   "cell_type": "code",
   "execution_count": null,
   "metadata": {},
   "outputs": [],
   "source": [
    "wcc_df = wcc_df.drop(['ssr_component', 'crse_acad_group', 'crse_grade_off', 'last_upd_dt_stmp',\n",
    "                                'last_upd_tm_stmp', 'class_nbr',\n",
    "                                'grading_basis_dt', 'effdt', 'unt_prgrss',\n",
    "                                'grading_scheme_enr', 'crse_id',\n",
    "                                'major1', 'major2', 'major3', 'major4', 'major5', 'major6', 'major7', 'oprid', 'course_name'], axis=1)\n",
    "wcc_df[\"course_name\"] = wcc_df[\"subject\"] + wcc_df[\"catalog_nbr\"]\n",
    "wcc_df"
   ]
  },
  {
   "cell_type": "code",
   "execution_count": null,
   "metadata": {},
   "outputs": [],
   "source": [
    "# filter to keep only students with at least one course in strm >= 1162\n",
    "keep_students = wcc_df[wcc_df[\"strm\"] >= 1162][\"emplid\"].unique()\n",
    "print(len(keep_students))\n",
    "print(keep_students)\n",
    "\n",
    "wcc_df.drop(wcc_df[(wcc_df[\"strm\"] < 1162) & (~wcc_df[\"emplid\"].isin(keep_students))].index, inplace=True)\n",
    "wcc_df"
   ]
  },
  {
   "cell_type": "code",
   "execution_count": null,
   "metadata": {},
   "outputs": [],
   "source": [
    "# drop summer courses\n",
    "wcc_df.drop(wcc_df[wcc_df[\"strm\"] % 10 == 8].index, inplace=True)\n",
    "wcc_df"
   ]
  },
  {
   "cell_type": "code",
   "execution_count": null,
   "metadata": {},
   "outputs": [],
   "source": [
    "pd.set_option('display.max_rows', None)\n",
    "wcc_df[\"strm\"].value_counts(sort = False)"
   ]
  },
  {
   "cell_type": "code",
   "execution_count": null,
   "metadata": {},
   "outputs": [],
   "source": [
    "import pickle\n",
    "WCC_PD_PATH = \"../data/wcc_pd.pkl\"\n",
    "\n",
    "with open(WCC_PD_PATH, \"wb\") as file:\n",
    "    pickle.dump(wcc_df, file)"
   ]
  },
  {
   "cell_type": "code",
   "execution_count": null,
   "metadata": {},
   "outputs": [],
   "source": []
  }
 ],
 "metadata": {
  "colab": {
   "collapsed_sections": [],
   "name": "Copy of Abdallah - Copy of final project.ipynb",
   "provenance": [
    {
     "file_id": "15M7mGpvkAqoxI_Zfr1eDwzSDriIi0Rag",
     "timestamp": 1574302635518
    }
   ],
   "toc_visible": true
  },
  "kernelspec": {
   "display_name": "Python 3",
   "language": "python",
   "name": "python3"
  },
  "language_info": {
   "codemirror_mode": {
    "name": "ipython",
    "version": 3
   },
   "file_extension": ".py",
   "mimetype": "text/x-python",
   "name": "python",
   "nbconvert_exporter": "python",
   "pygments_lexer": "ipython3",
   "version": "3.7.6"
  }
 },
 "nbformat": 4,
 "nbformat_minor": 1
}
